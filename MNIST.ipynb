{
  "cells": [
    {
      "cell_type": "code",
      "execution_count": 8,
      "metadata": {
        "id": "gvjgI-et1Jq9"
      },
      "outputs": [
        {
          "name": "stdout",
          "output_type": "stream",
          "text": [
            "zsh:1: 2.0.0 not found\n",
            "zsh:1: 0.15.0 not found\n",
            "zsh:1: 1.21.0 not found\n",
            "zsh:1: 4.65.0 not found\n",
            "zsh:1: 3.5.0 not found\n",
            "zsh:1: 1.0.0 not found\n"
          ]
        }
      ],
      "source": [
        "!pip install torch>=2.0.0\n",
        "!pip install torchvision>=0.15.0\n",
        "!pip install numpy>=1.21.0\n",
        "!pip install tqdm>=4.65.0\n",
        "!pip install matplotlib>=3.5.0\n",
        "!pip install scikit-learn>=1.0.0"
      ]
    },
    {
      "cell_type": "code",
      "execution_count": 9,
      "metadata": {
        "colab": {
          "base_uri": "https://localhost:8080/"
        },
        "id": "QsiIm_EnP-zk",
        "outputId": "e2c5fd5d-f215-4c55-bd10-f9e48ac80052"
      },
      "outputs": [
        {
          "name": "stdout",
          "output_type": "stream",
          "text": [
            "rm: /Users/admin/.cache/gdown/cookies.json: No such file or directory\n"
          ]
        }
      ],
      "source": [
        "!rm ~/.cache/gdown/cookies.json"
      ]
    },
    {
      "cell_type": "code",
      "execution_count": 10,
      "metadata": {
        "colab": {
          "base_uri": "https://localhost:8080/"
        },
        "id": "pTkFZecrQBim",
        "outputId": "53c5e335-7668-4f8a-f877-2ad5918fecec"
      },
      "outputs": [
        {
          "name": "stdout",
          "output_type": "stream",
          "text": [
            "Requirement already satisfied: gdown in /opt/anaconda3/envs/venv/lib/python3.12/site-packages (5.2.0)\n",
            "Requirement already satisfied: beautifulsoup4 in /opt/anaconda3/envs/venv/lib/python3.12/site-packages (from gdown) (4.13.3)\n",
            "Requirement already satisfied: filelock in /opt/anaconda3/envs/venv/lib/python3.12/site-packages (from gdown) (3.17.0)\n",
            "Requirement already satisfied: requests[socks] in /opt/anaconda3/envs/venv/lib/python3.12/site-packages (from gdown) (2.32.3)\n",
            "Requirement already satisfied: tqdm in /opt/anaconda3/envs/venv/lib/python3.12/site-packages (from gdown) (4.67.1)\n",
            "Requirement already satisfied: soupsieve>1.2 in /opt/anaconda3/envs/venv/lib/python3.12/site-packages (from beautifulsoup4->gdown) (2.6)\n",
            "Requirement already satisfied: typing-extensions>=4.0.0 in /opt/anaconda3/envs/venv/lib/python3.12/site-packages (from beautifulsoup4->gdown) (4.12.2)\n",
            "Requirement already satisfied: charset-normalizer<4,>=2 in /opt/anaconda3/envs/venv/lib/python3.12/site-packages (from requests[socks]->gdown) (3.4.1)\n",
            "Requirement already satisfied: idna<4,>=2.5 in /opt/anaconda3/envs/venv/lib/python3.12/site-packages (from requests[socks]->gdown) (3.10)\n",
            "Requirement already satisfied: urllib3<3,>=1.21.1 in /opt/anaconda3/envs/venv/lib/python3.12/site-packages (from requests[socks]->gdown) (2.3.0)\n",
            "Requirement already satisfied: certifi>=2017.4.17 in /opt/anaconda3/envs/venv/lib/python3.12/site-packages (from requests[socks]->gdown) (2025.1.31)\n",
            "Requirement already satisfied: PySocks!=1.5.7,>=1.5.6 in /opt/anaconda3/envs/venv/lib/python3.12/site-packages (from requests[socks]->gdown) (1.7.1)\n"
          ]
        }
      ],
      "source": [
        "!pip install -U --no-cache-dir gdown --pre"
      ]
    },
    {
      "cell_type": "code",
      "execution_count": 17,
      "metadata": {
        "colab": {
          "base_uri": "https://localhost:8080/",
          "height": 304
        },
        "id": "EdQidwAEDshN",
        "outputId": "1b7db770-28a9-4f6f-dbf7-070fd96b120c"
      },
      "outputs": [
        {
          "ename": "ModuleNotFoundError",
          "evalue": "No module named 'google'",
          "output_type": "error",
          "traceback": [
            "\u001b[31m---------------------------------------------------------------------------\u001b[39m",
            "\u001b[31mModuleNotFoundError\u001b[39m                       Traceback (most recent call last)",
            "\u001b[36mCell\u001b[39m\u001b[36m \u001b[39m\u001b[32mIn[17]\u001b[39m\u001b[32m, line 1\u001b[39m\n\u001b[32m----> \u001b[39m\u001b[32m1\u001b[39m \u001b[38;5;28;01mfrom\u001b[39;00m\u001b[38;5;250m \u001b[39m\u001b[34;01mgoogle\u001b[39;00m\u001b[34;01m.\u001b[39;00m\u001b[34;01mcolab\u001b[39;00m\u001b[38;5;250m \u001b[39m\u001b[38;5;28;01mimport\u001b[39;00m drive\n\u001b[32m      2\u001b[39m drive.mount(\u001b[33m'\u001b[39m\u001b[33m/content/drive\u001b[39m\u001b[33m'\u001b[39m)\n",
            "\u001b[31mModuleNotFoundError\u001b[39m: No module named 'google'"
          ]
        }
      ],
      "source": [
        "from google.colab import drive\n",
        "drive.mount('/content/drive')"
      ]
    },
    {
      "cell_type": "code",
      "execution_count": 20,
      "metadata": {
        "id": "bgCEs4kE0ttD"
      },
      "outputs": [],
      "source": [
        "import torch\n",
        "import torch.nn as nn\n",
        "import torch.nn.functional as F\n",
        "import numpy as np\n",
        "import math\n",
        "from torch.utils.data import Dataset, random_split, DataLoader\n",
        "import random\n",
        "\n",
        "class AdaptiveCorruption(nn.Module):\n",
        "    def __init__(self, input_dim, alpha=1.0, tau=0.5):\n",
        "        super().__init__()\n",
        "        self.alpha = alpha\n",
        "        self.tau = tau\n",
        "\n",
        "    def compute_uncertainty(self, x, model, num_samples=5):\n",
        "        \"\"\"Compute per-pixel uncertainty using Monte Carlo dropout\"\"\"\n",
        "        uncertainties = []\n",
        "        model.train()  # Enable dropout\n",
        "        for _ in range(num_samples):\n",
        "            pred = model(x)\n",
        "            uncertainties.append(pred)\n",
        "        model.eval()\n",
        "\n",
        "        uncertainties = torch.stack(uncertainties)\n",
        "        return torch.var(uncertainties, dim=0)\n",
        "\n",
        "    def get_corruption_mask(self, uncertainty):\n",
        "        \"\"\"Generate corruption mask based on uncertainty\"\"\"\n",
        "        # Compute corruption probabilities\n",
        "        p = torch.sigmoid(self.alpha * (uncertainty - self.tau))\n",
        "\n",
        "        # Sample mask using Gumbel-Softmax for differentiability\n",
        "        if self.training:\n",
        "            # During training, use Gumbel-Softmax relaxation\n",
        "            uniform = torch.rand_like(p)\n",
        "            gumbel = -torch.log(-torch.log(uniform + 1e-10) + 1e-10)\n",
        "            mask = torch.sigmoid((torch.log(p + 1e-10) - torch.log(1 - p + 1e-10) + gumbel) / 0.1) #so you can jointly optimize the corruption mask as well\n",
        "        else:\n",
        "            # During inference, use hard thresholding\n",
        "            mask = (p > 0.5).float()\n",
        "\n",
        "        return mask\n",
        "\n",
        "\n",
        "class AdaptiveDiffusionModel(nn.Module):\n",
        "    def __init__(self, base_model, input_dim, alpha=1.0, tau=0.5, lambda_reg=0.1):\n",
        "        super().__init__()\n",
        "        self.base_model = base_model\n",
        "        self.corruption = AdaptiveCorruption(input_dim, alpha, tau)\n",
        "        self.lambda_reg = lambda_reg\n",
        "\n",
        "    def forward(self, x, corrupted_x):\n",
        "        # Compute uncertainty\n",
        "        uncertainty = self.corruption.compute_uncertainty(corrupted_x, self.base_model)\n",
        "\n",
        "        # Get corruption mask\n",
        "        mask = self.corruption.get_corruption_mask(uncertainty)\n",
        "\n",
        "        # Apply corruption\n",
        "        noise = torch.randn_like(corrupted_x)\n",
        "        further_corrupted = mask * corrupted_x + (1 - mask) * noise\n",
        "\n",
        "        # Reconstruct\n",
        "        reconstruction = self.base_model(further_corrupted)\n",
        "\n",
        "        return reconstruction, mask\n",
        "\n",
        "    def compute_loss(self, x, corrupted_x, reconstruction, mask):\n",
        "        # Reconstruction loss\n",
        "        recon_loss = F.mse_loss(reconstruction, x)\n",
        "\n",
        "        # Regularization on mask (encourage sparsity)\n",
        "        reg_loss = self.lambda_reg * torch.mean(mask)\n",
        "\n",
        "        return recon_loss + reg_loss\n",
        "\n",
        "\n",
        "\n",
        "    @torch.no_grad()\n",
        "    def sample(self, n, num_steps):\n",
        "\n",
        "        x = torch.randn(n, 1, 28, 28).to(next(self.parameters()).device)\n",
        "\n",
        "        for _ in range(num_steps):\n",
        "            uncertainty = self.corruption.compute_uncertainty(x, self.base_model)\n",
        "\n",
        "            mask = self.corruption.get_corruption_mask(uncertainty)\n",
        "\n",
        "            noise = torch.randn_like(x)\n",
        "            corrupted_x = mask * x + (1 - mask) * noise\n",
        "\n",
        "            x = self.base_model(corrupted_x)\n",
        "\n",
        "        return x\n",
        "\n",
        "        \n",
        "class InpaintingDataset(Dataset):\n",
        "    def __init__(self, base_dataset, mask_ratio=0.5, corruption_fraction=0.1):\n",
        "        self.base_dataset = base_dataset\n",
        "        self.mask_ratio = mask_ratio\n",
        "        self.corruption_fraction = corruption_fraction\n",
        "\n",
        "        random.seed(42)\n",
        "        total_indices = list(range(len(base_dataset)))\n",
        "        self.corrupt_indices = set(random.sample(total_indices, int(len(base_dataset) * corruption_fraction)))\n",
        "\n",
        "    def __len__(self):\n",
        "        return len(self.base_dataset)\n",
        "    \n",
        "\n",
        "\n",
        "    def create_inpainting_mask(self, x, mask_ratio=0.5):\n",
        "        B, C, H, W = x.shape\n",
        "        mask = torch.rand_like(x) > mask_ratio\n",
        "        return mask\n",
        "\n",
        "\n",
        "    def apply_inpainting(self, x, mask_ratio=0.5):\n",
        "        x = x.unsqueeze(0)\n",
        "        mask = self.create_inpainting_mask(x, mask_ratio) # Zero out the pixels that should not show up --> so invert the mask\n",
        "        corrupted_x = x.masked_fill_(~mask, 0) # False is where pixel should be zero'd out in the original mask so invert it to be True\n",
        "        return corrupted_x.squeeze(0)\n",
        "\n",
        "\n",
        "    def __getitem__(self, idx):\n",
        "        x, _ = self.base_dataset[idx]\n",
        "        if idx in self.corrupt_indices:\n",
        "            corrupted_x = self.apply_inpainting(x, self.mask_ratio)\n",
        "        else:\n",
        "            corrupted_x = x \n",
        "\n",
        "        return corrupted_x\n"
      ]
    },
    {
      "cell_type": "code",
      "execution_count": null,
      "metadata": {
        "id": "aQNpvPyw1Ils"
      },
      "outputs": [],
      "source": []
    },
    {
      "cell_type": "code",
      "execution_count": 21,
      "metadata": {
        "id": "o3ygNvQr0xrZ"
      },
      "outputs": [
        {
          "name": "stderr",
          "output_type": "stream",
          "text": [
            "Epoch 1/10:   0%|          | 0/938 [00:00<?, ?it/s]\n"
          ]
        },
        {
          "ename": "KeyboardInterrupt",
          "evalue": "",
          "output_type": "error",
          "traceback": [
            "\u001b[31m---------------------------------------------------------------------------\u001b[39m",
            "\u001b[31mKeyboardInterrupt\u001b[39m                         Traceback (most recent call last)",
            "\u001b[36mCell\u001b[39m\u001b[36m \u001b[39m\u001b[32mIn[21]\u001b[39m\u001b[32m, line 180\u001b[39m\n\u001b[32m    177\u001b[39m model = AdaptiveDiffusionModel(base_model, input_dim=\u001b[32m28\u001b[39m*\u001b[32m28\u001b[39m)\n\u001b[32m    179\u001b[39m \u001b[38;5;66;03m# Train the model\u001b[39;00m\n\u001b[32m--> \u001b[39m\u001b[32m180\u001b[39m trained_model, train_loss_list, val_loss_list = \u001b[43mtrain_adaptive_diffusion\u001b[49m\u001b[43m(\u001b[49m\n\u001b[32m    181\u001b[39m \u001b[43m    \u001b[49m\u001b[43mmodel\u001b[49m\u001b[43m=\u001b[49m\u001b[43mmodel\u001b[49m\u001b[43m,\u001b[49m\n\u001b[32m    182\u001b[39m \u001b[43m    \u001b[49m\u001b[43mtrain_loader\u001b[49m\u001b[43m=\u001b[49m\u001b[43mtrain_loader\u001b[49m\u001b[43m,\u001b[49m\n\u001b[32m    183\u001b[39m \u001b[43m    \u001b[49m\u001b[43mval_loader\u001b[49m\u001b[43m=\u001b[49m\u001b[43mval_loader\u001b[49m\u001b[43m,\u001b[49m\n\u001b[32m    184\u001b[39m \u001b[43m    \u001b[49m\u001b[43mnum_epochs\u001b[49m\u001b[43m=\u001b[49m\u001b[32;43m10\u001b[39;49m\u001b[43m,\u001b[49m\n\u001b[32m    185\u001b[39m \u001b[43m    \u001b[49m\u001b[43mlearning_rate\u001b[49m\u001b[43m=\u001b[49m\u001b[32;43m1e-3\u001b[39;49m\n\u001b[32m    186\u001b[39m \u001b[43m\u001b[49m\u001b[43m)\u001b[49m\n",
            "\u001b[36mCell\u001b[39m\u001b[36m \u001b[39m\u001b[32mIn[21]\u001b[39m\u001b[32m, line 42\u001b[39m, in \u001b[36mtrain_adaptive_diffusion\u001b[39m\u001b[34m(model, train_loader, val_loader, num_epochs, learning_rate, device)\u001b[39m\n\u001b[32m     39\u001b[39m corrupted_x = corrupted_x.to(device)\n\u001b[32m     41\u001b[39m \u001b[38;5;66;03m# Forward pass\u001b[39;00m\n\u001b[32m---> \u001b[39m\u001b[32m42\u001b[39m reconstruction, mask = \u001b[43mmodel\u001b[49m\u001b[43m(\u001b[49m\u001b[43mx\u001b[49m\u001b[43m,\u001b[49m\u001b[43m \u001b[49m\u001b[43mcorrupted_x\u001b[49m\u001b[43m)\u001b[49m\n\u001b[32m     44\u001b[39m \u001b[38;5;66;03m# Compute loss\u001b[39;00m\n\u001b[32m     45\u001b[39m loss = model.compute_loss(x, corrupted_x, reconstruction, mask)\n",
            "\u001b[36mFile \u001b[39m\u001b[32m/opt/anaconda3/envs/venv/lib/python3.12/site-packages/torch/nn/modules/module.py:1739\u001b[39m, in \u001b[36mModule._wrapped_call_impl\u001b[39m\u001b[34m(self, *args, **kwargs)\u001b[39m\n\u001b[32m   1737\u001b[39m     \u001b[38;5;28;01mreturn\u001b[39;00m \u001b[38;5;28mself\u001b[39m._compiled_call_impl(*args, **kwargs)  \u001b[38;5;66;03m# type: ignore[misc]\u001b[39;00m\n\u001b[32m   1738\u001b[39m \u001b[38;5;28;01melse\u001b[39;00m:\n\u001b[32m-> \u001b[39m\u001b[32m1739\u001b[39m     \u001b[38;5;28;01mreturn\u001b[39;00m \u001b[38;5;28;43mself\u001b[39;49m\u001b[43m.\u001b[49m\u001b[43m_call_impl\u001b[49m\u001b[43m(\u001b[49m\u001b[43m*\u001b[49m\u001b[43margs\u001b[49m\u001b[43m,\u001b[49m\u001b[43m \u001b[49m\u001b[43m*\u001b[49m\u001b[43m*\u001b[49m\u001b[43mkwargs\u001b[49m\u001b[43m)\u001b[49m\n",
            "\u001b[36mFile \u001b[39m\u001b[32m/opt/anaconda3/envs/venv/lib/python3.12/site-packages/torch/nn/modules/module.py:1750\u001b[39m, in \u001b[36mModule._call_impl\u001b[39m\u001b[34m(self, *args, **kwargs)\u001b[39m\n\u001b[32m   1745\u001b[39m \u001b[38;5;66;03m# If we don't have any hooks, we want to skip the rest of the logic in\u001b[39;00m\n\u001b[32m   1746\u001b[39m \u001b[38;5;66;03m# this function, and just call forward.\u001b[39;00m\n\u001b[32m   1747\u001b[39m \u001b[38;5;28;01mif\u001b[39;00m \u001b[38;5;129;01mnot\u001b[39;00m (\u001b[38;5;28mself\u001b[39m._backward_hooks \u001b[38;5;129;01mor\u001b[39;00m \u001b[38;5;28mself\u001b[39m._backward_pre_hooks \u001b[38;5;129;01mor\u001b[39;00m \u001b[38;5;28mself\u001b[39m._forward_hooks \u001b[38;5;129;01mor\u001b[39;00m \u001b[38;5;28mself\u001b[39m._forward_pre_hooks\n\u001b[32m   1748\u001b[39m         \u001b[38;5;129;01mor\u001b[39;00m _global_backward_pre_hooks \u001b[38;5;129;01mor\u001b[39;00m _global_backward_hooks\n\u001b[32m   1749\u001b[39m         \u001b[38;5;129;01mor\u001b[39;00m _global_forward_hooks \u001b[38;5;129;01mor\u001b[39;00m _global_forward_pre_hooks):\n\u001b[32m-> \u001b[39m\u001b[32m1750\u001b[39m     \u001b[38;5;28;01mreturn\u001b[39;00m \u001b[43mforward_call\u001b[49m\u001b[43m(\u001b[49m\u001b[43m*\u001b[49m\u001b[43margs\u001b[49m\u001b[43m,\u001b[49m\u001b[43m \u001b[49m\u001b[43m*\u001b[49m\u001b[43m*\u001b[49m\u001b[43mkwargs\u001b[49m\u001b[43m)\u001b[49m\n\u001b[32m   1752\u001b[39m result = \u001b[38;5;28;01mNone\u001b[39;00m\n\u001b[32m   1753\u001b[39m called_always_called_hooks = \u001b[38;5;28mset\u001b[39m()\n",
            "\u001b[36mCell\u001b[39m\u001b[36m \u001b[39m\u001b[32mIn[20]\u001b[39m\u001b[32m, line 54\u001b[39m, in \u001b[36mAdaptiveDiffusionModel.forward\u001b[39m\u001b[34m(self, x, corrupted_x)\u001b[39m\n\u001b[32m     52\u001b[39m \u001b[38;5;28;01mdef\u001b[39;00m\u001b[38;5;250m \u001b[39m\u001b[34mforward\u001b[39m(\u001b[38;5;28mself\u001b[39m, x, corrupted_x):\n\u001b[32m     53\u001b[39m     \u001b[38;5;66;03m# Compute uncertainty\u001b[39;00m\n\u001b[32m---> \u001b[39m\u001b[32m54\u001b[39m     uncertainty = \u001b[38;5;28;43mself\u001b[39;49m\u001b[43m.\u001b[49m\u001b[43mcorruption\u001b[49m\u001b[43m.\u001b[49m\u001b[43mcompute_uncertainty\u001b[49m\u001b[43m(\u001b[49m\u001b[43mcorrupted_x\u001b[49m\u001b[43m,\u001b[49m\u001b[43m \u001b[49m\u001b[38;5;28;43mself\u001b[39;49m\u001b[43m.\u001b[49m\u001b[43mbase_model\u001b[49m\u001b[43m)\u001b[49m\n\u001b[32m     56\u001b[39m     \u001b[38;5;66;03m# Get corruption mask\u001b[39;00m\n\u001b[32m     57\u001b[39m     mask = \u001b[38;5;28mself\u001b[39m.corruption.get_corruption_mask(uncertainty)\n",
            "\u001b[36mCell\u001b[39m\u001b[36m \u001b[39m\u001b[32mIn[20]\u001b[39m\u001b[32m, line 20\u001b[39m, in \u001b[36mAdaptiveCorruption.compute_uncertainty\u001b[39m\u001b[34m(self, x, model, num_samples)\u001b[39m\n\u001b[32m     18\u001b[39m model.train()  \u001b[38;5;66;03m# Enable dropout\u001b[39;00m\n\u001b[32m     19\u001b[39m \u001b[38;5;28;01mfor\u001b[39;00m _ \u001b[38;5;129;01min\u001b[39;00m \u001b[38;5;28mrange\u001b[39m(num_samples):\n\u001b[32m---> \u001b[39m\u001b[32m20\u001b[39m     pred = \u001b[43mmodel\u001b[49m\u001b[43m(\u001b[49m\u001b[43mx\u001b[49m\u001b[43m)\u001b[49m\n\u001b[32m     21\u001b[39m     uncertainties.append(pred)\n\u001b[32m     22\u001b[39m model.eval()\n",
            "\u001b[36mFile \u001b[39m\u001b[32m/opt/anaconda3/envs/venv/lib/python3.12/site-packages/torch/nn/modules/module.py:1739\u001b[39m, in \u001b[36mModule._wrapped_call_impl\u001b[39m\u001b[34m(self, *args, **kwargs)\u001b[39m\n\u001b[32m   1737\u001b[39m     \u001b[38;5;28;01mreturn\u001b[39;00m \u001b[38;5;28mself\u001b[39m._compiled_call_impl(*args, **kwargs)  \u001b[38;5;66;03m# type: ignore[misc]\u001b[39;00m\n\u001b[32m   1738\u001b[39m \u001b[38;5;28;01melse\u001b[39;00m:\n\u001b[32m-> \u001b[39m\u001b[32m1739\u001b[39m     \u001b[38;5;28;01mreturn\u001b[39;00m \u001b[38;5;28;43mself\u001b[39;49m\u001b[43m.\u001b[49m\u001b[43m_call_impl\u001b[49m\u001b[43m(\u001b[49m\u001b[43m*\u001b[49m\u001b[43margs\u001b[49m\u001b[43m,\u001b[49m\u001b[43m \u001b[49m\u001b[43m*\u001b[49m\u001b[43m*\u001b[49m\u001b[43mkwargs\u001b[49m\u001b[43m)\u001b[49m\n",
            "\u001b[36mFile \u001b[39m\u001b[32m/opt/anaconda3/envs/venv/lib/python3.12/site-packages/torch/nn/modules/module.py:1750\u001b[39m, in \u001b[36mModule._call_impl\u001b[39m\u001b[34m(self, *args, **kwargs)\u001b[39m\n\u001b[32m   1745\u001b[39m \u001b[38;5;66;03m# If we don't have any hooks, we want to skip the rest of the logic in\u001b[39;00m\n\u001b[32m   1746\u001b[39m \u001b[38;5;66;03m# this function, and just call forward.\u001b[39;00m\n\u001b[32m   1747\u001b[39m \u001b[38;5;28;01mif\u001b[39;00m \u001b[38;5;129;01mnot\u001b[39;00m (\u001b[38;5;28mself\u001b[39m._backward_hooks \u001b[38;5;129;01mor\u001b[39;00m \u001b[38;5;28mself\u001b[39m._backward_pre_hooks \u001b[38;5;129;01mor\u001b[39;00m \u001b[38;5;28mself\u001b[39m._forward_hooks \u001b[38;5;129;01mor\u001b[39;00m \u001b[38;5;28mself\u001b[39m._forward_pre_hooks\n\u001b[32m   1748\u001b[39m         \u001b[38;5;129;01mor\u001b[39;00m _global_backward_pre_hooks \u001b[38;5;129;01mor\u001b[39;00m _global_backward_hooks\n\u001b[32m   1749\u001b[39m         \u001b[38;5;129;01mor\u001b[39;00m _global_forward_hooks \u001b[38;5;129;01mor\u001b[39;00m _global_forward_pre_hooks):\n\u001b[32m-> \u001b[39m\u001b[32m1750\u001b[39m     \u001b[38;5;28;01mreturn\u001b[39;00m \u001b[43mforward_call\u001b[49m\u001b[43m(\u001b[49m\u001b[43m*\u001b[49m\u001b[43margs\u001b[49m\u001b[43m,\u001b[49m\u001b[43m \u001b[49m\u001b[43m*\u001b[49m\u001b[43m*\u001b[49m\u001b[43mkwargs\u001b[49m\u001b[43m)\u001b[49m\n\u001b[32m   1752\u001b[39m result = \u001b[38;5;28;01mNone\u001b[39;00m\n\u001b[32m   1753\u001b[39m called_always_called_hooks = \u001b[38;5;28mset\u001b[39m()\n",
            "\u001b[36mCell\u001b[39m\u001b[36m \u001b[39m\u001b[32mIn[21]\u001b[39m\u001b[32m, line 174\u001b[39m, in \u001b[36mBaseModel.forward\u001b[39m\u001b[34m(self, x)\u001b[39m\n\u001b[32m    172\u001b[39m \u001b[38;5;28;01mdef\u001b[39;00m\u001b[38;5;250m \u001b[39m\u001b[34mforward\u001b[39m(\u001b[38;5;28mself\u001b[39m, x):\n\u001b[32m    173\u001b[39m     x = \u001b[38;5;28mself\u001b[39m.encoder(x)\n\u001b[32m--> \u001b[39m\u001b[32m174\u001b[39m     \u001b[38;5;28;01mreturn\u001b[39;00m \u001b[38;5;28;43mself\u001b[39;49m\u001b[43m.\u001b[49m\u001b[43mdecoder\u001b[49m\u001b[43m(\u001b[49m\u001b[43mx\u001b[49m\u001b[43m)\u001b[49m\n",
            "\u001b[36mFile \u001b[39m\u001b[32m/opt/anaconda3/envs/venv/lib/python3.12/site-packages/torch/nn/modules/module.py:1739\u001b[39m, in \u001b[36mModule._wrapped_call_impl\u001b[39m\u001b[34m(self, *args, **kwargs)\u001b[39m\n\u001b[32m   1737\u001b[39m     \u001b[38;5;28;01mreturn\u001b[39;00m \u001b[38;5;28mself\u001b[39m._compiled_call_impl(*args, **kwargs)  \u001b[38;5;66;03m# type: ignore[misc]\u001b[39;00m\n\u001b[32m   1738\u001b[39m \u001b[38;5;28;01melse\u001b[39;00m:\n\u001b[32m-> \u001b[39m\u001b[32m1739\u001b[39m     \u001b[38;5;28;01mreturn\u001b[39;00m \u001b[38;5;28;43mself\u001b[39;49m\u001b[43m.\u001b[49m\u001b[43m_call_impl\u001b[49m\u001b[43m(\u001b[49m\u001b[43m*\u001b[49m\u001b[43margs\u001b[49m\u001b[43m,\u001b[49m\u001b[43m \u001b[49m\u001b[43m*\u001b[49m\u001b[43m*\u001b[49m\u001b[43mkwargs\u001b[49m\u001b[43m)\u001b[49m\n",
            "\u001b[36mFile \u001b[39m\u001b[32m/opt/anaconda3/envs/venv/lib/python3.12/site-packages/torch/nn/modules/module.py:1750\u001b[39m, in \u001b[36mModule._call_impl\u001b[39m\u001b[34m(self, *args, **kwargs)\u001b[39m\n\u001b[32m   1745\u001b[39m \u001b[38;5;66;03m# If we don't have any hooks, we want to skip the rest of the logic in\u001b[39;00m\n\u001b[32m   1746\u001b[39m \u001b[38;5;66;03m# this function, and just call forward.\u001b[39;00m\n\u001b[32m   1747\u001b[39m \u001b[38;5;28;01mif\u001b[39;00m \u001b[38;5;129;01mnot\u001b[39;00m (\u001b[38;5;28mself\u001b[39m._backward_hooks \u001b[38;5;129;01mor\u001b[39;00m \u001b[38;5;28mself\u001b[39m._backward_pre_hooks \u001b[38;5;129;01mor\u001b[39;00m \u001b[38;5;28mself\u001b[39m._forward_hooks \u001b[38;5;129;01mor\u001b[39;00m \u001b[38;5;28mself\u001b[39m._forward_pre_hooks\n\u001b[32m   1748\u001b[39m         \u001b[38;5;129;01mor\u001b[39;00m _global_backward_pre_hooks \u001b[38;5;129;01mor\u001b[39;00m _global_backward_hooks\n\u001b[32m   1749\u001b[39m         \u001b[38;5;129;01mor\u001b[39;00m _global_forward_hooks \u001b[38;5;129;01mor\u001b[39;00m _global_forward_pre_hooks):\n\u001b[32m-> \u001b[39m\u001b[32m1750\u001b[39m     \u001b[38;5;28;01mreturn\u001b[39;00m \u001b[43mforward_call\u001b[49m\u001b[43m(\u001b[49m\u001b[43m*\u001b[49m\u001b[43margs\u001b[49m\u001b[43m,\u001b[49m\u001b[43m \u001b[49m\u001b[43m*\u001b[49m\u001b[43m*\u001b[49m\u001b[43mkwargs\u001b[49m\u001b[43m)\u001b[49m\n\u001b[32m   1752\u001b[39m result = \u001b[38;5;28;01mNone\u001b[39;00m\n\u001b[32m   1753\u001b[39m called_always_called_hooks = \u001b[38;5;28mset\u001b[39m()\n",
            "\u001b[36mFile \u001b[39m\u001b[32m/opt/anaconda3/envs/venv/lib/python3.12/site-packages/torch/nn/modules/container.py:250\u001b[39m, in \u001b[36mSequential.forward\u001b[39m\u001b[34m(self, input)\u001b[39m\n\u001b[32m    248\u001b[39m \u001b[38;5;28;01mdef\u001b[39;00m\u001b[38;5;250m \u001b[39m\u001b[34mforward\u001b[39m(\u001b[38;5;28mself\u001b[39m, \u001b[38;5;28minput\u001b[39m):\n\u001b[32m    249\u001b[39m     \u001b[38;5;28;01mfor\u001b[39;00m module \u001b[38;5;129;01min\u001b[39;00m \u001b[38;5;28mself\u001b[39m:\n\u001b[32m--> \u001b[39m\u001b[32m250\u001b[39m         \u001b[38;5;28minput\u001b[39m = \u001b[43mmodule\u001b[49m\u001b[43m(\u001b[49m\u001b[38;5;28;43minput\u001b[39;49m\u001b[43m)\u001b[49m\n\u001b[32m    251\u001b[39m     \u001b[38;5;28;01mreturn\u001b[39;00m \u001b[38;5;28minput\u001b[39m\n",
            "\u001b[36mFile \u001b[39m\u001b[32m/opt/anaconda3/envs/venv/lib/python3.12/site-packages/torch/nn/modules/module.py:1739\u001b[39m, in \u001b[36mModule._wrapped_call_impl\u001b[39m\u001b[34m(self, *args, **kwargs)\u001b[39m\n\u001b[32m   1737\u001b[39m     \u001b[38;5;28;01mreturn\u001b[39;00m \u001b[38;5;28mself\u001b[39m._compiled_call_impl(*args, **kwargs)  \u001b[38;5;66;03m# type: ignore[misc]\u001b[39;00m\n\u001b[32m   1738\u001b[39m \u001b[38;5;28;01melse\u001b[39;00m:\n\u001b[32m-> \u001b[39m\u001b[32m1739\u001b[39m     \u001b[38;5;28;01mreturn\u001b[39;00m \u001b[38;5;28;43mself\u001b[39;49m\u001b[43m.\u001b[49m\u001b[43m_call_impl\u001b[49m\u001b[43m(\u001b[49m\u001b[43m*\u001b[49m\u001b[43margs\u001b[49m\u001b[43m,\u001b[49m\u001b[43m \u001b[49m\u001b[43m*\u001b[49m\u001b[43m*\u001b[49m\u001b[43mkwargs\u001b[49m\u001b[43m)\u001b[49m\n",
            "\u001b[36mFile \u001b[39m\u001b[32m/opt/anaconda3/envs/venv/lib/python3.12/site-packages/torch/nn/modules/module.py:1750\u001b[39m, in \u001b[36mModule._call_impl\u001b[39m\u001b[34m(self, *args, **kwargs)\u001b[39m\n\u001b[32m   1745\u001b[39m \u001b[38;5;66;03m# If we don't have any hooks, we want to skip the rest of the logic in\u001b[39;00m\n\u001b[32m   1746\u001b[39m \u001b[38;5;66;03m# this function, and just call forward.\u001b[39;00m\n\u001b[32m   1747\u001b[39m \u001b[38;5;28;01mif\u001b[39;00m \u001b[38;5;129;01mnot\u001b[39;00m (\u001b[38;5;28mself\u001b[39m._backward_hooks \u001b[38;5;129;01mor\u001b[39;00m \u001b[38;5;28mself\u001b[39m._backward_pre_hooks \u001b[38;5;129;01mor\u001b[39;00m \u001b[38;5;28mself\u001b[39m._forward_hooks \u001b[38;5;129;01mor\u001b[39;00m \u001b[38;5;28mself\u001b[39m._forward_pre_hooks\n\u001b[32m   1748\u001b[39m         \u001b[38;5;129;01mor\u001b[39;00m _global_backward_pre_hooks \u001b[38;5;129;01mor\u001b[39;00m _global_backward_hooks\n\u001b[32m   1749\u001b[39m         \u001b[38;5;129;01mor\u001b[39;00m _global_forward_hooks \u001b[38;5;129;01mor\u001b[39;00m _global_forward_pre_hooks):\n\u001b[32m-> \u001b[39m\u001b[32m1750\u001b[39m     \u001b[38;5;28;01mreturn\u001b[39;00m \u001b[43mforward_call\u001b[49m\u001b[43m(\u001b[49m\u001b[43m*\u001b[49m\u001b[43margs\u001b[49m\u001b[43m,\u001b[49m\u001b[43m \u001b[49m\u001b[43m*\u001b[49m\u001b[43m*\u001b[49m\u001b[43mkwargs\u001b[49m\u001b[43m)\u001b[49m\n\u001b[32m   1752\u001b[39m result = \u001b[38;5;28;01mNone\u001b[39;00m\n\u001b[32m   1753\u001b[39m called_always_called_hooks = \u001b[38;5;28mset\u001b[39m()\n",
            "\u001b[36mFile \u001b[39m\u001b[32m/opt/anaconda3/envs/venv/lib/python3.12/site-packages/torch/nn/modules/conv.py:1162\u001b[39m, in \u001b[36mConvTranspose2d.forward\u001b[39m\u001b[34m(self, input, output_size)\u001b[39m\n\u001b[32m   1151\u001b[39m num_spatial_dims = \u001b[32m2\u001b[39m\n\u001b[32m   1152\u001b[39m output_padding = \u001b[38;5;28mself\u001b[39m._output_padding(\n\u001b[32m   1153\u001b[39m     \u001b[38;5;28minput\u001b[39m,\n\u001b[32m   1154\u001b[39m     output_size,\n\u001b[32m   (...)\u001b[39m\u001b[32m   1159\u001b[39m     \u001b[38;5;28mself\u001b[39m.dilation,  \u001b[38;5;66;03m# type: ignore[arg-type]\u001b[39;00m\n\u001b[32m   1160\u001b[39m )\n\u001b[32m-> \u001b[39m\u001b[32m1162\u001b[39m \u001b[38;5;28;01mreturn\u001b[39;00m \u001b[43mF\u001b[49m\u001b[43m.\u001b[49m\u001b[43mconv_transpose2d\u001b[49m\u001b[43m(\u001b[49m\n\u001b[32m   1163\u001b[39m \u001b[43m    \u001b[49m\u001b[38;5;28;43minput\u001b[39;49m\u001b[43m,\u001b[49m\n\u001b[32m   1164\u001b[39m \u001b[43m    \u001b[49m\u001b[38;5;28;43mself\u001b[39;49m\u001b[43m.\u001b[49m\u001b[43mweight\u001b[49m\u001b[43m,\u001b[49m\n\u001b[32m   1165\u001b[39m \u001b[43m    \u001b[49m\u001b[38;5;28;43mself\u001b[39;49m\u001b[43m.\u001b[49m\u001b[43mbias\u001b[49m\u001b[43m,\u001b[49m\n\u001b[32m   1166\u001b[39m \u001b[43m    \u001b[49m\u001b[38;5;28;43mself\u001b[39;49m\u001b[43m.\u001b[49m\u001b[43mstride\u001b[49m\u001b[43m,\u001b[49m\n\u001b[32m   1167\u001b[39m \u001b[43m    \u001b[49m\u001b[38;5;28;43mself\u001b[39;49m\u001b[43m.\u001b[49m\u001b[43mpadding\u001b[49m\u001b[43m,\u001b[49m\n\u001b[32m   1168\u001b[39m \u001b[43m    \u001b[49m\u001b[43moutput_padding\u001b[49m\u001b[43m,\u001b[49m\n\u001b[32m   1169\u001b[39m \u001b[43m    \u001b[49m\u001b[38;5;28;43mself\u001b[39;49m\u001b[43m.\u001b[49m\u001b[43mgroups\u001b[49m\u001b[43m,\u001b[49m\n\u001b[32m   1170\u001b[39m \u001b[43m    \u001b[49m\u001b[38;5;28;43mself\u001b[39;49m\u001b[43m.\u001b[49m\u001b[43mdilation\u001b[49m\u001b[43m,\u001b[49m\n\u001b[32m   1171\u001b[39m \u001b[43m\u001b[49m\u001b[43m)\u001b[49m\n",
            "\u001b[31mKeyboardInterrupt\u001b[39m: "
          ]
        }
      ],
      "source": [
        "import torch\n",
        "import torch.nn as nn\n",
        "import torch.optim as optim\n",
        "from torch.utils.data import DataLoader\n",
        "from tqdm import tqdm\n",
        "import numpy as np\n",
        "import matplotlib.pyplot as plt #going to plot these losses\n",
        "import os\n",
        "import zipfile\n",
        "import pandas as pd\n",
        "from PIL import Image\n",
        "import torchvision.transforms as transforms\n",
        "from torchvision.datasets import MNIST\n",
        "from torchvision.utils import save_image\n",
        "\n",
        "\n",
        "def train_adaptive_diffusion(\n",
        "    model,\n",
        "    train_loader,\n",
        "    val_loader,\n",
        "    num_epochs,\n",
        "    learning_rate,\n",
        "    device='cuda' if torch.cuda.is_available() else 'cpu'\n",
        "):\n",
        "    model = model.to(device)\n",
        "    optimizer = optim.Adam(model.parameters(), lr=learning_rate)\n",
        "\n",
        "    train_loss_list = []\n",
        "    val_loss_list = []\n",
        "\n",
        "    best_val_loss = float('inf')\n",
        "\n",
        "    for epoch in range(num_epochs):\n",
        "        # Training phase\n",
        "        model.train()\n",
        "        train_loss = 0\n",
        "        for x, corrupted_x in tqdm(train_loader, desc=f'Epoch {epoch+1}/{num_epochs}'):\n",
        "            x = x.to(device)\n",
        "            corrupted_x = corrupted_x.to(device)\n",
        "\n",
        "            # Forward pass\n",
        "            reconstruction, mask = model(x, corrupted_x)\n",
        "\n",
        "            # Compute loss\n",
        "            loss = model.compute_loss(x, corrupted_x, reconstruction, mask)\n",
        "\n",
        "            # Backward pass\n",
        "            optimizer.zero_grad()\n",
        "            loss.backward()\n",
        "            optimizer.step()\n",
        "\n",
        "            train_loss += loss.item()\n",
        "\n",
        "        train_loss /= len(train_loader)\n",
        "\n",
        "        # Validation phase\n",
        "        model.eval()\n",
        "        val_loss = 0\n",
        "        with torch.no_grad():\n",
        "            for x, corrupted_x in val_loader:\n",
        "                x = x.to(device)\n",
        "                corrupted_x = corrupted_x.to(device)\n",
        "\n",
        "                reconstruction, mask = model(x, corrupted_x)\n",
        "                loss = model.compute_loss(x, corrupted_x, reconstruction, mask)\n",
        "                val_loss += loss.item()\n",
        "\n",
        "        val_loss /= len(val_loader)\n",
        "\n",
        "        print(f'Epoch {epoch+1}/{num_epochs}:')\n",
        "        print(f'Train Loss: {train_loss:.4f}, Val Loss: {val_loss:.4f}')\n",
        "\n",
        "        # Save best model\n",
        "        if val_loss < best_val_loss:\n",
        "            best_val_loss = val_loss\n",
        "            torch.save(model.state_dict(), 'best_model.pth') #going to load this in\n",
        "        train_loss_list.append(train_loss)\n",
        "        val_loss_list.append(val_loss)\n",
        "\n",
        "    return model, train_loss_list, val_loss_list\n",
        "\n",
        "    \n",
        "\n",
        "if __name__ == '__main__':\n",
        "    # Example usage\n",
        "    from torchvision.datasets import CelebA\n",
        "    from torchvision.transforms import ToTensor\n",
        "\n",
        "    dataset_dir = './drive/MyDrive/img_align_celeba'\n",
        "\n",
        "    # Load dataset\n",
        "    # train_dataset = CelebA(root=dataset_dir, split='train', transform=ToTensor(), download=False)\n",
        "    # val_dataset = CelebA(root=dataset_dir, split='valid', transform=ToTensor(), download=False)\n",
        "\n",
        "    transform = transforms.Compose([\n",
        "    transforms.Resize((128, 128)),\n",
        "    transforms.ToTensor(),\n",
        "    ])\n",
        "\n",
        "    # cat_train_dataset = AFHQ(\n",
        "    #     img_dir='./drive/MyDrive/afhq/train/cat',\n",
        "    #     attr_path='/drive/MyDrive/list_attr_celeba.txt',\n",
        "    #     transform=transform\n",
        "    # )\n",
        "    # dog_train_dataset = AFHQ(\n",
        "    #     img_dir='./drive/MyDrive/afhq/train/dog',\n",
        "    #     attr_path='/drive/MyDrive/list_attr_celeba.txt',\n",
        "    #     transform=transform\n",
        "    # )\n",
        "\n",
        "    # wild_train_dataset = AFHQ(\n",
        "    #     img_dir='./drive/MyDrive/afhq/train/wild',\n",
        "    #     attr_path='/drive/MyDrive/list_attr_celeba.txt',\n",
        "    #     transform=transform\n",
        "    # )\n",
        "\n",
        "    # cat_val_dataset = AFHQ(\n",
        "    #     img_dir='./drive/MyDrive/afhq/val/cat',\n",
        "    #     attr_path='/drive/MyDrive/list_attr_celeba.txt',\n",
        "    #     transform=transform\n",
        "    # )\n",
        "\n",
        "    # dog_val_dataset = AFHQ(\n",
        "    #     img_dir='./drive/MyDrive/afhq/val/dog',\n",
        "    #     attr_path='/drive/MyDrive/list_attr_celeba.txt',\n",
        "    #     transform=transform\n",
        "    # )\n",
        "\n",
        "    # wild_val_dataset = AFHQ(\n",
        "    #     img_dir='./drive/MyDrive/afhq/val/wild',\n",
        "    #     attr_path='/drive/MyDrive/list_attr_celeba.txt',\n",
        "    #     transform=transform\n",
        "    # )\n",
        "\n",
        "    def create_corrupted(x):\n",
        "        noise = torch.randn_like(x) * 0.2\n",
        "        return x + noise\n",
        "    \n",
        "\n",
        "\n",
        "\n",
        "    base_train = MNIST(root='./data', train=True, transform=ToTensor(), download=True)\n",
        "    base_val = MNIST(root='./data', train=False, transform=ToTensor())\n",
        "\n",
        "    train_dataset = InpaintingDataset(base_train, mask_ratio=0.5)\n",
        "    val_dataset = InpaintingDataset(base_val, mask_ratio=0.5)\n",
        "\n",
        "    train_dataset = [(x, create_corrupted(x)) for x in train_dataset]\n",
        "    val_dataset = [(x, create_corrupted(x)) for x in val_dataset]\n",
        "\n",
        "    train_loader = DataLoader(train_dataset, batch_size=64, shuffle=True)\n",
        "    val_loader = DataLoader(val_dataset, batch_size=64)\n",
        "\n",
        "    # Create base model (example: simple UNet)\n",
        "    class BaseModel(nn.Module):\n",
        "        def __init__(self):\n",
        "            super().__init__()\n",
        "            self.encoder = nn.Sequential(\n",
        "                nn.Conv2d(1, 32, 3, padding=1),\n",
        "                nn.ReLU(),\n",
        "                nn.Conv2d(32, 64, 3, padding=1),\n",
        "                nn.ReLU(),\n",
        "                nn.MaxPool2d(2)\n",
        "            )\n",
        "            self.decoder = nn.Sequential(\n",
        "                nn.ConvTranspose2d(64, 32, 2, stride=2),\n",
        "                nn.ReLU(),\n",
        "                nn.Conv2d(32, 1, 3, padding=1),\n",
        "                nn.Sigmoid()\n",
        "            )\n",
        "\n",
        "        def forward(self, x):\n",
        "            x = self.encoder(x)\n",
        "            return self.decoder(x)\n",
        "\n",
        "    base_model = BaseModel()\n",
        "    model = AdaptiveDiffusionModel(base_model, input_dim=28*28)\n",
        "\n",
        "    # Train the model\n",
        "    trained_model, train_loss_list, val_loss_list = train_adaptive_diffusion(\n",
        "        model=model,\n",
        "        train_loader=train_loader,\n",
        "        val_loader=val_loader,\n",
        "        num_epochs=10,\n",
        "        learning_rate=1e-3\n",
        "    )\n"
      ]
    },
    {
      "cell_type": "markdown",
      "metadata": {
        "id": "ChLSPC1N0X6T"
      },
      "source": []
    },
    {
      "cell_type": "code",
      "execution_count": null,
      "metadata": {
        "id": "vqaRsLg8Y5KI"
      },
      "outputs": [
        {
          "data": {
            "text/plain": [
              "<matplotlib.legend.Legend at 0x148cb4440>"
            ]
          },
          "execution_count": 78,
          "metadata": {},
          "output_type": "execute_result"
        },
        {
          "data": {
            "image/png": "[encoded data removed]",
            "text/plain": [
              "<Figure size 640x480 with 1 Axes>"
            ]
          },
          "metadata": {},
          "output_type": "display_data"
        }
      ],
      "source": [
        "plt.plot([x for x in range(10)], train_loss_list)\n",
        "plt.plot([x for x in range(10)], val_loss_list)\n",
        "plt.xlabel('Epoch')\n",
        "plt.ylabel('Loss')\n",
        "plt.legend(['Training Loss', 'Validation Loss'])"
      ]
    },
    {
      "cell_type": "code",
      "execution_count": null,
      "metadata": {
        "id": "1dfOYrV6RxTd"
      },
      "outputs": [],
      "source": [
        "from torchvision.utils import make_grid, save_image\n",
        "\n",
        "# base_model = BaseModel()\n",
        "# # base_model.load_state_dict(torch.load('best_model.pth'))\n",
        "# base_model.eval()\n",
        "\n",
        "# adaptive_model = AdaptiveDiffusionModel(\n",
        "#     base_model=base_model,\n",
        "#     input_dim=28 * 28,\n",
        "#     alpha=1.0,\n",
        "#     tau=0.5,\n",
        "#     lambda_reg=0.1\n",
        "# )\n",
        "\n",
        "# adaptive_model.load_state_dict(torch.load('best_model.pth'))\n",
        "\n",
        "# adaptive_model.eval()\n",
        "\n",
        "samples = trained_model.sample(n=16, num_steps=20)\n",
        "\n",
        "os.makedirs(\"samples\", exist_ok=True)\n",
        "\n",
        "save_image(samples, \"samples/generated_grid.png\", nrow=4)\n",
        "\n",
        "\n",
        "\n"
      ]
    }
  ],
  "metadata": {
    "colab": {
      "provenance": []
    },
    "kernelspec": {
      "display_name": "venv",
      "language": "python",
      "name": "python3"
    },
    "language_info": {
      "codemirror_mode": {
        "name": "ipython",
        "version": 3
      },
      "file_extension": ".py",
      "mimetype": "text/x-python",
      "name": "python",
      "nbconvert_exporter": "python",
      "pygments_lexer": "ipython3",
      "version": "3.12.9"
    }
  },
  "nbformat": 4,
  "nbformat_minor": 0
}
