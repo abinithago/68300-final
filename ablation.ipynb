{
 "cells": [
  {
   "cell_type": "markdown",
   "metadata": {
    "id": "vTf_uTXrLLwP"
   },
   "source": [
    "## Several Other Regimes"
   ]
  },
  {
   "cell_type": "code",
   "execution_count": null,
   "metadata": {},
   "outputs": [],
   "source": [
    "# Cell 1: Imports and Setup\n",
    "import torch\n",
    "import torch.nn as nn\n",
    "import torch.nn.functional as F\n",
    "from torchvision import datasets, transforms, utils\n",
    "from torch.utils.data import DataLoader\n",
    "import matplotlib.pyplot as plt\n",
    "import numpy as np\n",
    "import os\n",
    "import math\n",
    "from tqdm import tqdm"
   ]
  },
  {
   "cell_type": "code",
   "execution_count": 2,
   "metadata": {},
   "outputs": [],
   "source": [
    "# Cell 2: Define Configurations\n",
    "configs = {\n",
    "    'baseline': {\n",
    "        'alpha': 10.0,\n",
    "        'tau': 0.5,\n",
    "        'lambda_reg': 1e-3,\n",
    "        'corruption_prob': 0.5,\n",
    "        'num_samples': 5\n",
    "    },\n",
    "    'high_uncertainty': {\n",
    "        'alpha': 20.0,\n",
    "        'tau': 0.3,\n",
    "        'lambda_reg': 1e-3,\n",
    "        'corruption_prob': 0.5,\n",
    "        'num_samples': 5\n",
    "    },\n",
    "    'low_uncertainty': {\n",
    "        'alpha': 5.0,\n",
    "        'tau': 0.7,\n",
    "        'lambda_reg': 1e-3,\n",
    "        'corruption_prob': 0.5,\n",
    "        'num_samples': 5\n",
    "    },\n",
    "    'high_corruption': {\n",
    "        'alpha': 10.0,\n",
    "        'tau': 0.5,\n",
    "        'lambda_reg': 1e-3,\n",
    "        'corruption_prob': 0.7,\n",
    "        'num_samples': 5\n",
    "    },\n",
    "    'high_samples': {\n",
    "        'alpha': 10.0,\n",
    "        'tau': 0.5,\n",
    "        'lambda_reg': 1e-3,\n",
    "        'corruption_prob': 0.5,\n",
    "        'num_samples': 10\n",
    "    }\n",
    "}\n",
    "\n"
   ]
  },
  {
   "cell_type": "code",
   "execution_count": 3,
   "metadata": {},
   "outputs": [],
   "source": [
    "# Cell 3: Model and Training Functions\n",
    "class ResidualBlock(nn.Module):\n",
    "    def __init__(self, channels):\n",
    "        super().__init__()\n",
    "        self.block = nn.Sequential(\n",
    "            nn.Conv2d(channels, channels, 3, padding=1),\n",
    "            nn.ReLU(),\n",
    "            nn.Conv2d(channels, channels, 3, padding=1)\n",
    "        )\n",
    "    def forward(self, x):\n",
    "        return x + self.block(x)\n",
    "\n",
    "class SimpleUNet(nn.Module):\n",
    "    def __init__(self, channels=32):\n",
    "        super().__init__()\n",
    "        self.down1 = nn.Conv2d(1, channels, 3, padding=1, stride=2)\n",
    "        self.down2 = nn.Conv2d(channels, channels, 3, padding=1, stride=2)\n",
    "        self.res = ResidualBlock(channels)\n",
    "        self.up1 = nn.ConvTranspose2d(channels, channels, 4, stride=2, padding=1)\n",
    "        self.up2 = nn.ConvTranspose2d(channels, 1, 4, stride=2, padding=1)\n",
    "    def forward(self, x):\n",
    "        x1 = F.relu(self.down1(x))\n",
    "        x2 = F.relu(self.down2(x1))\n",
    "        x3 = self.res(x2)\n",
    "        x4 = F.relu(self.up1(x3))\n",
    "        return torch.tanh(self.up2(x4))\n",
    "\n",
    "def compute_uncertainty(model, x, num_samples=5):\n",
    "    model.train()\n",
    "    preds = [model(x) for _ in range(num_samples)]\n",
    "    model.eval()\n",
    "    return torch.var(torch.stack(preds), dim=0).mean(1, keepdim=True)\n",
    "\n",
    "def generate_mask(uncertainty, alpha=10.0, tau=0.5):\n",
    "    prob = torch.sigmoid(alpha * (uncertainty - tau))\n",
    "    return torch.bernoulli(prob).detach()\n",
    "\n",
    "def regularize_mask(mask, lambda_reg=1e-3):\n",
    "    return lambda_reg * mask.mean()\n",
    "\n",
    "def corrupt_input(x, mask):\n",
    "    noise = torch.randn_like(x)\n",
    "    return mask * noise + (1 - mask) * x"
   ]
  },
  {
   "cell_type": "code",
   "execution_count": 4,
   "metadata": {},
   "outputs": [],
   "source": [
    "# Cell 4: Training Function\n",
    "def train_ablation(config_name, config, num_epochs=10, device='cuda' if torch.cuda.is_available() else 'cpu'):\n",
    "    print(f\"\\nRunning experiment: {config_name}\")\n",
    "    \n",
    "    # Setup data\n",
    "    transform = transforms.Compose([\n",
    "        transforms.ToTensor(),\n",
    "        transforms.Lambda(lambda x: x * 2 - 1)  # Scale to [-1, 1]\n",
    "    ])\n",
    "    mnist = datasets.MNIST(root='.', train=True, download=True, transform=transform)\n",
    "    dataloader = DataLoader(mnist, batch_size=128, shuffle=True)\n",
    "    \n",
    "    # Create models\n",
    "    model_adaptive = SimpleUNet().to(device)\n",
    "    model_random = SimpleUNet().to(device)\n",
    "    optimizer_adaptive = torch.optim.Adam(model_adaptive.parameters(), lr=1e-3)\n",
    "    optimizer_random = torch.optim.Adam(model_random.parameters(), lr=1e-3)\n",
    "    \n",
    "    # Training metrics\n",
    "    adaptive_losses = []\n",
    "    random_losses = []\n",
    "    \n",
    "    for epoch in range(num_epochs):\n",
    "        model_adaptive.train()\n",
    "        model_random.train()\n",
    "        epoch_adaptive_losses = []\n",
    "        epoch_random_losses = []\n",
    "        \n",
    "        for x, _ in tqdm(dataloader, desc=f\"Epoch {epoch+1}/{num_epochs}\"):\n",
    "            x = x.to(device)\n",
    "            \n",
    "            # Adaptive corruption\n",
    "            unc = compute_uncertainty(model_adaptive, x, config['num_samples'])\n",
    "            mask_adaptive = generate_mask(unc, config['alpha'], config['tau'])\n",
    "            x_corrupt_adaptive = corrupt_input(x, mask_adaptive)\n",
    "            pred_adaptive = model_adaptive(x_corrupt_adaptive)\n",
    "            loss_adaptive = F.mse_loss(pred_adaptive, x) + regularize_mask(mask_adaptive, config['lambda_reg'])\n",
    "            \n",
    "            optimizer_adaptive.zero_grad()\n",
    "            loss_adaptive.backward()\n",
    "            optimizer_adaptive.step()\n",
    "            \n",
    "            # Random corruption\n",
    "            mask_random = torch.bernoulli(torch.full_like(x, config['corruption_prob']))\n",
    "            x_corrupt_random = corrupt_input(x, mask_random)\n",
    "            pred_random = model_random(x_corrupt_random)\n",
    "            loss_random = F.mse_loss(pred_random, x)\n",
    "            \n",
    "            optimizer_random.zero_grad()\n",
    "            loss_random.backward()\n",
    "            optimizer_random.step()\n",
    "            \n",
    "            epoch_adaptive_losses.append(loss_adaptive.item())\n",
    "            epoch_random_losses.append(loss_random.item())\n",
    "        \n",
    "        # Record epoch losses\n",
    "        adaptive_losses.append(np.mean(epoch_adaptive_losses))\n",
    "        random_losses.append(np.mean(epoch_random_losses))\n",
    "        \n",
    "        print(f\"Epoch {epoch+1}: Adaptive Loss = {adaptive_losses[-1]:.4f}, Random Loss = {random_losses[-1]:.4f}\")\n",
    "        \n",
    "        # Save samples\n",
    "        if (epoch + 1) % 5 == 0:\n",
    "            model_adaptive.eval()\n",
    "            model_random.eval()\n",
    "            with torch.no_grad():\n",
    "                x, _ = next(iter(dataloader))\n",
    "                x = x.to(device)[:8]\n",
    "                \n",
    "                unc = compute_uncertainty(model_adaptive, x, config['num_samples'])\n",
    "                mask_adaptive = generate_mask(unc, config['alpha'], config['tau'])\n",
    "                mask_random = torch.bernoulli(torch.full_like(x, config['corruption_prob']))\n",
    "                \n",
    "                x_corrupt_adaptive = corrupt_input(x, mask_adaptive)\n",
    "                x_corrupt_random = corrupt_input(x, mask_random)\n",
    "                \n",
    "                recon_adaptive = model_adaptive(x_corrupt_adaptive)\n",
    "                recon_random = model_random(x_corrupt_random)\n",
    "                \n",
    "                # Save visualization\n",
    "                images = torch.cat([x, x_corrupt_adaptive, recon_adaptive, x_corrupt_random, recon_random], dim=0)\n",
    "                grid = utils.make_grid(images, nrow=8, normalize=True, value_range=(-1, 1))\n",
    "                plt.figure(figsize=(20, 5))\n",
    "                plt.imshow(grid.permute(1, 2, 0).cpu())\n",
    "                plt.axis('off')\n",
    "                plt.title(f\"{config_name} - Epoch {epoch+1}\")\n",
    "                plt.savefig(f'ablation_{config_name}_epoch_{epoch+1}.png')\n",
    "                plt.close()\n",
    "    \n",
    "    return {\n",
    "        'adaptive_losses': adaptive_losses,\n",
    "        'random_losses': random_losses,\n",
    "        'config': config\n",
    "    }"
   ]
  },
  {
   "cell_type": "code",
   "execution_count": 5,
   "metadata": {},
   "outputs": [],
   "source": [
    "# Cell 5: Plotting Function\n",
    "def plot_ablation_results(results):\n",
    "    # Plot losses\n",
    "    plt.figure(figsize=(12, 6))\n",
    "    for config_name, result in results.items():\n",
    "        plt.plot(result['adaptive_losses'], label=f\"{config_name} (Adaptive)\")\n",
    "        plt.plot(result['random_losses'], label=f\"{config_name} (Random)\", linestyle='--')\n",
    "    plt.title('Training Losses Across Configurations')\n",
    "    plt.xlabel('Epochs')\n",
    "    plt.ylabel('Loss')\n",
    "    plt.legend()\n",
    "    plt.savefig('ablation_losses.png')\n",
    "    plt.close()\n",
    "    \n",
    "    # Create summary table\n",
    "    summary = []\n",
    "    for config_name, result in results.items():\n",
    "        config = result['config']\n",
    "        summary.append({\n",
    "            'Configuration': config_name,\n",
    "            'Final Adaptive Loss': f\"{result['adaptive_losses'][-1]:.4f}\",\n",
    "            'Final Random Loss': f\"{result['random_losses'][-1]:.4f}\",\n",
    "            'Alpha': config['alpha'],\n",
    "            'Tau': config['tau'],\n",
    "            'Corruption Prob': config['corruption_prob'],\n",
    "            'Num Samples': config['num_samples']\n",
    "        })\n",
    "    \n",
    "    # Save summary to file\n",
    "    with open('ablation_summary.txt', 'w') as f:\n",
    "        f.write(\"Adaptive Corruption Ablation Study Summary\\n\")\n",
    "        f.write(\"========================================\\n\\n\")\n",
    "        for entry in summary:\n",
    "            f.write(f\"Configuration: {entry['Configuration']}\\n\")\n",
    "            f.write(f\"Final Adaptive Loss: {entry['Final Adaptive Loss']}\\n\")\n",
    "            f.write(f\"Final Random Loss: {entry['Final Random Loss']}\\n\")\n",
    "            f.write(f\"Alpha: {entry['Alpha']}\\n\")\n",
    "            f.write(f\"Tau: {entry['Tau']}\\n\")\n",
    "            f.write(f\"Corruption Probability: {entry['Corruption Prob']}\\n\")\n",
    "            f.write(f\"Number of Samples: {entry['Num Samples']}\\n\")\n",
    "            f.write(\"\\n\")\n",
    "\n"
   ]
  },
  {
   "cell_type": "code",
   "execution_count": 6,
   "metadata": {},
   "outputs": [
    {
     "name": "stdout",
     "output_type": "stream",
     "text": [
      "\n",
      "Running experiment: baseline\n"
     ]
    },
    {
     "name": "stderr",
     "output_type": "stream",
     "text": [
      "Epoch 1/10:   0%|          | 0/469 [00:00<?, ?it/s]"
     ]
    },
    {
     "name": "stderr",
     "output_type": "stream",
     "text": [
      "Epoch 1/10: 100%|██████████| 469/469 [00:11<00:00, 41.90it/s]\n"
     ]
    },
    {
     "name": "stdout",
     "output_type": "stream",
     "text": [
      "Epoch 1: Adaptive Loss = 0.4551, Random Loss = 0.1336\n"
     ]
    },
    {
     "name": "stderr",
     "output_type": "stream",
     "text": [
      "Epoch 2/10: 100%|██████████| 469/469 [00:10<00:00, 42.80it/s]\n"
     ]
    },
    {
     "name": "stdout",
     "output_type": "stream",
     "text": [
      "Epoch 2: Adaptive Loss = 0.4480, Random Loss = 0.0847\n"
     ]
    },
    {
     "name": "stderr",
     "output_type": "stream",
     "text": [
      "Epoch 3/10: 100%|██████████| 469/469 [00:11<00:00, 41.75it/s]\n"
     ]
    },
    {
     "name": "stdout",
     "output_type": "stream",
     "text": [
      "Epoch 3: Adaptive Loss = 0.4480, Random Loss = 0.0733\n"
     ]
    },
    {
     "name": "stderr",
     "output_type": "stream",
     "text": [
      "Epoch 4/10: 100%|██████████| 469/469 [00:11<00:00, 42.54it/s]\n"
     ]
    },
    {
     "name": "stdout",
     "output_type": "stream",
     "text": [
      "Epoch 4: Adaptive Loss = 0.4480, Random Loss = 0.0681\n"
     ]
    },
    {
     "name": "stderr",
     "output_type": "stream",
     "text": [
      "Epoch 5/10: 100%|██████████| 469/469 [00:11<00:00, 42.14it/s]\n"
     ]
    },
    {
     "name": "stdout",
     "output_type": "stream",
     "text": [
      "Epoch 5: Adaptive Loss = 0.4480, Random Loss = 0.0646\n"
     ]
    },
    {
     "name": "stderr",
     "output_type": "stream",
     "text": [
      "Epoch 6/10: 100%|██████████| 469/469 [00:09<00:00, 49.38it/s]\n"
     ]
    },
    {
     "name": "stdout",
     "output_type": "stream",
     "text": [
      "Epoch 6: Adaptive Loss = 0.4480, Random Loss = 0.0615\n"
     ]
    },
    {
     "name": "stderr",
     "output_type": "stream",
     "text": [
      "Epoch 7/10: 100%|██████████| 469/469 [00:09<00:00, 50.90it/s]\n"
     ]
    },
    {
     "name": "stdout",
     "output_type": "stream",
     "text": [
      "Epoch 7: Adaptive Loss = 0.4480, Random Loss = 0.0589\n"
     ]
    },
    {
     "name": "stderr",
     "output_type": "stream",
     "text": [
      "Epoch 8/10: 100%|██████████| 469/469 [00:09<00:00, 47.15it/s]\n"
     ]
    },
    {
     "name": "stdout",
     "output_type": "stream",
     "text": [
      "Epoch 8: Adaptive Loss = 0.4480, Random Loss = 0.0570\n"
     ]
    },
    {
     "name": "stderr",
     "output_type": "stream",
     "text": [
      "Epoch 9/10: 100%|██████████| 469/469 [00:10<00:00, 42.68it/s]\n"
     ]
    },
    {
     "name": "stdout",
     "output_type": "stream",
     "text": [
      "Epoch 9: Adaptive Loss = 0.4480, Random Loss = 0.0553\n"
     ]
    },
    {
     "name": "stderr",
     "output_type": "stream",
     "text": [
      "Epoch 10/10: 100%|██████████| 469/469 [00:10<00:00, 42.79it/s]\n"
     ]
    },
    {
     "name": "stdout",
     "output_type": "stream",
     "text": [
      "Epoch 10: Adaptive Loss = 0.4480, Random Loss = 0.0538\n",
      "\n",
      "Running experiment: high_uncertainty\n"
     ]
    },
    {
     "name": "stderr",
     "output_type": "stream",
     "text": [
      "Epoch 1/10: 100%|██████████| 469/469 [00:11<00:00, 42.44it/s]\n"
     ]
    },
    {
     "name": "stdout",
     "output_type": "stream",
     "text": [
      "Epoch 1: Adaptive Loss = 0.0332, Random Loss = 0.1421\n"
     ]
    },
    {
     "name": "stderr",
     "output_type": "stream",
     "text": [
      "Epoch 2/10: 100%|██████████| 469/469 [00:10<00:00, 42.74it/s]\n"
     ]
    },
    {
     "name": "stdout",
     "output_type": "stream",
     "text": [
      "Epoch 2: Adaptive Loss = 0.0042, Random Loss = 0.0900\n"
     ]
    },
    {
     "name": "stderr",
     "output_type": "stream",
     "text": [
      "Epoch 3/10: 100%|██████████| 469/469 [00:11<00:00, 42.61it/s]\n"
     ]
    },
    {
     "name": "stdout",
     "output_type": "stream",
     "text": [
      "Epoch 3: Adaptive Loss = 0.0032, Random Loss = 0.0746\n"
     ]
    },
    {
     "name": "stderr",
     "output_type": "stream",
     "text": [
      "Epoch 4/10: 100%|██████████| 469/469 [00:10<00:00, 43.38it/s]\n"
     ]
    },
    {
     "name": "stdout",
     "output_type": "stream",
     "text": [
      "Epoch 4: Adaptive Loss = 0.0027, Random Loss = 0.0674\n"
     ]
    },
    {
     "name": "stderr",
     "output_type": "stream",
     "text": [
      "Epoch 5/10: 100%|██████████| 469/469 [00:11<00:00, 42.30it/s]\n"
     ]
    },
    {
     "name": "stdout",
     "output_type": "stream",
     "text": [
      "Epoch 5: Adaptive Loss = 0.0024, Random Loss = 0.0635\n"
     ]
    },
    {
     "name": "stderr",
     "output_type": "stream",
     "text": [
      "Epoch 6/10: 100%|██████████| 469/469 [00:11<00:00, 42.21it/s]\n"
     ]
    },
    {
     "name": "stdout",
     "output_type": "stream",
     "text": [
      "Epoch 6: Adaptive Loss = 0.0021, Random Loss = 0.0599\n"
     ]
    },
    {
     "name": "stderr",
     "output_type": "stream",
     "text": [
      "Epoch 7/10: 100%|██████████| 469/469 [00:10<00:00, 43.62it/s]\n"
     ]
    },
    {
     "name": "stdout",
     "output_type": "stream",
     "text": [
      "Epoch 7: Adaptive Loss = 0.0020, Random Loss = 0.0578\n"
     ]
    },
    {
     "name": "stderr",
     "output_type": "stream",
     "text": [
      "Epoch 8/10: 100%|██████████| 469/469 [00:10<00:00, 43.08it/s]\n"
     ]
    },
    {
     "name": "stdout",
     "output_type": "stream",
     "text": [
      "Epoch 8: Adaptive Loss = 0.0018, Random Loss = 0.0562\n"
     ]
    },
    {
     "name": "stderr",
     "output_type": "stream",
     "text": [
      "Epoch 9/10: 100%|██████████| 469/469 [00:10<00:00, 42.81it/s]\n"
     ]
    },
    {
     "name": "stdout",
     "output_type": "stream",
     "text": [
      "Epoch 9: Adaptive Loss = 0.0017, Random Loss = 0.0546\n"
     ]
    },
    {
     "name": "stderr",
     "output_type": "stream",
     "text": [
      "Epoch 10/10: 100%|██████████| 469/469 [00:10<00:00, 43.42it/s]\n"
     ]
    },
    {
     "name": "stdout",
     "output_type": "stream",
     "text": [
      "Epoch 10: Adaptive Loss = 0.0016, Random Loss = 0.0530\n",
      "\n",
      "Running experiment: low_uncertainty\n"
     ]
    },
    {
     "name": "stderr",
     "output_type": "stream",
     "text": [
      "Epoch 1/10: 100%|██████████| 469/469 [00:10<00:00, 44.11it/s]\n"
     ]
    },
    {
     "name": "stdout",
     "output_type": "stream",
     "text": [
      "Epoch 1: Adaptive Loss = 0.0486, Random Loss = 0.4544\n"
     ]
    },
    {
     "name": "stderr",
     "output_type": "stream",
     "text": [
      "Epoch 2/10: 100%|██████████| 469/469 [00:10<00:00, 43.45it/s]\n"
     ]
    },
    {
     "name": "stdout",
     "output_type": "stream",
     "text": [
      "Epoch 2: Adaptive Loss = 0.0095, Random Loss = 0.4480\n"
     ]
    },
    {
     "name": "stderr",
     "output_type": "stream",
     "text": [
      "Epoch 3/10: 100%|██████████| 469/469 [00:10<00:00, 44.13it/s]\n"
     ]
    },
    {
     "name": "stdout",
     "output_type": "stream",
     "text": [
      "Epoch 3: Adaptive Loss = 0.0085, Random Loss = 0.4480\n"
     ]
    },
    {
     "name": "stderr",
     "output_type": "stream",
     "text": [
      "Epoch 4/10: 100%|██████████| 469/469 [00:10<00:00, 43.53it/s]\n"
     ]
    },
    {
     "name": "stdout",
     "output_type": "stream",
     "text": [
      "Epoch 4: Adaptive Loss = 0.0079, Random Loss = 0.4480\n"
     ]
    },
    {
     "name": "stderr",
     "output_type": "stream",
     "text": [
      "Epoch 5/10: 100%|██████████| 469/469 [00:10<00:00, 44.09it/s]\n"
     ]
    },
    {
     "name": "stdout",
     "output_type": "stream",
     "text": [
      "Epoch 5: Adaptive Loss = 0.0074, Random Loss = 0.4480\n"
     ]
    },
    {
     "name": "stderr",
     "output_type": "stream",
     "text": [
      "Epoch 6/10: 100%|██████████| 469/469 [00:10<00:00, 42.96it/s]\n"
     ]
    },
    {
     "name": "stdout",
     "output_type": "stream",
     "text": [
      "Epoch 6: Adaptive Loss = 0.0068, Random Loss = 0.4480\n"
     ]
    },
    {
     "name": "stderr",
     "output_type": "stream",
     "text": [
      "Epoch 7/10: 100%|██████████| 469/469 [00:11<00:00, 41.98it/s]\n"
     ]
    },
    {
     "name": "stdout",
     "output_type": "stream",
     "text": [
      "Epoch 7: Adaptive Loss = 0.0063, Random Loss = 0.4480\n"
     ]
    },
    {
     "name": "stderr",
     "output_type": "stream",
     "text": [
      "Epoch 8/10: 100%|██████████| 469/469 [00:11<00:00, 41.52it/s]\n"
     ]
    },
    {
     "name": "stdout",
     "output_type": "stream",
     "text": [
      "Epoch 8: Adaptive Loss = 0.0057, Random Loss = 0.4480\n"
     ]
    },
    {
     "name": "stderr",
     "output_type": "stream",
     "text": [
      "Epoch 9/10: 100%|██████████| 469/469 [00:10<00:00, 43.19it/s]\n"
     ]
    },
    {
     "name": "stdout",
     "output_type": "stream",
     "text": [
      "Epoch 9: Adaptive Loss = 0.0053, Random Loss = 0.4480\n"
     ]
    },
    {
     "name": "stderr",
     "output_type": "stream",
     "text": [
      "Epoch 10/10: 100%|██████████| 469/469 [00:10<00:00, 43.80it/s]\n"
     ]
    },
    {
     "name": "stdout",
     "output_type": "stream",
     "text": [
      "Epoch 10: Adaptive Loss = 0.0050, Random Loss = 0.4480\n",
      "\n",
      "Running experiment: high_corruption\n"
     ]
    },
    {
     "name": "stderr",
     "output_type": "stream",
     "text": [
      "Epoch 1/10: 100%|██████████| 469/469 [00:11<00:00, 42.20it/s]\n"
     ]
    },
    {
     "name": "stdout",
     "output_type": "stream",
     "text": [
      "Epoch 1: Adaptive Loss = 0.0380, Random Loss = 0.4559\n"
     ]
    },
    {
     "name": "stderr",
     "output_type": "stream",
     "text": [
      "Epoch 2/10: 100%|██████████| 469/469 [00:10<00:00, 43.73it/s]\n"
     ]
    },
    {
     "name": "stdout",
     "output_type": "stream",
     "text": [
      "Epoch 2: Adaptive Loss = 0.0054, Random Loss = 0.4480\n"
     ]
    },
    {
     "name": "stderr",
     "output_type": "stream",
     "text": [
      "Epoch 3/10: 100%|██████████| 469/469 [00:09<00:00, 50.87it/s]\n"
     ]
    },
    {
     "name": "stdout",
     "output_type": "stream",
     "text": [
      "Epoch 3: Adaptive Loss = 0.0044, Random Loss = 0.4480\n"
     ]
    },
    {
     "name": "stderr",
     "output_type": "stream",
     "text": [
      "Epoch 4/10: 100%|██████████| 469/469 [00:10<00:00, 43.74it/s]\n"
     ]
    },
    {
     "name": "stdout",
     "output_type": "stream",
     "text": [
      "Epoch 4: Adaptive Loss = 0.0039, Random Loss = 0.4480\n"
     ]
    },
    {
     "name": "stderr",
     "output_type": "stream",
     "text": [
      "Epoch 5/10: 100%|██████████| 469/469 [00:10<00:00, 43.40it/s]\n"
     ]
    },
    {
     "name": "stdout",
     "output_type": "stream",
     "text": [
      "Epoch 5: Adaptive Loss = 0.0036, Random Loss = 0.4480\n"
     ]
    },
    {
     "name": "stderr",
     "output_type": "stream",
     "text": [
      "Epoch 6/10: 100%|██████████| 469/469 [00:10<00:00, 43.63it/s]\n"
     ]
    },
    {
     "name": "stdout",
     "output_type": "stream",
     "text": [
      "Epoch 6: Adaptive Loss = 0.0033, Random Loss = 0.4480\n"
     ]
    },
    {
     "name": "stderr",
     "output_type": "stream",
     "text": [
      "Epoch 7/10: 100%|██████████| 469/469 [00:10<00:00, 43.29it/s]\n"
     ]
    },
    {
     "name": "stdout",
     "output_type": "stream",
     "text": [
      "Epoch 7: Adaptive Loss = 0.0032, Random Loss = 0.4480\n"
     ]
    },
    {
     "name": "stderr",
     "output_type": "stream",
     "text": [
      "Epoch 8/10: 100%|██████████| 469/469 [00:11<00:00, 42.55it/s]\n"
     ]
    },
    {
     "name": "stdout",
     "output_type": "stream",
     "text": [
      "Epoch 8: Adaptive Loss = 0.0030, Random Loss = 0.4480\n"
     ]
    },
    {
     "name": "stderr",
     "output_type": "stream",
     "text": [
      "Epoch 9/10: 100%|██████████| 469/469 [00:11<00:00, 42.08it/s]\n"
     ]
    },
    {
     "name": "stdout",
     "output_type": "stream",
     "text": [
      "Epoch 9: Adaptive Loss = 0.0029, Random Loss = 0.4480\n"
     ]
    },
    {
     "name": "stderr",
     "output_type": "stream",
     "text": [
      "Epoch 10/10: 100%|██████████| 469/469 [00:10<00:00, 42.76it/s]\n"
     ]
    },
    {
     "name": "stdout",
     "output_type": "stream",
     "text": [
      "Epoch 10: Adaptive Loss = 0.0028, Random Loss = 0.4480\n",
      "\n",
      "Running experiment: high_samples\n"
     ]
    },
    {
     "name": "stderr",
     "output_type": "stream",
     "text": [
      "Epoch 1/10: 100%|██████████| 469/469 [00:12<00:00, 37.69it/s]\n"
     ]
    },
    {
     "name": "stdout",
     "output_type": "stream",
     "text": [
      "Epoch 1: Adaptive Loss = 0.0417, Random Loss = 0.1301\n"
     ]
    },
    {
     "name": "stderr",
     "output_type": "stream",
     "text": [
      "Epoch 2/10: 100%|██████████| 469/469 [00:12<00:00, 38.38it/s]\n"
     ]
    },
    {
     "name": "stdout",
     "output_type": "stream",
     "text": [
      "Epoch 2: Adaptive Loss = 0.0054, Random Loss = 0.0823\n"
     ]
    },
    {
     "name": "stderr",
     "output_type": "stream",
     "text": [
      "Epoch 3/10: 100%|██████████| 469/469 [00:12<00:00, 37.96it/s]\n"
     ]
    },
    {
     "name": "stdout",
     "output_type": "stream",
     "text": [
      "Epoch 3: Adaptive Loss = 0.0044, Random Loss = 0.0704\n"
     ]
    },
    {
     "name": "stderr",
     "output_type": "stream",
     "text": [
      "Epoch 4/10: 100%|██████████| 469/469 [00:12<00:00, 38.14it/s]\n"
     ]
    },
    {
     "name": "stdout",
     "output_type": "stream",
     "text": [
      "Epoch 4: Adaptive Loss = 0.0039, Random Loss = 0.0658\n"
     ]
    },
    {
     "name": "stderr",
     "output_type": "stream",
     "text": [
      "Epoch 5/10: 100%|██████████| 469/469 [00:12<00:00, 38.32it/s]\n"
     ]
    },
    {
     "name": "stdout",
     "output_type": "stream",
     "text": [
      "Epoch 5: Adaptive Loss = 0.0036, Random Loss = 0.0627\n"
     ]
    },
    {
     "name": "stderr",
     "output_type": "stream",
     "text": [
      "Epoch 6/10: 100%|██████████| 469/469 [00:10<00:00, 46.69it/s]\n"
     ]
    },
    {
     "name": "stdout",
     "output_type": "stream",
     "text": [
      "Epoch 6: Adaptive Loss = 0.0033, Random Loss = 0.0595\n"
     ]
    },
    {
     "name": "stderr",
     "output_type": "stream",
     "text": [
      "Epoch 7/10: 100%|██████████| 469/469 [00:12<00:00, 37.53it/s]\n"
     ]
    },
    {
     "name": "stdout",
     "output_type": "stream",
     "text": [
      "Epoch 7: Adaptive Loss = 0.0031, Random Loss = 0.0569\n"
     ]
    },
    {
     "name": "stderr",
     "output_type": "stream",
     "text": [
      "Epoch 8/10: 100%|██████████| 469/469 [00:12<00:00, 37.99it/s]\n"
     ]
    },
    {
     "name": "stdout",
     "output_type": "stream",
     "text": [
      "Epoch 8: Adaptive Loss = 0.0030, Random Loss = 0.0554\n"
     ]
    },
    {
     "name": "stderr",
     "output_type": "stream",
     "text": [
      "Epoch 9/10: 100%|██████████| 469/469 [00:12<00:00, 38.51it/s]\n"
     ]
    },
    {
     "name": "stdout",
     "output_type": "stream",
     "text": [
      "Epoch 9: Adaptive Loss = 0.0029, Random Loss = 0.0542\n"
     ]
    },
    {
     "name": "stderr",
     "output_type": "stream",
     "text": [
      "Epoch 10/10: 100%|██████████| 469/469 [00:12<00:00, 37.87it/s]\n"
     ]
    },
    {
     "name": "stdout",
     "output_type": "stream",
     "text": [
      "Epoch 10: Adaptive Loss = 0.0028, Random Loss = 0.0529\n"
     ]
    }
   ],
   "source": [
    "# Cell 6: Run Experiments\n",
    "device = torch.device(\"cuda\" if torch.cuda.is_available() else \"cpu\")\n",
    "results = {}\n",
    "\n",
    "for config_name, config in configs.items():\n",
    "    results[config_name] = train_ablation(\n",
    "        config_name,\n",
    "        config,\n",
    "        num_epochs=10,\n",
    "        device=device\n",
    "    )\n",
    "\n",
    "# Plot and save results\n",
    "plot_ablation_results(results)\n",
    "\n"
   ]
  },
  {
   "cell_type": "code",
   "execution_count": 7,
   "metadata": {},
   "outputs": [
    {
     "name": "stdout",
     "output_type": "stream",
     "text": [
      "\n",
      "Ablation Study Results:\n",
      "======================\n",
      "\n",
      "Configuration: baseline\n",
      "Final Adaptive Loss: 0.4480\n",
      "Final Random Loss: 0.0538\n",
      "Alpha: 10.0\n",
      "Tau: 0.5\n",
      "Corruption Probability: 0.5\n",
      "Number of Samples: 5\n",
      "\n",
      "Configuration: high_uncertainty\n",
      "Final Adaptive Loss: 0.0016\n",
      "Final Random Loss: 0.0530\n",
      "Alpha: 20.0\n",
      "Tau: 0.3\n",
      "Corruption Probability: 0.5\n",
      "Number of Samples: 5\n",
      "\n",
      "Configuration: low_uncertainty\n",
      "Final Adaptive Loss: 0.0050\n",
      "Final Random Loss: 0.4480\n",
      "Alpha: 5.0\n",
      "Tau: 0.7\n",
      "Corruption Probability: 0.5\n",
      "Number of Samples: 5\n",
      "\n",
      "Configuration: high_corruption\n",
      "Final Adaptive Loss: 0.0028\n",
      "Final Random Loss: 0.4480\n",
      "Alpha: 10.0\n",
      "Tau: 0.5\n",
      "Corruption Probability: 0.7\n",
      "Number of Samples: 5\n",
      "\n",
      "Configuration: high_samples\n",
      "Final Adaptive Loss: 0.0028\n",
      "Final Random Loss: 0.0529\n",
      "Alpha: 10.0\n",
      "Tau: 0.5\n",
      "Corruption Probability: 0.5\n",
      "Number of Samples: 10\n"
     ]
    }
   ],
   "source": [
    "# Cell 7: Display Results\n",
    "print(\"\\nAblation Study Results:\")\n",
    "print(\"======================\")\n",
    "for config_name, result in results.items():\n",
    "    print(f\"\\nConfiguration: {config_name}\")\n",
    "    print(f\"Final Adaptive Loss: {result['adaptive_losses'][-1]:.4f}\")\n",
    "    print(f\"Final Random Loss: {result['random_losses'][-1]:.4f}\")\n",
    "    print(f\"Alpha: {result['config']['alpha']}\")\n",
    "    print(f\"Tau: {result['config']['tau']}\")\n",
    "    print(f\"Corruption Probability: {result['config']['corruption_prob']}\")\n",
    "    print(f\"Number of Samples: {result['config']['num_samples']}\") "
   ]
  },
  {
   "cell_type": "code",
   "execution_count": 9,
   "metadata": {},
   "outputs": [
    {
     "name": "stdout",
     "output_type": "stream",
     "text": [
      "Collecting scikit-image\n",
      "  Downloading scikit_image-0.25.2-cp312-cp312-manylinux_2_17_x86_64.manylinux2014_x86_64.whl.metadata (14 kB)\n",
      "Requirement already satisfied: numpy>=1.24 in /data/healthy-ml/scratch/abinitha/miniconda3/envs/detect/lib/python3.12/site-packages (from scikit-image) (1.26.4)\n",
      "Requirement already satisfied: scipy>=1.11.4 in /data/healthy-ml/scratch/abinitha/miniconda3/envs/detect/lib/python3.12/site-packages (from scikit-image) (1.12.0)\n",
      "Requirement already satisfied: networkx>=3.0 in /data/healthy-ml/scratch/abinitha/miniconda3/envs/detect/lib/python3.12/site-packages (from scikit-image) (3.3)\n",
      "Requirement already satisfied: pillow>=10.1 in /data/healthy-ml/scratch/abinitha/miniconda3/envs/detect/lib/python3.12/site-packages (from scikit-image) (11.0.0)\n",
      "Collecting imageio!=2.35.0,>=2.33 (from scikit-image)\n",
      "  Downloading imageio-2.37.0-py3-none-any.whl.metadata (5.2 kB)\n",
      "Collecting tifffile>=2022.8.12 (from scikit-image)\n",
      "  Downloading tifffile-2025.5.10-py3-none-any.whl.metadata (31 kB)\n",
      "Requirement already satisfied: packaging>=21 in /data/healthy-ml/scratch/abinitha/miniconda3/envs/detect/lib/python3.12/site-packages (from scikit-image) (24.1)\n",
      "Collecting lazy-loader>=0.4 (from scikit-image)\n",
      "  Downloading lazy_loader-0.4-py3-none-any.whl.metadata (7.6 kB)\n",
      "Downloading scikit_image-0.25.2-cp312-cp312-manylinux_2_17_x86_64.manylinux2014_x86_64.whl (15.0 MB)\n",
      "\u001b[2K   \u001b[90m━━━━━━━━━━━━━━━━━━━━━━━━━━━━━━━━━━━━━━━━\u001b[0m \u001b[32m15.0/15.0 MB\u001b[0m \u001b[31m24.2 MB/s\u001b[0m eta \u001b[36m0:00:00\u001b[0m00:01\u001b[0m00:01\u001b[0m\n",
      "\u001b[?25hDownloading imageio-2.37.0-py3-none-any.whl (315 kB)\n",
      "Downloading lazy_loader-0.4-py3-none-any.whl (12 kB)\n",
      "Downloading tifffile-2025.5.10-py3-none-any.whl (226 kB)\n",
      "Installing collected packages: tifffile, lazy-loader, imageio, scikit-image\n",
      "Successfully installed imageio-2.37.0 lazy-loader-0.4 scikit-image-0.25.2 tifffile-2025.5.10\n",
      "\n",
      "\u001b[1m[\u001b[0m\u001b[34;49mnotice\u001b[0m\u001b[1;39;49m]\u001b[0m\u001b[39;49m A new release of pip is available: \u001b[0m\u001b[31;49m24.3.1\u001b[0m\u001b[39;49m -> \u001b[0m\u001b[32;49m25.1.1\u001b[0m\n",
      "\u001b[1m[\u001b[0m\u001b[34;49mnotice\u001b[0m\u001b[1;39;49m]\u001b[0m\u001b[39;49m To update, run: \u001b[0m\u001b[32;49mpip install --upgrade pip\u001b[0m\n",
      "Note: you may need to restart the kernel to use updated packages.\n"
     ]
    }
   ],
   "source": [
    "pip install scikit-image"
   ]
  },
  {
   "cell_type": "code",
   "execution_count": null,
   "metadata": {},
   "outputs": [
    {
     "name": "stdout",
     "output_type": "stream",
     "text": [
      "\n",
      "Running experiment: baseline\n"
     ]
    },
    {
     "name": "stderr",
     "output_type": "stream",
     "text": [
      "Epoch 1/10: 100%|██████████| 469/469 [00:22<00:00, 20.99it/s]\n"
     ]
    },
    {
     "name": "stdout",
     "output_type": "stream",
     "text": [
      "Epoch 1:\n",
      "  Adaptive Loss = 0.0457, Random Loss = 0.4521\n",
      "  PSNR = 24.14, SSIM = 0.8617\n",
      "  Corruption Ratio = 0.0067\n",
      "  Corrupted/Uncorrupted Uncertainty = 0.0000/0.0000\n"
     ]
    },
    {
     "name": "stderr",
     "output_type": "stream",
     "text": [
      "Epoch 2/10: 100%|██████████| 469/469 [00:21<00:00, 21.83it/s]\n"
     ]
    },
    {
     "name": "stdout",
     "output_type": "stream",
     "text": [
      "Epoch 2:\n",
      "  Adaptive Loss = 0.0055, Random Loss = 0.4480\n",
      "  PSNR = 28.62, SSIM = 0.9554\n",
      "  Corruption Ratio = 0.0067\n",
      "  Corrupted/Uncorrupted Uncertainty = 0.0000/0.0000\n"
     ]
    },
    {
     "name": "stderr",
     "output_type": "stream",
     "text": [
      "Epoch 3/10: 100%|██████████| 469/469 [00:21<00:00, 21.88it/s]\n"
     ]
    },
    {
     "name": "stdout",
     "output_type": "stream",
     "text": [
      "Epoch 3:\n",
      "  Adaptive Loss = 0.0045, Random Loss = 0.4480\n",
      "  PSNR = 29.54, SSIM = 0.9619\n",
      "  Corruption Ratio = 0.0067\n",
      "  Corrupted/Uncorrupted Uncertainty = 0.0000/0.0000\n"
     ]
    },
    {
     "name": "stderr",
     "output_type": "stream",
     "text": [
      "Epoch 4/10: 100%|██████████| 469/469 [00:21<00:00, 21.72it/s]\n"
     ]
    },
    {
     "name": "stdout",
     "output_type": "stream",
     "text": [
      "Epoch 4:\n",
      "  Adaptive Loss = 0.0039, Random Loss = 0.4480\n",
      "  PSNR = 30.12, SSIM = 0.9659\n",
      "  Corruption Ratio = 0.0067\n",
      "  Corrupted/Uncorrupted Uncertainty = 0.0000/0.0000\n"
     ]
    },
    {
     "name": "stderr",
     "output_type": "stream",
     "text": [
      "Epoch 5/10: 100%|██████████| 469/469 [00:20<00:00, 22.42it/s]\n"
     ]
    },
    {
     "name": "stdout",
     "output_type": "stream",
     "text": [
      "Epoch 5:\n",
      "  Adaptive Loss = 0.0035, Random Loss = 0.4480\n",
      "  PSNR = 30.54, SSIM = 0.9686\n",
      "  Corruption Ratio = 0.0067\n",
      "  Corrupted/Uncorrupted Uncertainty = 0.0000/0.0000\n"
     ]
    },
    {
     "name": "stderr",
     "output_type": "stream",
     "text": [
      "Epoch 6/10: 100%|██████████| 469/469 [00:20<00:00, 22.46it/s]\n"
     ]
    },
    {
     "name": "stdout",
     "output_type": "stream",
     "text": [
      "Epoch 6:\n",
      "  Adaptive Loss = 0.0033, Random Loss = 0.4480\n",
      "  PSNR = 30.87, SSIM = 0.9708\n",
      "  Corruption Ratio = 0.0067\n",
      "  Corrupted/Uncorrupted Uncertainty = 0.0000/0.0000\n"
     ]
    },
    {
     "name": "stderr",
     "output_type": "stream",
     "text": [
      "Epoch 7/10: 100%|██████████| 469/469 [00:21<00:00, 22.17it/s]\n"
     ]
    },
    {
     "name": "stdout",
     "output_type": "stream",
     "text": [
      "Epoch 7:\n",
      "  Adaptive Loss = 0.0031, Random Loss = 0.4480\n",
      "  PSNR = 31.15, SSIM = 0.9726\n",
      "  Corruption Ratio = 0.0067\n",
      "  Corrupted/Uncorrupted Uncertainty = 0.0000/0.0000\n"
     ]
    },
    {
     "name": "stderr",
     "output_type": "stream",
     "text": [
      "Epoch 8/10: 100%|██████████| 469/469 [00:21<00:00, 22.28it/s]\n"
     ]
    },
    {
     "name": "stdout",
     "output_type": "stream",
     "text": [
      "Epoch 8:\n",
      "  Adaptive Loss = 0.0029, Random Loss = 0.4480\n",
      "  PSNR = 31.36, SSIM = 0.9741\n",
      "  Corruption Ratio = 0.0067\n",
      "  Corrupted/Uncorrupted Uncertainty = 0.0000/0.0000\n"
     ]
    },
    {
     "name": "stderr",
     "output_type": "stream",
     "text": [
      "Epoch 9/10: 100%|██████████| 469/469 [00:21<00:00, 22.00it/s]\n"
     ]
    },
    {
     "name": "stdout",
     "output_type": "stream",
     "text": [
      "Epoch 9:\n",
      "  Adaptive Loss = 0.0028, Random Loss = 0.4480\n",
      "  PSNR = 31.60, SSIM = 0.9758\n",
      "  Corruption Ratio = 0.0067\n",
      "  Corrupted/Uncorrupted Uncertainty = 0.0000/0.0000\n"
     ]
    },
    {
     "name": "stderr",
     "output_type": "stream",
     "text": [
      "Epoch 10/10: 100%|██████████| 469/469 [00:20<00:00, 22.38it/s]\n"
     ]
    },
    {
     "name": "stdout",
     "output_type": "stream",
     "text": [
      "Epoch 10:\n",
      "  Adaptive Loss = 0.0027, Random Loss = 0.4480\n",
      "  PSNR = 31.79, SSIM = 0.9767\n",
      "  Corruption Ratio = 0.0067\n",
      "  Corrupted/Uncorrupted Uncertainty = 0.0000/0.0000\n",
      "\n",
      "Running experiment: high_uncertainty\n"
     ]
    },
    {
     "name": "stderr",
     "output_type": "stream",
     "text": [
      "Epoch 1/10: 100%|██████████| 469/469 [00:21<00:00, 22.21it/s]\n"
     ]
    },
    {
     "name": "stdout",
     "output_type": "stream",
     "text": [
      "Epoch 1:\n",
      "  Adaptive Loss = 0.0355, Random Loss = 0.4542\n",
      "  PSNR = 24.95, SSIM = 0.8809\n",
      "  Corruption Ratio = 0.0025\n",
      "  Corrupted/Uncorrupted Uncertainty = 0.0000/0.0000\n"
     ]
    },
    {
     "name": "stderr",
     "output_type": "stream",
     "text": [
      "Epoch 2/10: 100%|██████████| 469/469 [00:21<00:00, 22.21it/s]\n"
     ]
    },
    {
     "name": "stdout",
     "output_type": "stream",
     "text": [
      "Epoch 2:\n",
      "  Adaptive Loss = 0.0045, Random Loss = 0.4480\n",
      "  PSNR = 29.50, SSIM = 0.9620\n",
      "  Corruption Ratio = 0.0025\n",
      "  Corrupted/Uncorrupted Uncertainty = 0.0000/0.0000\n"
     ]
    },
    {
     "name": "stderr",
     "output_type": "stream",
     "text": [
      "Epoch 3/10: 100%|██████████| 469/469 [00:21<00:00, 21.91it/s]\n"
     ]
    },
    {
     "name": "stdout",
     "output_type": "stream",
     "text": [
      "Epoch 3:\n",
      "  Adaptive Loss = 0.0035, Random Loss = 0.4480\n",
      "  PSNR = 30.61, SSIM = 0.9676\n",
      "  Corruption Ratio = 0.0025\n",
      "  Corrupted/Uncorrupted Uncertainty = 0.0000/0.0000\n"
     ]
    },
    {
     "name": "stderr",
     "output_type": "stream",
     "text": [
      "Epoch 4/10: 100%|██████████| 469/469 [00:21<00:00, 22.17it/s]\n"
     ]
    },
    {
     "name": "stdout",
     "output_type": "stream",
     "text": [
      "Epoch 4:\n",
      "  Adaptive Loss = 0.0029, Random Loss = 0.4480\n",
      "  PSNR = 31.38, SSIM = 0.9712\n",
      "  Corruption Ratio = 0.0025\n",
      "  Corrupted/Uncorrupted Uncertainty = 0.0000/0.0000\n"
     ]
    },
    {
     "name": "stderr",
     "output_type": "stream",
     "text": [
      "Epoch 5/10: 100%|██████████| 469/469 [00:21<00:00, 21.81it/s]\n"
     ]
    },
    {
     "name": "stdout",
     "output_type": "stream",
     "text": [
      "Epoch 5:\n",
      "  Adaptive Loss = 0.0026, Random Loss = 0.4480\n",
      "  PSNR = 31.91, SSIM = 0.9734\n",
      "  Corruption Ratio = 0.0025\n",
      "  Corrupted/Uncorrupted Uncertainty = 0.0000/0.0000\n"
     ]
    },
    {
     "name": "stderr",
     "output_type": "stream",
     "text": [
      "Epoch 6/10: 100%|██████████| 469/469 [00:21<00:00, 22.03it/s]\n"
     ]
    },
    {
     "name": "stdout",
     "output_type": "stream",
     "text": [
      "Epoch 6:\n",
      "  Adaptive Loss = 0.0023, Random Loss = 0.4480\n",
      "  PSNR = 32.33, SSIM = 0.9753\n",
      "  Corruption Ratio = 0.0025\n",
      "  Corrupted/Uncorrupted Uncertainty = 0.0000/0.0000\n"
     ]
    },
    {
     "name": "stderr",
     "output_type": "stream",
     "text": [
      "Epoch 7/10: 100%|██████████| 469/469 [00:21<00:00, 22.07it/s]\n"
     ]
    },
    {
     "name": "stdout",
     "output_type": "stream",
     "text": [
      "Epoch 7:\n",
      "  Adaptive Loss = 0.0022, Random Loss = 0.4480\n",
      "  PSNR = 32.65, SSIM = 0.9768\n",
      "  Corruption Ratio = 0.0025\n",
      "  Corrupted/Uncorrupted Uncertainty = 0.0000/0.0000\n"
     ]
    },
    {
     "name": "stderr",
     "output_type": "stream",
     "text": [
      "Epoch 8/10: 100%|██████████| 469/469 [00:21<00:00, 21.81it/s]\n"
     ]
    },
    {
     "name": "stdout",
     "output_type": "stream",
     "text": [
      "Epoch 8:\n",
      "  Adaptive Loss = 0.0020, Random Loss = 0.4480\n",
      "  PSNR = 33.02, SSIM = 0.9784\n",
      "  Corruption Ratio = 0.0025\n",
      "  Corrupted/Uncorrupted Uncertainty = 0.0000/0.0000\n"
     ]
    },
    {
     "name": "stderr",
     "output_type": "stream",
     "text": [
      "Epoch 9/10: 100%|██████████| 469/469 [00:20<00:00, 22.86it/s]\n"
     ]
    },
    {
     "name": "stdout",
     "output_type": "stream",
     "text": [
      "Epoch 9:\n",
      "  Adaptive Loss = 0.0019, Random Loss = 0.4480\n",
      "  PSNR = 33.30, SSIM = 0.9799\n",
      "  Corruption Ratio = 0.0025\n",
      "  Corrupted/Uncorrupted Uncertainty = 0.0000/0.0000\n"
     ]
    },
    {
     "name": "stderr",
     "output_type": "stream",
     "text": [
      "Epoch 10/10: 100%|██████████| 469/469 [00:21<00:00, 22.15it/s]\n"
     ]
    },
    {
     "name": "stdout",
     "output_type": "stream",
     "text": [
      "Epoch 10:\n",
      "  Adaptive Loss = 0.0018, Random Loss = 0.4480\n",
      "  PSNR = 33.58, SSIM = 0.9811\n",
      "  Corruption Ratio = 0.0025\n",
      "  Corrupted/Uncorrupted Uncertainty = 0.0000/0.0000\n",
      "\n",
      "Running experiment: low_uncertainty\n"
     ]
    },
    {
     "name": "stderr",
     "output_type": "stream",
     "text": [
      "Epoch 1/10: 100%|██████████| 469/469 [00:21<00:00, 21.90it/s]\n"
     ]
    },
    {
     "name": "stdout",
     "output_type": "stream",
     "text": [
      "Epoch 1:\n",
      "  Adaptive Loss = 0.4569, Random Loss = 0.4532\n",
      "  PSNR = 9.45, SSIM = 0.6275\n",
      "  Corruption Ratio = 0.0293\n",
      "  Corrupted/Uncorrupted Uncertainty = 0.0000/0.0000\n"
     ]
    },
    {
     "name": "stderr",
     "output_type": "stream",
     "text": [
      "Epoch 2/10: 100%|██████████| 469/469 [00:20<00:00, 22.53it/s]\n"
     ]
    },
    {
     "name": "stdout",
     "output_type": "stream",
     "text": [
      "Epoch 2:\n",
      "  Adaptive Loss = 0.4480, Random Loss = 0.4480\n",
      "  PSNR = 9.51, SSIM = 0.6428\n",
      "  Corruption Ratio = 0.0293\n",
      "  Corrupted/Uncorrupted Uncertainty = 0.0000/0.0000\n"
     ]
    },
    {
     "name": "stderr",
     "output_type": "stream",
     "text": [
      "Epoch 3/10: 100%|██████████| 469/469 [00:21<00:00, 22.25it/s]\n"
     ]
    },
    {
     "name": "stdout",
     "output_type": "stream",
     "text": [
      "Epoch 3:\n",
      "  Adaptive Loss = 0.4481, Random Loss = 0.4480\n",
      "  PSNR = 9.51, SSIM = 0.6428\n",
      "  Corruption Ratio = 0.0294\n",
      "  Corrupted/Uncorrupted Uncertainty = 0.0000/0.0000\n"
     ]
    },
    {
     "name": "stderr",
     "output_type": "stream",
     "text": [
      "Epoch 4/10: 100%|██████████| 469/469 [00:20<00:00, 22.46it/s]\n"
     ]
    },
    {
     "name": "stdout",
     "output_type": "stream",
     "text": [
      "Epoch 4:\n",
      "  Adaptive Loss = 0.4480, Random Loss = 0.4480\n",
      "  PSNR = 9.51, SSIM = 0.6428\n",
      "  Corruption Ratio = 0.0293\n",
      "  Corrupted/Uncorrupted Uncertainty = 0.0000/0.0000\n"
     ]
    },
    {
     "name": "stderr",
     "output_type": "stream",
     "text": [
      "Epoch 5/10: 100%|██████████| 469/469 [00:20<00:00, 23.34it/s]\n"
     ]
    },
    {
     "name": "stdout",
     "output_type": "stream",
     "text": [
      "Epoch 5:\n",
      "  Adaptive Loss = 0.4480, Random Loss = 0.4480\n",
      "  PSNR = 9.51, SSIM = 0.6428\n",
      "  Corruption Ratio = 0.0293\n",
      "  Corrupted/Uncorrupted Uncertainty = 0.0000/0.0000\n"
     ]
    },
    {
     "name": "stderr",
     "output_type": "stream",
     "text": [
      "Epoch 6/10: 100%|██████████| 469/469 [00:18<00:00, 24.92it/s]\n"
     ]
    },
    {
     "name": "stdout",
     "output_type": "stream",
     "text": [
      "Epoch 6:\n",
      "  Adaptive Loss = 0.4480, Random Loss = 0.4480\n",
      "  PSNR = 9.51, SSIM = 0.6428\n",
      "  Corruption Ratio = 0.0293\n",
      "  Corrupted/Uncorrupted Uncertainty = 0.0000/0.0000\n"
     ]
    },
    {
     "name": "stderr",
     "output_type": "stream",
     "text": [
      "Epoch 7/10: 100%|██████████| 469/469 [00:20<00:00, 22.65it/s]\n"
     ]
    },
    {
     "name": "stdout",
     "output_type": "stream",
     "text": [
      "Epoch 7:\n",
      "  Adaptive Loss = 0.4480, Random Loss = 0.4480\n",
      "  PSNR = 9.51, SSIM = 0.6428\n",
      "  Corruption Ratio = 0.0293\n",
      "  Corrupted/Uncorrupted Uncertainty = 0.0000/0.0000\n"
     ]
    },
    {
     "name": "stderr",
     "output_type": "stream",
     "text": [
      "Epoch 8/10: 100%|██████████| 469/469 [00:20<00:00, 22.43it/s]\n"
     ]
    },
    {
     "name": "stdout",
     "output_type": "stream",
     "text": [
      "Epoch 8:\n",
      "  Adaptive Loss = 0.4480, Random Loss = 0.4480\n",
      "  PSNR = 9.51, SSIM = 0.6428\n",
      "  Corruption Ratio = 0.0293\n",
      "  Corrupted/Uncorrupted Uncertainty = 0.0000/0.0000\n"
     ]
    },
    {
     "name": "stderr",
     "output_type": "stream",
     "text": [
      "Epoch 9/10: 100%|██████████| 469/469 [00:21<00:00, 22.28it/s]\n"
     ]
    },
    {
     "name": "stdout",
     "output_type": "stream",
     "text": [
      "Epoch 9:\n",
      "  Adaptive Loss = 0.4480, Random Loss = 0.4480\n",
      "  PSNR = 9.51, SSIM = 0.6428\n",
      "  Corruption Ratio = 0.0293\n",
      "  Corrupted/Uncorrupted Uncertainty = 0.0000/0.0000\n"
     ]
    },
    {
     "name": "stderr",
     "output_type": "stream",
     "text": [
      "Epoch 10/10: 100%|██████████| 469/469 [00:21<00:00, 22.16it/s]\n"
     ]
    },
    {
     "name": "stdout",
     "output_type": "stream",
     "text": [
      "Epoch 10:\n",
      "  Adaptive Loss = 0.4481, Random Loss = 0.4480\n",
      "  PSNR = 9.51, SSIM = 0.6428\n",
      "  Corruption Ratio = 0.0293\n",
      "  Corrupted/Uncorrupted Uncertainty = 0.0000/0.0000\n",
      "\n",
      "Running experiment: high_corruption\n"
     ]
    },
    {
     "name": "stderr",
     "output_type": "stream",
     "text": [
      "Epoch 1/10: 100%|██████████| 469/469 [00:20<00:00, 22.55it/s]\n"
     ]
    },
    {
     "name": "stdout",
     "output_type": "stream",
     "text": [
      "Epoch 1:\n",
      "  Adaptive Loss = 0.0424, Random Loss = 0.2117\n",
      "  PSNR = 24.09, SSIM = 0.8657\n",
      "  Corruption Ratio = 0.0067\n",
      "  Corrupted/Uncorrupted Uncertainty = 0.0000/0.0000\n"
     ]
    },
    {
     "name": "stderr",
     "output_type": "stream",
     "text": [
      "Epoch 2/10: 100%|██████████| 469/469 [00:21<00:00, 22.17it/s]\n"
     ]
    },
    {
     "name": "stdout",
     "output_type": "stream",
     "text": [
      "Epoch 2:\n",
      "  Adaptive Loss = 0.0056, Random Loss = 0.1685\n",
      "  PSNR = 28.60, SSIM = 0.9561\n",
      "  Corruption Ratio = 0.0067\n",
      "  Corrupted/Uncorrupted Uncertainty = 0.0000/0.0000\n"
     ]
    },
    {
     "name": "stderr",
     "output_type": "stream",
     "text": [
      "Epoch 3/10: 100%|██████████| 469/469 [00:21<00:00, 21.80it/s]\n"
     ]
    },
    {
     "name": "stdout",
     "output_type": "stream",
     "text": [
      "Epoch 3:\n",
      "  Adaptive Loss = 0.0046, Random Loss = 0.1486\n",
      "  PSNR = 29.45, SSIM = 0.9621\n",
      "  Corruption Ratio = 0.0067\n",
      "  Corrupted/Uncorrupted Uncertainty = 0.0000/0.0000\n"
     ]
    },
    {
     "name": "stderr",
     "output_type": "stream",
     "text": [
      "Epoch 4/10: 100%|██████████| 469/469 [00:21<00:00, 22.23it/s]\n"
     ]
    },
    {
     "name": "stdout",
     "output_type": "stream",
     "text": [
      "Epoch 4:\n",
      "  Adaptive Loss = 0.0040, Random Loss = 0.1402\n",
      "  PSNR = 29.98, SSIM = 0.9656\n",
      "  Corruption Ratio = 0.0067\n",
      "  Corrupted/Uncorrupted Uncertainty = 0.0000/0.0000\n"
     ]
    },
    {
     "name": "stderr",
     "output_type": "stream",
     "text": [
      "Epoch 5/10: 100%|██████████| 469/469 [00:21<00:00, 21.83it/s]\n"
     ]
    },
    {
     "name": "stdout",
     "output_type": "stream",
     "text": [
      "Epoch 5:\n",
      "  Adaptive Loss = 0.0037, Random Loss = 0.1339\n",
      "  PSNR = 30.39, SSIM = 0.9681\n",
      "  Corruption Ratio = 0.0067\n",
      "  Corrupted/Uncorrupted Uncertainty = 0.0000/0.0000\n"
     ]
    },
    {
     "name": "stderr",
     "output_type": "stream",
     "text": [
      "Epoch 6/10: 100%|██████████| 469/469 [00:20<00:00, 22.44it/s]\n"
     ]
    },
    {
     "name": "stdout",
     "output_type": "stream",
     "text": [
      "Epoch 6:\n",
      "  Adaptive Loss = 0.0034, Random Loss = 0.1289\n",
      "  PSNR = 30.73, SSIM = 0.9705\n",
      "  Corruption Ratio = 0.0067\n",
      "  Corrupted/Uncorrupted Uncertainty = 0.0000/0.0000\n"
     ]
    },
    {
     "name": "stderr",
     "output_type": "stream",
     "text": [
      "Epoch 7/10: 100%|██████████| 469/469 [00:20<00:00, 22.55it/s]\n"
     ]
    },
    {
     "name": "stdout",
     "output_type": "stream",
     "text": [
      "Epoch 7:\n",
      "  Adaptive Loss = 0.0032, Random Loss = 0.1245\n",
      "  PSNR = 31.03, SSIM = 0.9726\n",
      "  Corruption Ratio = 0.0067\n",
      "  Corrupted/Uncorrupted Uncertainty = 0.0000/0.0000\n"
     ]
    },
    {
     "name": "stderr",
     "output_type": "stream",
     "text": [
      "Epoch 8/10: 100%|██████████| 469/469 [00:21<00:00, 22.09it/s]\n"
     ]
    },
    {
     "name": "stdout",
     "output_type": "stream",
     "text": [
      "Epoch 8:\n",
      "  Adaptive Loss = 0.0030, Random Loss = 0.1215\n",
      "  PSNR = 31.28, SSIM = 0.9743\n",
      "  Corruption Ratio = 0.0067\n",
      "  Corrupted/Uncorrupted Uncertainty = 0.0000/0.0000\n"
     ]
    },
    {
     "name": "stderr",
     "output_type": "stream",
     "text": [
      "Epoch 9/10: 100%|██████████| 469/469 [00:21<00:00, 22.04it/s]\n"
     ]
    },
    {
     "name": "stdout",
     "output_type": "stream",
     "text": [
      "Epoch 9:\n",
      "  Adaptive Loss = 0.0028, Random Loss = 0.1170\n",
      "  PSNR = 31.52, SSIM = 0.9759\n",
      "  Corruption Ratio = 0.0067\n",
      "  Corrupted/Uncorrupted Uncertainty = 0.0000/0.0000\n"
     ]
    },
    {
     "name": "stderr",
     "output_type": "stream",
     "text": [
      "Epoch 10/10: 100%|██████████| 469/469 [00:21<00:00, 21.60it/s]\n"
     ]
    },
    {
     "name": "stdout",
     "output_type": "stream",
     "text": [
      "Epoch 10:\n",
      "  Adaptive Loss = 0.0027, Random Loss = 0.1112\n",
      "  PSNR = 31.76, SSIM = 0.9773\n",
      "  Corruption Ratio = 0.0067\n",
      "  Corrupted/Uncorrupted Uncertainty = 0.0000/0.0000\n",
      "\n",
      "Running experiment: high_samples\n"
     ]
    },
    {
     "name": "stderr",
     "output_type": "stream",
     "text": [
      "Epoch 1/10: 100%|██████████| 469/469 [00:21<00:00, 21.72it/s]\n"
     ]
    },
    {
     "name": "stdout",
     "output_type": "stream",
     "text": [
      "Epoch 1:\n",
      "  Adaptive Loss = 0.4551, Random Loss = 0.4532\n",
      "  PSNR = 9.46, SSIM = 0.6286\n",
      "  Corruption Ratio = 0.0067\n",
      "  Corrupted/Uncorrupted Uncertainty = 0.0000/0.0000\n"
     ]
    },
    {
     "name": "stderr",
     "output_type": "stream",
     "text": [
      "Epoch 2/10: 100%|██████████| 469/469 [00:22<00:00, 20.85it/s]\n"
     ]
    },
    {
     "name": "stdout",
     "output_type": "stream",
     "text": [
      "Epoch 2:\n",
      "  Adaptive Loss = 0.4480, Random Loss = 0.4480\n",
      "  PSNR = 9.51, SSIM = 0.6428\n",
      "  Corruption Ratio = 0.0067\n",
      "  Corrupted/Uncorrupted Uncertainty = 0.0000/0.0000\n"
     ]
    },
    {
     "name": "stderr",
     "output_type": "stream",
     "text": [
      "Epoch 3/10: 100%|██████████| 469/469 [00:21<00:00, 21.40it/s]\n"
     ]
    },
    {
     "name": "stdout",
     "output_type": "stream",
     "text": [
      "Epoch 3:\n",
      "  Adaptive Loss = 0.4480, Random Loss = 0.4480\n",
      "  PSNR = 9.51, SSIM = 0.6428\n",
      "  Corruption Ratio = 0.0067\n",
      "  Corrupted/Uncorrupted Uncertainty = 0.0000/0.0000\n"
     ]
    },
    {
     "name": "stderr",
     "output_type": "stream",
     "text": [
      "Epoch 4/10: 100%|██████████| 469/469 [00:22<00:00, 21.15it/s]\n"
     ]
    },
    {
     "name": "stdout",
     "output_type": "stream",
     "text": [
      "Epoch 4:\n",
      "  Adaptive Loss = 0.4480, Random Loss = 0.4480\n",
      "  PSNR = 9.51, SSIM = 0.6428\n",
      "  Corruption Ratio = 0.0067\n",
      "  Corrupted/Uncorrupted Uncertainty = 0.0000/0.0000\n"
     ]
    },
    {
     "name": "stderr",
     "output_type": "stream",
     "text": [
      "Epoch 5/10: 100%|██████████| 469/469 [00:22<00:00, 21.17it/s]\n"
     ]
    },
    {
     "name": "stdout",
     "output_type": "stream",
     "text": [
      "Epoch 5:\n",
      "  Adaptive Loss = 0.4480, Random Loss = 0.4480\n",
      "  PSNR = 9.51, SSIM = 0.6428\n",
      "  Corruption Ratio = 0.0067\n",
      "  Corrupted/Uncorrupted Uncertainty = 0.0000/0.0000\n"
     ]
    },
    {
     "name": "stderr",
     "output_type": "stream",
     "text": [
      "Epoch 6/10: 100%|██████████| 469/469 [00:22<00:00, 20.84it/s]\n"
     ]
    },
    {
     "name": "stdout",
     "output_type": "stream",
     "text": [
      "Epoch 6:\n",
      "  Adaptive Loss = 0.4480, Random Loss = 0.4480\n",
      "  PSNR = 9.51, SSIM = 0.6428\n",
      "  Corruption Ratio = 0.0067\n",
      "  Corrupted/Uncorrupted Uncertainty = 0.0000/0.0000\n"
     ]
    },
    {
     "name": "stderr",
     "output_type": "stream",
     "text": [
      "Epoch 7/10: 100%|██████████| 469/469 [00:21<00:00, 21.96it/s]\n"
     ]
    },
    {
     "name": "stdout",
     "output_type": "stream",
     "text": [
      "Epoch 7:\n",
      "  Adaptive Loss = 0.4480, Random Loss = 0.4480\n",
      "  PSNR = 9.51, SSIM = 0.6428\n",
      "  Corruption Ratio = 0.0067\n",
      "  Corrupted/Uncorrupted Uncertainty = 0.0000/0.0000\n"
     ]
    },
    {
     "name": "stderr",
     "output_type": "stream",
     "text": [
      "Epoch 8/10: 100%|██████████| 469/469 [00:20<00:00, 23.18it/s]\n"
     ]
    },
    {
     "name": "stdout",
     "output_type": "stream",
     "text": [
      "Epoch 8:\n",
      "  Adaptive Loss = 0.4480, Random Loss = 0.4480\n",
      "  PSNR = 9.51, SSIM = 0.6428\n",
      "  Corruption Ratio = 0.0067\n",
      "  Corrupted/Uncorrupted Uncertainty = 0.0000/0.0000\n"
     ]
    },
    {
     "name": "stderr",
     "output_type": "stream",
     "text": [
      "Epoch 9/10: 100%|██████████| 469/469 [00:22<00:00, 21.14it/s]\n"
     ]
    },
    {
     "name": "stdout",
     "output_type": "stream",
     "text": [
      "Epoch 9:\n",
      "  Adaptive Loss = 0.4480, Random Loss = 0.4480\n",
      "  PSNR = 9.51, SSIM = 0.6428\n",
      "  Corruption Ratio = 0.0067\n",
      "  Corrupted/Uncorrupted Uncertainty = 0.0000/0.0000\n"
     ]
    },
    {
     "name": "stderr",
     "output_type": "stream",
     "text": [
      "Epoch 10/10: 100%|██████████| 469/469 [00:22<00:00, 21.19it/s]\n"
     ]
    },
    {
     "name": "stdout",
     "output_type": "stream",
     "text": [
      "Epoch 10:\n",
      "  Adaptive Loss = 0.4480, Random Loss = 0.4480\n",
      "  PSNR = 9.51, SSIM = 0.6428\n",
      "  Corruption Ratio = 0.0067\n",
      "  Corrupted/Uncorrupted Uncertainty = 0.0000/0.0000\n",
      "\n",
      "Running experiment: inverted_uncertainty\n"
     ]
    },
    {
     "name": "stderr",
     "output_type": "stream",
     "text": [
      "Epoch 1/10: 100%|██████████| 469/469 [00:21<00:00, 22.16it/s]\n"
     ]
    },
    {
     "name": "stdout",
     "output_type": "stream",
     "text": [
      "Epoch 1:\n",
      "  Adaptive Loss = 0.4560, Random Loss = 0.4524\n",
      "  PSNR = 9.46, SSIM = 0.6294\n",
      "  Corruption Ratio = 0.9933\n",
      "  Corrupted/Uncorrupted Uncertainty = 0.0000/0.0000\n"
     ]
    },
    {
     "name": "stderr",
     "output_type": "stream",
     "text": [
      "Epoch 2/10: 100%|██████████| 469/469 [00:21<00:00, 22.28it/s]\n"
     ]
    },
    {
     "name": "stdout",
     "output_type": "stream",
     "text": [
      "Epoch 2:\n",
      "  Adaptive Loss = 0.4490, Random Loss = 0.4480\n",
      "  PSNR = 9.51, SSIM = 0.6428\n",
      "  Corruption Ratio = 0.9933\n",
      "  Corrupted/Uncorrupted Uncertainty = 0.0000/0.0000\n"
     ]
    },
    {
     "name": "stderr",
     "output_type": "stream",
     "text": [
      "Epoch 3/10: 100%|██████████| 469/469 [00:20<00:00, 22.39it/s]\n"
     ]
    },
    {
     "name": "stdout",
     "output_type": "stream",
     "text": [
      "Epoch 3:\n",
      "  Adaptive Loss = 0.4490, Random Loss = 0.4480\n",
      "  PSNR = 9.51, SSIM = 0.6428\n",
      "  Corruption Ratio = 0.9933\n",
      "  Corrupted/Uncorrupted Uncertainty = 0.0000/0.0000\n"
     ]
    },
    {
     "name": "stderr",
     "output_type": "stream",
     "text": [
      "Epoch 4/10: 100%|██████████| 469/469 [00:21<00:00, 21.91it/s]\n"
     ]
    },
    {
     "name": "stdout",
     "output_type": "stream",
     "text": [
      "Epoch 4:\n",
      "  Adaptive Loss = 0.4490, Random Loss = 0.4480\n",
      "  PSNR = 9.51, SSIM = 0.6428\n",
      "  Corruption Ratio = 0.9933\n",
      "  Corrupted/Uncorrupted Uncertainty = 0.0000/0.0000\n"
     ]
    },
    {
     "name": "stderr",
     "output_type": "stream",
     "text": [
      "Epoch 5/10: 100%|██████████| 469/469 [00:20<00:00, 22.82it/s]\n"
     ]
    },
    {
     "name": "stdout",
     "output_type": "stream",
     "text": [
      "Epoch 5:\n",
      "  Adaptive Loss = 0.4490, Random Loss = 0.4480\n",
      "  PSNR = 9.51, SSIM = 0.6428\n",
      "  Corruption Ratio = 0.9933\n",
      "  Corrupted/Uncorrupted Uncertainty = 0.0000/0.0000\n"
     ]
    },
    {
     "name": "stderr",
     "output_type": "stream",
     "text": [
      "Epoch 6/10: 100%|██████████| 469/469 [00:21<00:00, 21.95it/s]\n"
     ]
    },
    {
     "name": "stdout",
     "output_type": "stream",
     "text": [
      "Epoch 6:\n",
      "  Adaptive Loss = 0.4490, Random Loss = 0.4480\n",
      "  PSNR = 9.51, SSIM = 0.6428\n",
      "  Corruption Ratio = 0.9933\n",
      "  Corrupted/Uncorrupted Uncertainty = 0.0000/0.0000\n"
     ]
    },
    {
     "name": "stderr",
     "output_type": "stream",
     "text": [
      "Epoch 7/10: 100%|██████████| 469/469 [00:21<00:00, 22.24it/s]\n"
     ]
    },
    {
     "name": "stdout",
     "output_type": "stream",
     "text": [
      "Epoch 7:\n",
      "  Adaptive Loss = 0.4490, Random Loss = 0.4480\n",
      "  PSNR = 9.51, SSIM = 0.6428\n",
      "  Corruption Ratio = 0.9933\n",
      "  Corrupted/Uncorrupted Uncertainty = 0.0000/0.0000\n"
     ]
    },
    {
     "name": "stderr",
     "output_type": "stream",
     "text": [
      "Epoch 8/10: 100%|██████████| 469/469 [00:20<00:00, 22.60it/s]\n"
     ]
    },
    {
     "name": "stdout",
     "output_type": "stream",
     "text": [
      "Epoch 8:\n",
      "  Adaptive Loss = 0.4490, Random Loss = 0.4480\n",
      "  PSNR = 9.51, SSIM = 0.6428\n",
      "  Corruption Ratio = 0.9933\n",
      "  Corrupted/Uncorrupted Uncertainty = 0.0000/0.0000\n"
     ]
    },
    {
     "name": "stderr",
     "output_type": "stream",
     "text": [
      "Epoch 9/10: 100%|██████████| 469/469 [00:21<00:00, 22.31it/s]\n"
     ]
    },
    {
     "name": "stdout",
     "output_type": "stream",
     "text": [
      "Epoch 9:\n",
      "  Adaptive Loss = 0.4490, Random Loss = 0.4480\n",
      "  PSNR = 9.51, SSIM = 0.6428\n",
      "  Corruption Ratio = 0.9933\n",
      "  Corrupted/Uncorrupted Uncertainty = 0.0000/0.0000\n"
     ]
    },
    {
     "name": "stderr",
     "output_type": "stream",
     "text": [
      "Epoch 10/10: 100%|██████████| 469/469 [00:19<00:00, 23.46it/s]\n"
     ]
    },
    {
     "name": "stdout",
     "output_type": "stream",
     "text": [
      "Epoch 10:\n",
      "  Adaptive Loss = 0.4490, Random Loss = 0.4480\n",
      "  PSNR = 9.51, SSIM = 0.6428\n",
      "  Corruption Ratio = 0.9933\n",
      "  Corrupted/Uncorrupted Uncertainty = 0.0000/0.0000\n",
      "\n",
      "Ablation Study Results:\n",
      "======================\n",
      "\n",
      "Configuration: baseline\n",
      "Final Adaptive Loss: 0.0027\n",
      "Final Random Loss: 0.4480\n",
      "Final PSNR: 31.79\n",
      "Final SSIM: 0.9767\n",
      "Final Corruption Ratio: 0.0067\n",
      "Corrupted/Uncorrupted Uncertainty: 0.0000/0.0000\n",
      "Alpha: 10.0\n",
      "Tau: 0.5\n",
      "Corruption Probability: 0.5\n",
      "Number of Samples: 5\n",
      "Inverted Uncertainty: False\n",
      "\n",
      "Configuration: high_uncertainty\n",
      "Final Adaptive Loss: 0.0018\n",
      "Final Random Loss: 0.4480\n",
      "Final PSNR: 33.58\n",
      "Final SSIM: 0.9811\n",
      "Final Corruption Ratio: 0.0025\n",
      "Corrupted/Uncorrupted Uncertainty: 0.0000/0.0000\n",
      "Alpha: 20.0\n",
      "Tau: 0.3\n",
      "Corruption Probability: 0.5\n",
      "Number of Samples: 5\n",
      "Inverted Uncertainty: False\n",
      "\n",
      "Configuration: low_uncertainty\n",
      "Final Adaptive Loss: 0.4481\n",
      "Final Random Loss: 0.4480\n",
      "Final PSNR: 9.51\n",
      "Final SSIM: 0.6428\n",
      "Final Corruption Ratio: 0.0293\n",
      "Corrupted/Uncorrupted Uncertainty: 0.0000/0.0000\n",
      "Alpha: 5.0\n",
      "Tau: 0.7\n",
      "Corruption Probability: 0.5\n",
      "Number of Samples: 5\n",
      "Inverted Uncertainty: False\n",
      "\n",
      "Configuration: high_corruption\n",
      "Final Adaptive Loss: 0.0027\n",
      "Final Random Loss: 0.1112\n",
      "Final PSNR: 31.76\n",
      "Final SSIM: 0.9773\n",
      "Final Corruption Ratio: 0.0067\n",
      "Corrupted/Uncorrupted Uncertainty: 0.0000/0.0000\n",
      "Alpha: 10.0\n",
      "Tau: 0.5\n",
      "Corruption Probability: 0.7\n",
      "Number of Samples: 5\n",
      "Inverted Uncertainty: False\n",
      "\n",
      "Configuration: high_samples\n",
      "Final Adaptive Loss: 0.4480\n",
      "Final Random Loss: 0.4480\n",
      "Final PSNR: 9.51\n",
      "Final SSIM: 0.6428\n",
      "Final Corruption Ratio: 0.0067\n",
      "Corrupted/Uncorrupted Uncertainty: 0.0000/0.0000\n",
      "Alpha: 10.0\n",
      "Tau: 0.5\n",
      "Corruption Probability: 0.5\n",
      "Number of Samples: 10\n",
      "Inverted Uncertainty: False\n",
      "\n",
      "Configuration: inverted_uncertainty\n",
      "Final Adaptive Loss: 0.4490\n",
      "Final Random Loss: 0.4480\n",
      "Final PSNR: 9.51\n",
      "Final SSIM: 0.6428\n",
      "Final Corruption Ratio: 0.9933\n",
      "Corrupted/Uncorrupted Uncertainty: 0.0000/0.0000\n",
      "Alpha: 10.0\n",
      "Tau: 0.5\n",
      "Corruption Probability: 0.5\n",
      "Number of Samples: 5\n",
      "Inverted Uncertainty: True\n"
     ]
    }
   ],
   "source": [
    "# Cell 1: Imports and Setup\n",
    "import torch\n",
    "import torch.nn as nn\n",
    "import torch.nn.functional as F\n",
    "from torchvision import datasets, transforms, utils\n",
    "from torch.utils.data import DataLoader\n",
    "import matplotlib.pyplot as plt\n",
    "import numpy as np\n",
    "import os\n",
    "import math\n",
    "from tqdm import tqdm\n",
    "from skimage.metrics import structural_similarity as ssim\n",
    "from skimage.metrics import peak_signal_noise_ratio as psnr\n",
    "\n",
    "# Cell 2: Define Configurations\n",
    "configs = {\n",
    "    'baseline': {\n",
    "        'alpha': 10.0,\n",
    "        'tau': 0.5,\n",
    "        'lambda_reg': 1e-3,\n",
    "        'corruption_prob': 0.5,\n",
    "        'num_samples': 5,\n",
    "        'invert_uncertainty': False\n",
    "    },\n",
    "    'high_uncertainty': {\n",
    "        'alpha': 20.0,\n",
    "        'tau': 0.3,\n",
    "        'lambda_reg': 1e-3,\n",
    "        'corruption_prob': 0.5,\n",
    "        'num_samples': 5,\n",
    "        'invert_uncertainty': False\n",
    "    },\n",
    "    'low_uncertainty': {\n",
    "        'alpha': 5.0,\n",
    "        'tau': 0.7,\n",
    "        'lambda_reg': 1e-3,\n",
    "        'corruption_prob': 0.5,\n",
    "        'num_samples': 5,\n",
    "        'invert_uncertainty': False\n",
    "    },\n",
    "    'high_corruption': {\n",
    "        'alpha': 10.0,\n",
    "        'tau': 0.5,\n",
    "        'lambda_reg': 1e-3,\n",
    "        'corruption_prob': 0.7,\n",
    "        'num_samples': 5,\n",
    "        'invert_uncertainty': False\n",
    "    },\n",
    "    'high_samples': {\n",
    "        'alpha': 10.0,\n",
    "        'tau': 0.5,\n",
    "        'lambda_reg': 1e-3,\n",
    "        'corruption_prob': 0.5,\n",
    "        'num_samples': 10,\n",
    "        'invert_uncertainty': False\n",
    "    },\n",
    "    'inverted_uncertainty': {\n",
    "        'alpha': 10.0,\n",
    "        'tau': 0.5,\n",
    "        'lambda_reg': 1e-3,\n",
    "        'corruption_prob': 0.5,\n",
    "        'num_samples': 5,\n",
    "        'invert_uncertainty': True\n",
    "    }\n",
    "}\n",
    "\n",
    "# Cell 3: Model and Training Functions\n",
    "class ResidualBlock(nn.Module):\n",
    "    def __init__(self, channels):\n",
    "        super().__init__()\n",
    "        self.block = nn.Sequential(\n",
    "            nn.Conv2d(channels, channels, 3, padding=1),\n",
    "            nn.ReLU(),\n",
    "            nn.Conv2d(channels, channels, 3, padding=1)\n",
    "        )\n",
    "    def forward(self, x):\n",
    "        return x + self.block(x)\n",
    "\n",
    "class SimpleUNet(nn.Module):\n",
    "    def __init__(self, channels=32):\n",
    "        super().__init__()\n",
    "        self.down1 = nn.Conv2d(1, channels, 3, padding=1, stride=2)\n",
    "        self.down2 = nn.Conv2d(channels, channels, 3, padding=1, stride=2)\n",
    "        self.res = ResidualBlock(channels)\n",
    "        self.up1 = nn.ConvTranspose2d(channels, channels, 4, stride=2, padding=1)\n",
    "        self.up2 = nn.ConvTranspose2d(channels, 1, 4, stride=2, padding=1)\n",
    "    def forward(self, x):\n",
    "        x1 = F.relu(self.down1(x))\n",
    "        x2 = F.relu(self.down2(x1))\n",
    "        x3 = self.res(x2)\n",
    "        x4 = F.relu(self.up1(x3))\n",
    "        return torch.tanh(self.up2(x4))\n",
    "\n",
    "def compute_uncertainty(model, x, num_samples=5):\n",
    "    model.train()\n",
    "    preds = [model(x) for _ in range(num_samples)]\n",
    "    model.eval()\n",
    "    return torch.var(torch.stack(preds), dim=0).mean(1, keepdim=True)\n",
    "\n",
    "def generate_mask(uncertainty, alpha=10.0, tau=0.5, invert_uncertainty=False):\n",
    "    # if invert_uncertainty:\n",
    "    #     uncertainty = 1.0 - uncertainty  # Invert uncertainty to corrupt certain regions\n",
    "    prob = torch.sigmoid(alpha * (uncertainty - tau))\n",
    "    if invert_uncertainty:\n",
    "        prob = 1 - prob\n",
    "    return torch.bernoulli(prob).detach()\n",
    "\n",
    "def regularize_mask(mask, lambda_reg=1e-3):\n",
    "    return lambda_reg * mask.mean()\n",
    "\n",
    "def corrupt_input(x, mask):\n",
    "    noise = torch.randn_like(x)\n",
    "    return mask * noise + (1 - mask) * x\n",
    "\n",
    "# Add evaluation metrics\n",
    "def compute_psnr(img1, img2):\n",
    "    \"\"\"Compute PSNR between two images.\"\"\"\n",
    "    img1 = img1.detach().cpu().numpy()\n",
    "    img2 = img2.detach().cpu().numpy()\n",
    "    return psnr(img1, img2, data_range=2.0)  # data_range=2.0 for [-1,1] range\n",
    "\n",
    "def compute_ssim(img1, img2):\n",
    "    \"\"\"Compute SSIM between two images.\"\"\"\n",
    "    # Convert to numpy and handle batch dimension\n",
    "    img1 = img1.detach().cpu().numpy()\n",
    "    img2 = img2.detach().cpu().numpy()\n",
    "    \n",
    "    # Handle batch dimension\n",
    "    if len(img1.shape) == 4:  # [B, C, H, W]\n",
    "        # Compute SSIM for each image in the batch\n",
    "        ssim_values = []\n",
    "        for i in range(img1.shape[0]):\n",
    "            # Remove channel dimension for MNIST (single channel)\n",
    "            img1_i = img1[i, 0]  # Shape: [H, W]\n",
    "            img2_i = img2[i, 0]  # Shape: [H, W]\n",
    "            ssim_val = ssim(img1_i, img2_i, data_range=2.0, win_size=3)\n",
    "            ssim_values.append(ssim_val)\n",
    "        return np.mean(ssim_values)\n",
    "    else:\n",
    "        # Single image case\n",
    "        return ssim(img1[0], img2[0], data_range=2.0, win_size=3)\n",
    "\n",
    "def analyze_corruption_coverage(mask, uncertainty):\n",
    "    \"\"\"Analyze where corruption is being applied.\"\"\"\n",
    "    # Compute average uncertainty in corrupted vs uncorrupted regions\n",
    "    corrupted_uncertainty = (mask * uncertainty).sum() / (mask.sum() + 1e-6)\n",
    "    uncorrupted_uncertainty = ((1 - mask) * uncertainty).sum() / ((1 - mask).sum() + 1e-6)\n",
    "    \n",
    "    # Compute corruption ratio\n",
    "    corruption_ratio = mask.mean().item()\n",
    "    \n",
    "    return {\n",
    "        'corrupted_uncertainty': corrupted_uncertainty.item(),\n",
    "        'uncorrupted_uncertainty': uncorrupted_uncertainty.item(),\n",
    "        'corruption_ratio': corruption_ratio\n",
    "    }\n",
    "\n",
    "# Add after the existing imports\n",
    "def visualize_uncertainty_and_corruption(x, uncertainty, mask, pred, config_name, epoch, save_dir='visualizations'):\n",
    "    \"\"\"Generate detailed visualizations of uncertainty and corruption patterns.\"\"\"\n",
    "    os.makedirs(save_dir, exist_ok=True)\n",
    "    \n",
    "    # Convert tensors to numpy for visualization, properly detaching first\n",
    "    x_np = x.detach().cpu().numpy()\n",
    "    uncertainty_np = uncertainty.detach().cpu().numpy()\n",
    "    mask_np = mask.detach().cpu().numpy()\n",
    "    pred_np = pred.detach().cpu().numpy()\n",
    "    \n",
    "    # Create a figure with 2x2 subplots\n",
    "    fig, axes = plt.subplots(2, 2, figsize=(12, 12))\n",
    "    \n",
    "    # Original image\n",
    "    axes[0, 0].imshow(x_np[0, 0], cmap='gray')\n",
    "    axes[0, 0].set_title('Original Image')\n",
    "    axes[0, 0].axis('off')\n",
    "    \n",
    "    # Uncertainty map\n",
    "    im = axes[0, 1].imshow(uncertainty_np[0, 0], cmap='hot')\n",
    "    axes[0, 1].set_title('Uncertainty Map')\n",
    "    axes[0, 1].axis('off')\n",
    "    plt.colorbar(im, ax=axes[0, 1])\n",
    "    \n",
    "    # Corruption mask\n",
    "    axes[1, 0].imshow(mask_np[0, 0], cmap='gray')\n",
    "    axes[1, 0].set_title('Corruption Mask')\n",
    "    axes[1, 0].axis('off')\n",
    "    \n",
    "    # Reconstruction\n",
    "    axes[1, 1].imshow(pred_np[0, 0], cmap='gray')\n",
    "    axes[1, 1].set_title('Reconstruction')\n",
    "    axes[1, 1].axis('off')\n",
    "    \n",
    "    plt.suptitle(f'{config_name} - Epoch {epoch}')\n",
    "    plt.tight_layout()\n",
    "    plt.savefig(f'{save_dir}/uncertainty_analysis_{config_name}_epoch_{epoch}.png')\n",
    "    plt.close()\n",
    "\n",
    "def visualize_batch_comparison(x, x_corrupt_adaptive, recon_adaptive, x_corrupt_random, recon_random, config_name, epoch, save_dir='visualizations'):\n",
    "    \"\"\"Generate a detailed comparison of a batch of images.\"\"\"\n",
    "    os.makedirs(save_dir, exist_ok=True)\n",
    "    \n",
    "    # Create a figure with 5 rows (original, corrupted, reconstruction for both methods)\n",
    "    fig, axes = plt.subplots(5, 8, figsize=(20, 12))\n",
    "    \n",
    "    # Helper function to plot a row of images\n",
    "    def plot_row(images, row_idx, title):\n",
    "        for col_idx in range(8):\n",
    "            axes[row_idx, col_idx].imshow(images[col_idx, 0].detach().cpu(), cmap='gray')\n",
    "            axes[row_idx, col_idx].axis('off')\n",
    "        axes[row_idx, 0].set_ylabel(title)\n",
    "    \n",
    "    # Plot each row\n",
    "    plot_row(x, 0, 'Original')\n",
    "    plot_row(x_corrupt_adaptive, 1, 'Adaptive\\nCorrupted')\n",
    "    plot_row(recon_adaptive, 2, 'Adaptive\\nReconstruction')\n",
    "    plot_row(x_corrupt_random, 3, 'Random\\nCorrupted')\n",
    "    plot_row(recon_random, 4, 'Random\\nReconstruction')\n",
    "    \n",
    "    plt.suptitle(f'{config_name} - Epoch {epoch}')\n",
    "    plt.tight_layout()\n",
    "    plt.savefig(f'{save_dir}/batch_comparison_{config_name}_epoch_{epoch}.png')\n",
    "    plt.close()\n",
    "\n",
    "# Cell 4: Training Function\n",
    "def train_ablation(config_name, config, num_epochs=10, device='cuda' if torch.cuda.is_available() else 'cpu'):\n",
    "    print(f\"\\nRunning experiment: {config_name}\")\n",
    "    \n",
    "    # Setup data\n",
    "    transform = transforms.Compose([\n",
    "        transforms.ToTensor(),\n",
    "        transforms.Lambda(lambda x: x * 2 - 1)  # Scale to [-1, 1]\n",
    "    ])\n",
    "    mnist = datasets.MNIST(root='.', train=True, download=True, transform=transform)\n",
    "    dataloader = DataLoader(mnist, batch_size=128, shuffle=True)\n",
    "    \n",
    "    # Create models\n",
    "    model_adaptive = SimpleUNet().to(device)\n",
    "    model_random = SimpleUNet().to(device)\n",
    "    optimizer_adaptive = torch.optim.Adam(model_adaptive.parameters(), lr=1e-3)\n",
    "    optimizer_random = torch.optim.Adam(model_random.parameters(), lr=1e-3)\n",
    "    \n",
    "    # Training metrics\n",
    "    adaptive_losses = []\n",
    "    random_losses = []\n",
    "    adaptive_psnr = []\n",
    "    adaptive_ssim = []\n",
    "    corruption_metrics = []\n",
    "    \n",
    "    for epoch in range(num_epochs):\n",
    "        model_adaptive.train()\n",
    "        model_random.train()\n",
    "        epoch_adaptive_losses = []\n",
    "        epoch_random_losses = []\n",
    "        epoch_adaptive_psnr = []\n",
    "        epoch_adaptive_ssim = []\n",
    "        epoch_corruption_metrics = []\n",
    "        \n",
    "        for x, _ in tqdm(dataloader, desc=f\"Epoch {epoch+1}/{num_epochs}\"):\n",
    "            x = x.to(device)\n",
    "            \n",
    "            # Adaptive corruption\n",
    "            unc = compute_uncertainty(model_adaptive, x, config['num_samples'])\n",
    "            mask_adaptive = generate_mask(unc, config['alpha'], config['tau'], config['invert_uncertainty'])\n",
    "            x_corrupt_adaptive = corrupt_input(x, mask_adaptive)\n",
    "            pred_adaptive = model_adaptive(x_corrupt_adaptive)\n",
    "            loss_adaptive = F.mse_loss(pred_adaptive, x) + regularize_mask(mask_adaptive, config['lambda_reg'])\n",
    "            \n",
    "            optimizer_adaptive.zero_grad()\n",
    "            loss_adaptive.backward()\n",
    "            optimizer_adaptive.step()\n",
    "            \n",
    "            # Random corruption\n",
    "            mask_random = torch.bernoulli(torch.full_like(x, config['corruption_prob']))\n",
    "            x_corrupt_random = corrupt_input(x, mask_random)\n",
    "            pred_random = model_random(x_corrupt_random)\n",
    "            loss_random = F.mse_loss(pred_random, x)\n",
    "            \n",
    "            optimizer_random.zero_grad()\n",
    "            loss_random.backward()\n",
    "            optimizer_random.step()\n",
    "            \n",
    "            # Compute metrics\n",
    "            epoch_adaptive_losses.append(loss_adaptive.item())\n",
    "            epoch_random_losses.append(loss_random.item())\n",
    "            epoch_adaptive_psnr.append(compute_psnr(pred_adaptive, x))\n",
    "            epoch_adaptive_ssim.append(compute_ssim(pred_adaptive, x))\n",
    "            epoch_corruption_metrics.append(analyze_corruption_coverage(mask_adaptive, unc))\n",
    "        \n",
    "        # Record epoch metrics\n",
    "        adaptive_losses.append(np.mean(epoch_adaptive_losses))\n",
    "        random_losses.append(np.mean(epoch_random_losses))\n",
    "        adaptive_psnr.append(np.mean(epoch_adaptive_psnr))\n",
    "        adaptive_ssim.append(np.mean(epoch_adaptive_ssim))\n",
    "        \n",
    "        # Average corruption metrics\n",
    "        avg_corruption_metrics = {\n",
    "            'corrupted_uncertainty': np.mean([m['corrupted_uncertainty'] for m in epoch_corruption_metrics]),\n",
    "            'uncorrupted_uncertainty': np.mean([m['uncorrupted_uncertainty'] for m in epoch_corruption_metrics]),\n",
    "            'corruption_ratio': np.mean([m['corruption_ratio'] for m in epoch_corruption_metrics])\n",
    "        }\n",
    "        corruption_metrics.append(avg_corruption_metrics)\n",
    "        \n",
    "        print(f\"Epoch {epoch+1}:\")\n",
    "        print(f\"  Adaptive Loss = {adaptive_losses[-1]:.4f}, Random Loss = {random_losses[-1]:.4f}\")\n",
    "        print(f\"  PSNR = {adaptive_psnr[-1]:.2f}, SSIM = {adaptive_ssim[-1]:.4f}\")\n",
    "        print(f\"  Corruption Ratio = {avg_corruption_metrics['corruption_ratio']:.4f}\")\n",
    "        print(f\"  Corrupted/Uncorrupted Uncertainty = {avg_corruption_metrics['corrupted_uncertainty']:.4f}/{avg_corruption_metrics['uncorrupted_uncertainty']:.4f}\")\n",
    "        \n",
    "        # Save samples and visualizations\n",
    "        if (epoch + 1) % 5 == 0:\n",
    "            model_adaptive.eval()\n",
    "            model_random.eval()\n",
    "            with torch.no_grad():\n",
    "                x, _ = next(iter(dataloader))\n",
    "                x = x.to(device)[:8]\n",
    "                \n",
    "                unc = compute_uncertainty(model_adaptive, x, config['num_samples'])\n",
    "                mask_adaptive = generate_mask(unc, config['alpha'], config['tau'], config['invert_uncertainty'])\n",
    "                mask_random = torch.bernoulli(torch.full_like(x, config['corruption_prob']))\n",
    "                \n",
    "                x_corrupt_adaptive = corrupt_input(x, mask_adaptive)\n",
    "                x_corrupt_random = corrupt_input(x, mask_random)\n",
    "                \n",
    "                recon_adaptive = model_adaptive(x_corrupt_adaptive)\n",
    "                recon_random = model_random(x_corrupt_random)\n",
    "                \n",
    "                # Generate detailed visualizations\n",
    "                visualize_uncertainty_and_corruption(\n",
    "                    x, unc, mask_adaptive, recon_adaptive,\n",
    "                    config_name, epoch + 1\n",
    "                )\n",
    "                \n",
    "                visualize_batch_comparison(\n",
    "                    x, x_corrupt_adaptive, recon_adaptive,\n",
    "                    x_corrupt_random, recon_random,\n",
    "                    config_name, epoch + 1\n",
    "                )\n",
    "                \n",
    "                # Keep the original grid visualization\n",
    "                images = torch.cat([x, x_corrupt_adaptive, recon_adaptive, x_corrupt_random, recon_random], dim=0)\n",
    "                grid = utils.make_grid(images, nrow=8, normalize=True, value_range=(-1, 1))\n",
    "                plt.figure(figsize=(20, 5))\n",
    "                plt.imshow(grid.permute(1, 2, 0).cpu())\n",
    "                plt.axis('off')\n",
    "                plt.title(f\"{config_name} - Epoch {epoch+1}\")\n",
    "                plt.savefig(f'ablation_{config_name}_epoch_{epoch+1}.png')\n",
    "                plt.close()\n",
    "    \n",
    "    return {\n",
    "        'adaptive_losses': adaptive_losses,\n",
    "        'random_losses': random_losses,\n",
    "        'adaptive_psnr': adaptive_psnr,\n",
    "        'adaptive_ssim': adaptive_ssim,\n",
    "        'corruption_metrics': corruption_metrics,\n",
    "        'config': config\n",
    "    }\n",
    "\n",
    "# Cell 5: Plotting Function\n",
    "def plot_ablation_results(results):\n",
    "    # Plot losses\n",
    "    plt.figure(figsize=(15, 10))\n",
    "    \n",
    "    # Plot 1: Losses\n",
    "    plt.subplot(2, 2, 1)\n",
    "    for config_name, result in results.items():\n",
    "        plt.plot(result['adaptive_losses'], label=f\"{config_name} (Adaptive)\")\n",
    "        plt.plot(result['random_losses'], label=f\"{config_name} (Random)\", linestyle='--')\n",
    "    plt.title('Training Losses')\n",
    "    plt.xlabel('Epochs')\n",
    "    plt.ylabel('Loss')\n",
    "    plt.legend()\n",
    "    \n",
    "    # Plot 2: PSNR\n",
    "    plt.subplot(2, 2, 2)\n",
    "    for config_name, result in results.items():\n",
    "        plt.plot(result['adaptive_psnr'], label=config_name)\n",
    "    plt.title('PSNR')\n",
    "    plt.xlabel('Epochs')\n",
    "    plt.ylabel('PSNR (dB)')\n",
    "    plt.legend()\n",
    "    \n",
    "    # Plot 3: SSIM\n",
    "    plt.subplot(2, 2, 3)\n",
    "    for config_name, result in results.items():\n",
    "        plt.plot(result['adaptive_ssim'], label=config_name)\n",
    "    plt.title('SSIM')\n",
    "    plt.xlabel('Epochs')\n",
    "    plt.ylabel('SSIM')\n",
    "    plt.legend()\n",
    "    \n",
    "    # Plot 4: Corruption Ratio\n",
    "    plt.subplot(2, 2, 4)\n",
    "    for config_name, result in results.items():\n",
    "        corruption_ratios = [m['corruption_ratio'] for m in result['corruption_metrics']]\n",
    "        plt.plot(corruption_ratios, label=config_name)\n",
    "    plt.title('Corruption Ratio')\n",
    "    plt.xlabel('Epochs')\n",
    "    plt.ylabel('Ratio')\n",
    "    plt.legend()\n",
    "    \n",
    "    plt.tight_layout()\n",
    "    plt.savefig('ablation_metrics.png')\n",
    "    plt.close()\n",
    "    \n",
    "    # Create summary table\n",
    "    summary = []\n",
    "    for config_name, result in results.items():\n",
    "        config = result['config']\n",
    "        summary.append({\n",
    "            'Configuration': config_name,\n",
    "            'Final Adaptive Loss': f\"{result['adaptive_losses'][-1]:.4f}\",\n",
    "            'Final Random Loss': f\"{result['random_losses'][-1]:.4f}\",\n",
    "            'Final PSNR': f\"{result['adaptive_psnr'][-1]:.2f}\",\n",
    "            'Final SSIM': f\"{result['adaptive_ssim'][-1]:.4f}\",\n",
    "            'Final Corruption Ratio': f\"{result['corruption_metrics'][-1]['corruption_ratio']:.4f}\",\n",
    "            'Corrupted Uncertainty': f\"{result['corruption_metrics'][-1]['corrupted_uncertainty']:.4f}\",\n",
    "            'Uncorrupted Uncertainty': f\"{result['corruption_metrics'][-1]['uncorrupted_uncertainty']:.4f}\",\n",
    "            'Alpha': config['alpha'],\n",
    "            'Tau': config['tau'],\n",
    "            'Corruption Prob': config['corruption_prob'],\n",
    "            'Num Samples': config['num_samples'],\n",
    "            'Inverted Uncertainty': config['invert_uncertainty']\n",
    "        })\n",
    "    \n",
    "    # Save summary to file\n",
    "    with open('ablation_summary.txt', 'w') as f:\n",
    "        f.write(\"Adaptive Corruption Ablation Study Summary\\n\")\n",
    "        f.write(\"========================================\\n\\n\")\n",
    "        for entry in summary:\n",
    "            f.write(f\"Configuration: {entry['Configuration']}\\n\")\n",
    "            f.write(f\"Final Adaptive Loss: {entry['Final Adaptive Loss']}\\n\")\n",
    "            f.write(f\"Final Random Loss: {entry['Final Random Loss']}\\n\")\n",
    "            f.write(f\"Final PSNR: {entry['Final PSNR']}\\n\")\n",
    "            f.write(f\"Final SSIM: {entry['Final SSIM']}\\n\")\n",
    "            f.write(f\"Final Corruption Ratio: {entry['Final Corruption Ratio']}\\n\")\n",
    "            f.write(f\"Corrupted Uncertainty: {entry['Corrupted Uncertainty']}\\n\")\n",
    "            f.write(f\"Uncorrupted Uncertainty: {entry['Uncorrupted Uncertainty']}\\n\")\n",
    "            f.write(f\"Alpha: {entry['Alpha']}\\n\")\n",
    "            f.write(f\"Tau: {entry['Tau']}\\n\")\n",
    "            f.write(f\"Corruption Probability: {entry['Corruption Prob']}\\n\")\n",
    "            f.write(f\"Number of Samples: {entry['Num Samples']}\\n\")\n",
    "            f.write(f\"Inverted Uncertainty: {entry['Inverted Uncertainty']}\\n\")\n",
    "            f.write(\"\\n\")\n",
    "\n",
    "# Add a function to generate final comparison visualizations\n",
    "def generate_final_comparison(results, device):\n",
    "    \"\"\"Generate final comparison visualizations for all configurations.\"\"\"\n",
    "    # Setup data\n",
    "    transform = transforms.Compose([\n",
    "        transforms.ToTensor(),\n",
    "        transforms.Lambda(lambda x: x * 2 - 1)\n",
    "    ])\n",
    "    mnist = datasets.MNIST(root='.', train=True, download=True, transform=transform)\n",
    "    dataloader = DataLoader(mnist, batch_size=8, shuffle=True)\n",
    "    \n",
    "    # Get a batch of images\n",
    "    x, _ = next(iter(dataloader))\n",
    "    x = x.to(device)\n",
    "    \n",
    "    # Create a figure for each configuration\n",
    "    for config_name, result in results.items():\n",
    "        config = result['config']\n",
    "        \n",
    "        # Create models\n",
    "        model_adaptive = SimpleUNet().to(device)\n",
    "        model_random = SimpleUNet().to(device)\n",
    "        \n",
    "        # Compute uncertainty and generate masks\n",
    "        unc = compute_uncertainty(model_adaptive, x, config['num_samples'])\n",
    "        mask_adaptive = generate_mask(unc, config['alpha'], config['tau'], config['invert_uncertainty'])\n",
    "        mask_random = torch.bernoulli(torch.full_like(x, config['corruption_prob']))\n",
    "        \n",
    "        # Generate corrupted and reconstructed images\n",
    "        x_corrupt_adaptive = corrupt_input(x, mask_adaptive)\n",
    "        x_corrupt_random = corrupt_input(x, mask_random)\n",
    "        recon_adaptive = model_adaptive(x_corrupt_adaptive)\n",
    "        recon_random = model_random(x_corrupt_random)\n",
    "        \n",
    "        # Save visualizations\n",
    "        visualize_uncertainty_and_corruption(\n",
    "            x, unc, mask_adaptive, recon_adaptive,\n",
    "            f\"{config_name}_final\", 0\n",
    "        )\n",
    "        \n",
    "        visualize_batch_comparison(\n",
    "            x, x_corrupt_adaptive, recon_adaptive,\n",
    "            x_corrupt_random, recon_random,\n",
    "            f\"{config_name}_final\", 0\n",
    "        )\n",
    "\n",
    "# Cell 6: Run Experiments\n",
    "device = torch.device(\"cuda\" if torch.cuda.is_available() else \"cpu\")\n",
    "results = {}\n",
    "\n",
    "for config_name, config in configs.items():\n",
    "    results[config_name] = train_ablation(\n",
    "        config_name,\n",
    "        config,\n",
    "        num_epochs=10,\n",
    "        device=device\n",
    "    )\n",
    "\n",
    "# Plot and save results\n",
    "plot_ablation_results(results)\n",
    "\n",
    "# Generate final comparison visualizations\n",
    "generate_final_comparison(results, device)\n",
    "\n",
    "# Cell 7: Display Results\n",
    "print(\"\\nAblation Study Results:\")\n",
    "print(\"======================\")\n",
    "for config_name, result in results.items():\n",
    "    print(f\"\\nConfiguration: {config_name}\")\n",
    "    print(f\"Final Adaptive Loss: {result['adaptive_losses'][-1]:.4f}\")\n",
    "    print(f\"Final Random Loss: {result['random_losses'][-1]:.4f}\")\n",
    "    print(f\"Final PSNR: {result['adaptive_psnr'][-1]:.2f}\")\n",
    "    print(f\"Final SSIM: {result['adaptive_ssim'][-1]:.4f}\")\n",
    "    print(f\"Final Corruption Ratio: {result['corruption_metrics'][-1]['corruption_ratio']:.4f}\")\n",
    "    print(f\"Corrupted/Uncorrupted Uncertainty: {result['corruption_metrics'][-1]['corrupted_uncertainty']:.4f}/{result['corruption_metrics'][-1]['uncorrupted_uncertainty']:.4f}\")\n",
    "    print(f\"Alpha: {result['config']['alpha']}\")\n",
    "    print(f\"Tau: {result['config']['tau']}\")\n",
    "    print(f\"Corruption Probability: {result['config']['corruption_prob']}\")\n",
    "    print(f\"Number of Samples: {result['config']['num_samples']}\")\n",
    "    print(f\"Inverted Uncertainty: {result['config']['invert_uncertainty']}\") "
   ]
  },
  {
   "cell_type": "markdown",
   "metadata": {},
   "source": [
    "# MNIST Results"
   ]
  },
  {
   "cell_type": "code",
   "execution_count": 1,
   "metadata": {},
   "outputs": [
    {
     "name": "stdout",
     "output_type": "stream",
     "text": [
      "\n",
      "Training baseline configuration\n"
     ]
    },
    {
     "name": "stderr",
     "output_type": "stream",
     "text": [
      "Epoch 1/10: 100%|██████████| 469/469 [00:21<00:00, 21.87it/s]\n"
     ]
    },
    {
     "name": "stdout",
     "output_type": "stream",
     "text": [
      "Epoch 1:\n",
      "  Loss = 0.0494\n",
      "  PSNR = 23.87\n",
      "  SSIM = 0.8548\n",
      "  Corruption Ratio = 0.0067\n",
      "  Corrupted/Uncorrupted Uncertainty = 0.0000/0.0000\n"
     ]
    },
    {
     "name": "stderr",
     "output_type": "stream",
     "text": [
      "Epoch 2/10: 100%|██████████| 469/469 [00:19<00:00, 23.82it/s]\n"
     ]
    },
    {
     "name": "stdout",
     "output_type": "stream",
     "text": [
      "Epoch 2:\n",
      "  Loss = 0.0057\n",
      "  PSNR = 28.50\n",
      "  SSIM = 0.9540\n",
      "  Corruption Ratio = 0.0067\n",
      "  Corrupted/Uncorrupted Uncertainty = 0.0000/0.0000\n"
     ]
    },
    {
     "name": "stderr",
     "output_type": "stream",
     "text": [
      "Epoch 3/10: 100%|██████████| 469/469 [00:19<00:00, 23.53it/s]\n"
     ]
    },
    {
     "name": "stdout",
     "output_type": "stream",
     "text": [
      "Epoch 3:\n",
      "  Loss = 0.0045\n",
      "  PSNR = 29.53\n",
      "  SSIM = 0.9617\n",
      "  Corruption Ratio = 0.0067\n",
      "  Corrupted/Uncorrupted Uncertainty = 0.0000/0.0000\n"
     ]
    },
    {
     "name": "stderr",
     "output_type": "stream",
     "text": [
      "Epoch 4/10: 100%|██████████| 469/469 [00:20<00:00, 22.73it/s]\n"
     ]
    },
    {
     "name": "stdout",
     "output_type": "stream",
     "text": [
      "Epoch 4:\n",
      "  Loss = 0.0039\n",
      "  PSNR = 30.11\n",
      "  SSIM = 0.9660\n",
      "  Corruption Ratio = 0.0067\n",
      "  Corrupted/Uncorrupted Uncertainty = 0.0000/0.0000\n"
     ]
    },
    {
     "name": "stderr",
     "output_type": "stream",
     "text": [
      "Epoch 5/10: 100%|██████████| 469/469 [00:20<00:00, 22.52it/s]\n"
     ]
    },
    {
     "name": "stdout",
     "output_type": "stream",
     "text": [
      "Epoch 5:\n",
      "  Loss = 0.0036\n",
      "  PSNR = 30.51\n",
      "  SSIM = 0.9687\n",
      "  Corruption Ratio = 0.0067\n",
      "  Corrupted/Uncorrupted Uncertainty = 0.0000/0.0000\n"
     ]
    },
    {
     "name": "stderr",
     "output_type": "stream",
     "text": [
      "Epoch 6/10: 100%|██████████| 469/469 [00:21<00:00, 21.93it/s]\n"
     ]
    },
    {
     "name": "stdout",
     "output_type": "stream",
     "text": [
      "Epoch 6:\n",
      "  Loss = 0.0034\n",
      "  PSNR = 30.75\n",
      "  SSIM = 0.9705\n",
      "  Corruption Ratio = 0.0067\n",
      "  Corrupted/Uncorrupted Uncertainty = 0.0000/0.0000\n"
     ]
    },
    {
     "name": "stderr",
     "output_type": "stream",
     "text": [
      "Epoch 7/10: 100%|██████████| 469/469 [00:20<00:00, 22.89it/s]\n"
     ]
    },
    {
     "name": "stdout",
     "output_type": "stream",
     "text": [
      "Epoch 7:\n",
      "  Loss = 0.0032\n",
      "  PSNR = 30.96\n",
      "  SSIM = 0.9718\n",
      "  Corruption Ratio = 0.0067\n",
      "  Corrupted/Uncorrupted Uncertainty = 0.0000/0.0000\n"
     ]
    },
    {
     "name": "stderr",
     "output_type": "stream",
     "text": [
      "Epoch 8/10: 100%|██████████| 469/469 [00:20<00:00, 22.93it/s]\n"
     ]
    },
    {
     "name": "stdout",
     "output_type": "stream",
     "text": [
      "Epoch 8:\n",
      "  Loss = 0.0031\n",
      "  PSNR = 31.14\n",
      "  SSIM = 0.9730\n",
      "  Corruption Ratio = 0.0067\n",
      "  Corrupted/Uncorrupted Uncertainty = 0.0000/0.0000\n"
     ]
    },
    {
     "name": "stderr",
     "output_type": "stream",
     "text": [
      "Epoch 9/10: 100%|██████████| 469/469 [00:20<00:00, 22.78it/s]\n"
     ]
    },
    {
     "name": "stdout",
     "output_type": "stream",
     "text": [
      "Epoch 9:\n",
      "  Loss = 0.0030\n",
      "  PSNR = 31.30\n",
      "  SSIM = 0.9741\n",
      "  Corruption Ratio = 0.0067\n",
      "  Corrupted/Uncorrupted Uncertainty = 0.0000/0.0000\n"
     ]
    },
    {
     "name": "stderr",
     "output_type": "stream",
     "text": [
      "Epoch 10/10: 100%|██████████| 469/469 [00:20<00:00, 23.18it/s]\n"
     ]
    },
    {
     "name": "stdout",
     "output_type": "stream",
     "text": [
      "Epoch 10:\n",
      "  Loss = 0.0029\n",
      "  PSNR = 31.47\n",
      "  SSIM = 0.9750\n",
      "  Corruption Ratio = 0.0067\n",
      "  Corrupted/Uncorrupted Uncertainty = 0.0000/0.0000\n",
      "\n",
      "Training inverted_uncertainty configuration\n"
     ]
    },
    {
     "name": "stderr",
     "output_type": "stream",
     "text": [
      "Epoch 1/10: 100%|██████████| 469/469 [00:20<00:00, 23.14it/s]\n"
     ]
    },
    {
     "name": "stdout",
     "output_type": "stream",
     "text": [
      "Epoch 1:\n",
      "  Loss = 0.4589\n",
      "  PSNR = 9.45\n",
      "  SSIM = 0.6280\n",
      "  Corruption Ratio = 0.9933\n",
      "  Corrupted/Uncorrupted Uncertainty = 0.0000/0.0000\n"
     ]
    },
    {
     "name": "stderr",
     "output_type": "stream",
     "text": [
      "Epoch 2/10: 100%|██████████| 469/469 [00:20<00:00, 23.16it/s]\n"
     ]
    },
    {
     "name": "stdout",
     "output_type": "stream",
     "text": [
      "Epoch 2:\n",
      "  Loss = 0.4490\n",
      "  PSNR = 9.51\n",
      "  SSIM = 0.6428\n",
      "  Corruption Ratio = 0.9933\n",
      "  Corrupted/Uncorrupted Uncertainty = 0.0000/0.0000\n"
     ]
    },
    {
     "name": "stderr",
     "output_type": "stream",
     "text": [
      "Epoch 3/10: 100%|██████████| 469/469 [00:20<00:00, 23.05it/s]\n"
     ]
    },
    {
     "name": "stdout",
     "output_type": "stream",
     "text": [
      "Epoch 3:\n",
      "  Loss = 0.4490\n",
      "  PSNR = 9.51\n",
      "  SSIM = 0.6428\n",
      "  Corruption Ratio = 0.9933\n",
      "  Corrupted/Uncorrupted Uncertainty = 0.0000/0.0000\n"
     ]
    },
    {
     "name": "stderr",
     "output_type": "stream",
     "text": [
      "Epoch 4/10: 100%|██████████| 469/469 [00:19<00:00, 23.50it/s]\n"
     ]
    },
    {
     "name": "stdout",
     "output_type": "stream",
     "text": [
      "Epoch 4:\n",
      "  Loss = 0.4490\n",
      "  PSNR = 9.51\n",
      "  SSIM = 0.6428\n",
      "  Corruption Ratio = 0.9933\n",
      "  Corrupted/Uncorrupted Uncertainty = 0.0000/0.0000\n"
     ]
    },
    {
     "name": "stderr",
     "output_type": "stream",
     "text": [
      "Epoch 5/10: 100%|██████████| 469/469 [00:20<00:00, 23.15it/s]\n"
     ]
    },
    {
     "name": "stdout",
     "output_type": "stream",
     "text": [
      "Epoch 5:\n",
      "  Loss = 0.4490\n",
      "  PSNR = 9.51\n",
      "  SSIM = 0.6428\n",
      "  Corruption Ratio = 0.9933\n",
      "  Corrupted/Uncorrupted Uncertainty = 0.0000/0.0000\n"
     ]
    },
    {
     "name": "stderr",
     "output_type": "stream",
     "text": [
      "Epoch 6/10: 100%|██████████| 469/469 [00:20<00:00, 23.22it/s]\n"
     ]
    },
    {
     "name": "stdout",
     "output_type": "stream",
     "text": [
      "Epoch 6:\n",
      "  Loss = 0.4490\n",
      "  PSNR = 9.51\n",
      "  SSIM = 0.6428\n",
      "  Corruption Ratio = 0.9933\n",
      "  Corrupted/Uncorrupted Uncertainty = 0.0000/0.0000\n"
     ]
    },
    {
     "name": "stderr",
     "output_type": "stream",
     "text": [
      "Epoch 7/10: 100%|██████████| 469/469 [00:20<00:00, 23.15it/s]\n"
     ]
    },
    {
     "name": "stdout",
     "output_type": "stream",
     "text": [
      "Epoch 7:\n",
      "  Loss = 0.4490\n",
      "  PSNR = 9.51\n",
      "  SSIM = 0.6428\n",
      "  Corruption Ratio = 0.9933\n",
      "  Corrupted/Uncorrupted Uncertainty = 0.0000/0.0000\n"
     ]
    },
    {
     "name": "stderr",
     "output_type": "stream",
     "text": [
      "Epoch 8/10: 100%|██████████| 469/469 [00:20<00:00, 22.80it/s]\n"
     ]
    },
    {
     "name": "stdout",
     "output_type": "stream",
     "text": [
      "Epoch 8:\n",
      "  Loss = 0.4490\n",
      "  PSNR = 9.51\n",
      "  SSIM = 0.6428\n",
      "  Corruption Ratio = 0.9933\n",
      "  Corrupted/Uncorrupted Uncertainty = 0.0000/0.0000\n"
     ]
    },
    {
     "name": "stderr",
     "output_type": "stream",
     "text": [
      "Epoch 9/10: 100%|██████████| 469/469 [00:19<00:00, 23.45it/s]\n"
     ]
    },
    {
     "name": "stdout",
     "output_type": "stream",
     "text": [
      "Epoch 9:\n",
      "  Loss = 0.4490\n",
      "  PSNR = 9.51\n",
      "  SSIM = 0.6428\n",
      "  Corruption Ratio = 0.9933\n",
      "  Corrupted/Uncorrupted Uncertainty = 0.0000/0.0000\n"
     ]
    },
    {
     "name": "stderr",
     "output_type": "stream",
     "text": [
      "Epoch 10/10: 100%|██████████| 469/469 [00:20<00:00, 23.20it/s]\n"
     ]
    },
    {
     "name": "stdout",
     "output_type": "stream",
     "text": [
      "Epoch 10:\n",
      "  Loss = 0.4490\n",
      "  PSNR = 9.51\n",
      "  SSIM = 0.6428\n",
      "  Corruption Ratio = 0.9933\n",
      "  Corrupted/Uncorrupted Uncertainty = 0.0000/0.0000\n",
      "\n",
      "Training random_corruption configuration\n"
     ]
    },
    {
     "name": "stderr",
     "output_type": "stream",
     "text": [
      "Epoch 1/10: 100%|██████████| 469/469 [00:20<00:00, 23.04it/s]\n"
     ]
    },
    {
     "name": "stdout",
     "output_type": "stream",
     "text": [
      "Epoch 1:\n",
      "  Loss = 0.4561\n",
      "  PSNR = 9.46\n",
      "  SSIM = 0.6292\n",
      "  Corruption Ratio = 0.2000\n",
      "  Corrupted/Uncorrupted Uncertainty = 0.0000/0.0000\n"
     ]
    },
    {
     "name": "stderr",
     "output_type": "stream",
     "text": [
      "Epoch 2/10: 100%|██████████| 469/469 [00:20<00:00, 22.80it/s]\n"
     ]
    },
    {
     "name": "stdout",
     "output_type": "stream",
     "text": [
      "Epoch 2:\n",
      "  Loss = 0.4482\n",
      "  PSNR = 9.51\n",
      "  SSIM = 0.6428\n",
      "  Corruption Ratio = 0.2001\n",
      "  Corrupted/Uncorrupted Uncertainty = 0.0000/0.0000\n"
     ]
    },
    {
     "name": "stderr",
     "output_type": "stream",
     "text": [
      "Epoch 3/10: 100%|██████████| 469/469 [00:20<00:00, 22.91it/s]\n"
     ]
    },
    {
     "name": "stdout",
     "output_type": "stream",
     "text": [
      "Epoch 3:\n",
      "  Loss = 0.4482\n",
      "  PSNR = 9.51\n",
      "  SSIM = 0.6428\n",
      "  Corruption Ratio = 0.1999\n",
      "  Corrupted/Uncorrupted Uncertainty = 0.0000/0.0000\n"
     ]
    },
    {
     "name": "stderr",
     "output_type": "stream",
     "text": [
      "Epoch 4/10: 100%|██████████| 469/469 [00:20<00:00, 23.13it/s]\n"
     ]
    },
    {
     "name": "stdout",
     "output_type": "stream",
     "text": [
      "Epoch 4:\n",
      "  Loss = 0.4482\n",
      "  PSNR = 9.51\n",
      "  SSIM = 0.6428\n",
      "  Corruption Ratio = 0.1999\n",
      "  Corrupted/Uncorrupted Uncertainty = 0.0000/0.0000\n"
     ]
    },
    {
     "name": "stderr",
     "output_type": "stream",
     "text": [
      "Epoch 5/10: 100%|██████████| 469/469 [00:20<00:00, 23.05it/s]\n"
     ]
    },
    {
     "name": "stdout",
     "output_type": "stream",
     "text": [
      "Epoch 5:\n",
      "  Loss = 0.4482\n",
      "  PSNR = 9.51\n",
      "  SSIM = 0.6428\n",
      "  Corruption Ratio = 0.1999\n",
      "  Corrupted/Uncorrupted Uncertainty = 0.0000/0.0000\n"
     ]
    },
    {
     "name": "stderr",
     "output_type": "stream",
     "text": [
      "Epoch 6/10: 100%|██████████| 469/469 [00:21<00:00, 22.09it/s]\n"
     ]
    },
    {
     "name": "stdout",
     "output_type": "stream",
     "text": [
      "Epoch 6:\n",
      "  Loss = 0.4482\n",
      "  PSNR = 9.51\n",
      "  SSIM = 0.6428\n",
      "  Corruption Ratio = 0.2001\n",
      "  Corrupted/Uncorrupted Uncertainty = 0.0000/0.0000\n"
     ]
    },
    {
     "name": "stderr",
     "output_type": "stream",
     "text": [
      "Epoch 7/10: 100%|██████████| 469/469 [00:20<00:00, 23.33it/s]\n"
     ]
    },
    {
     "name": "stdout",
     "output_type": "stream",
     "text": [
      "Epoch 7:\n",
      "  Loss = 0.4482\n",
      "  PSNR = 9.51\n",
      "  SSIM = 0.6428\n",
      "  Corruption Ratio = 0.2000\n",
      "  Corrupted/Uncorrupted Uncertainty = 0.0000/0.0000\n"
     ]
    },
    {
     "name": "stderr",
     "output_type": "stream",
     "text": [
      "Epoch 8/10: 100%|██████████| 469/469 [00:20<00:00, 22.71it/s]\n"
     ]
    },
    {
     "name": "stdout",
     "output_type": "stream",
     "text": [
      "Epoch 8:\n",
      "  Loss = 0.4482\n",
      "  PSNR = 9.51\n",
      "  SSIM = 0.6428\n",
      "  Corruption Ratio = 0.2000\n",
      "  Corrupted/Uncorrupted Uncertainty = 0.0000/0.0000\n"
     ]
    },
    {
     "name": "stderr",
     "output_type": "stream",
     "text": [
      "Epoch 9/10: 100%|██████████| 469/469 [00:20<00:00, 23.31it/s]\n"
     ]
    },
    {
     "name": "stdout",
     "output_type": "stream",
     "text": [
      "Epoch 9:\n",
      "  Loss = 0.4482\n",
      "  PSNR = 9.51\n",
      "  SSIM = 0.6428\n",
      "  Corruption Ratio = 0.1999\n",
      "  Corrupted/Uncorrupted Uncertainty = 0.0000/0.0000\n"
     ]
    },
    {
     "name": "stderr",
     "output_type": "stream",
     "text": [
      "Epoch 10/10: 100%|██████████| 469/469 [00:20<00:00, 23.34it/s]\n"
     ]
    },
    {
     "name": "stdout",
     "output_type": "stream",
     "text": [
      "Epoch 10:\n",
      "  Loss = 0.4482\n",
      "  PSNR = 9.51\n",
      "  SSIM = 0.6428\n",
      "  Corruption Ratio = 0.2001\n",
      "  Corrupted/Uncorrupted Uncertainty = 0.0000/0.0000\n",
      "\n",
      "Final Results:\n",
      "=============\n",
      "\n",
      "Configuration: baseline\n",
      "Final Loss: 0.0029\n",
      "Final PSNR: 31.47\n",
      "Final SSIM: 0.9750\n",
      "Final Corruption Ratio: 0.0067\n",
      "Corrupted/Uncorrupted Uncertainty: 0.0000/0.0000\n",
      "\n",
      "Configuration: inverted_uncertainty\n",
      "Final Loss: 0.4490\n",
      "Final PSNR: 9.51\n",
      "Final SSIM: 0.6428\n",
      "Final Corruption Ratio: 0.9933\n",
      "Corrupted/Uncorrupted Uncertainty: 0.0000/0.0000\n",
      "\n",
      "Configuration: random_corruption\n",
      "Final Loss: 0.4482\n",
      "Final PSNR: 9.51\n",
      "Final SSIM: 0.6428\n",
      "Final Corruption Ratio: 0.2001\n",
      "Corrupted/Uncorrupted Uncertainty: 0.0000/0.0000\n"
     ]
    }
   ],
   "source": [
    "import torch\n",
    "import torch.nn as nn\n",
    "import torch.nn.functional as F\n",
    "from torchvision import datasets, transforms, utils\n",
    "from torch.utils.data import DataLoader\n",
    "import matplotlib.pyplot as plt\n",
    "import numpy as np\n",
    "import os\n",
    "import math\n",
    "from tqdm import tqdm\n",
    "from skimage.metrics import structural_similarity as ssim\n",
    "from skimage.metrics import peak_signal_noise_ratio as psnr\n",
    "\n",
    "# Define configurations\n",
    "configs = {\n",
    "    'baseline': {\n",
    "        'alpha': 10.0,\n",
    "        'tau': 0.5,\n",
    "        'lambda_reg': 1e-3,\n",
    "        'corruption_prob': 0.5,\n",
    "        'num_samples': 5,\n",
    "        'invert_uncertainty': False,\n",
    "        'random_corruption': False\n",
    "    },\n",
    "    'inverted_uncertainty': {\n",
    "        'alpha': 10.0,\n",
    "        'tau': 0.5,\n",
    "        'lambda_reg': 1e-3,\n",
    "        'corruption_prob': 0.5,\n",
    "        'num_samples': 5,\n",
    "        'invert_uncertainty': True,\n",
    "        'random_corruption': False\n",
    "    },\n",
    "    'random_corruption': {\n",
    "        'alpha': 10.0,\n",
    "        'tau': 0.5,\n",
    "        'lambda_reg': 1e-3,\n",
    "        'corruption_prob': 0.5,\n",
    "        'num_samples': 5,\n",
    "        'invert_uncertainty': False,\n",
    "        'random_corruption': True\n",
    "    }\n",
    "}\n",
    "\n",
    "# Model architecture\n",
    "class ResidualBlock(nn.Module):\n",
    "    def __init__(self, channels):\n",
    "        super().__init__()\n",
    "        self.block = nn.Sequential(\n",
    "            nn.Conv2d(channels, channels, 3, padding=1),\n",
    "            nn.ReLU(),\n",
    "            nn.Conv2d(channels, channels, 3, padding=1)\n",
    "        )\n",
    "    def forward(self, x):\n",
    "        return x + self.block(x)\n",
    "\n",
    "class SimpleUNet(nn.Module):\n",
    "    def __init__(self, channels=32):\n",
    "        super().__init__()\n",
    "        self.down1 = nn.Conv2d(1, channels, 3, padding=1, stride=2)\n",
    "        self.down2 = nn.Conv2d(channels, channels, 3, padding=1, stride=2)\n",
    "        self.res = ResidualBlock(channels)\n",
    "        self.up1 = nn.ConvTranspose2d(channels, channels, 4, stride=2, padding=1)\n",
    "        self.up2 = nn.ConvTranspose2d(channels, 1, 4, stride=2, padding=1)\n",
    "    def forward(self, x):\n",
    "        x1 = F.relu(self.down1(x))\n",
    "        x2 = F.relu(self.down2(x1))\n",
    "        x3 = self.res(x2)\n",
    "        x4 = F.relu(self.up1(x3))\n",
    "        return torch.tanh(self.up2(x4))\n",
    "\n",
    "# Utility functions\n",
    "def compute_uncertainty(model, x, num_samples=5):\n",
    "    model.train()\n",
    "    preds = [model(x) for _ in range(num_samples)]\n",
    "    model.eval()\n",
    "    return torch.var(torch.stack(preds), dim=0).mean(1, keepdim=True)\n",
    "\n",
    "def generate_mask(uncertainty, alpha=10.0, tau=0.5, invert_uncertainty=False, random_corruption=False):\n",
    "    if random_corruption:\n",
    "        # Generate random mask with same shape as uncertainty\n",
    "        return torch.bernoulli(torch.ones_like(uncertainty) * 0.2).detach()\n",
    "    \n",
    "    # if invert_uncertainty:\n",
    "    #     uncertainty = 1.0 - uncertainty\n",
    "    prob = torch.sigmoid(alpha * (uncertainty - tau))\n",
    "    if invert_uncertainty:\n",
    "        prob = 1 - prob\n",
    "    return torch.bernoulli(prob).detach()\n",
    "\n",
    "def regularize_mask(mask, lambda_reg=1e-3):\n",
    "    return lambda_reg * mask.mean()\n",
    "\n",
    "def corrupt_input(x, mask):\n",
    "    noise = torch.randn_like(x)\n",
    "    return mask * noise + (1 - mask) * x\n",
    "\n",
    "def compute_psnr(img1, img2):\n",
    "    img1 = img1.detach().cpu().numpy()\n",
    "    img2 = img2.detach().cpu().numpy()\n",
    "    return psnr(img1, img2, data_range=2.0)\n",
    "\n",
    "def compute_ssim(img1, img2):\n",
    "    img1 = img1.detach().cpu().numpy()\n",
    "    img2 = img2.detach().cpu().numpy()\n",
    "    if len(img1.shape) == 4:\n",
    "        ssim_values = []\n",
    "        for i in range(img1.shape[0]):\n",
    "            img1_i = img1[i, 0]\n",
    "            img2_i = img2[i, 0]\n",
    "            ssim_val = ssim(img1_i, img2_i, data_range=2.0, win_size=3)\n",
    "            ssim_values.append(ssim_val)\n",
    "        return np.mean(ssim_values)\n",
    "    else:\n",
    "        return ssim(img1[0], img2[0], data_range=2.0, win_size=3)\n",
    "\n",
    "def analyze_corruption_coverage(mask, uncertainty):\n",
    "    corrupted_uncertainty = (mask * uncertainty).sum() / (mask.sum() + 1e-6)\n",
    "    uncorrupted_uncertainty = ((1 - mask) * uncertainty).sum() / ((1 - mask).sum() + 1e-6)\n",
    "    corruption_ratio = mask.mean().item()\n",
    "    return {\n",
    "        'corrupted_uncertainty': corrupted_uncertainty.item(),\n",
    "        'uncorrupted_uncertainty': uncorrupted_uncertainty.item(),\n",
    "        'corruption_ratio': corruption_ratio\n",
    "    }\n",
    "\n",
    "# Visualization functions\n",
    "def visualize_uncertainty_and_corruption(x, uncertainty, mask, pred, config_name, epoch, save_dir='ablations'):\n",
    "    os.makedirs(save_dir, exist_ok=True)\n",
    "    \n",
    "    x_np = x.detach().cpu().numpy()\n",
    "    uncertainty_np = uncertainty.detach().cpu().numpy()\n",
    "    mask_np = mask.detach().cpu().numpy()\n",
    "    pred_np = pred.detach().cpu().numpy()\n",
    "    \n",
    "    fig, axes = plt.subplots(2, 2, figsize=(12, 12))\n",
    "    \n",
    "    axes[0, 0].imshow(x_np[0, 0], cmap='gray')\n",
    "    axes[0, 0].set_title('Original Image')\n",
    "    axes[0, 0].axis('off')\n",
    "    \n",
    "    im = axes[0, 1].imshow(uncertainty_np[0, 0], cmap='hot')\n",
    "    axes[0, 1].set_title('Uncertainty Map')\n",
    "    axes[0, 1].axis('off')\n",
    "    plt.colorbar(im, ax=axes[0, 1])\n",
    "    \n",
    "    axes[1, 0].imshow(mask_np[0, 0], cmap='gray')\n",
    "    axes[1, 0].set_title('Corruption Mask')\n",
    "    axes[1, 0].axis('off')\n",
    "    \n",
    "    axes[1, 1].imshow(pred_np[0, 0], cmap='gray')\n",
    "    axes[1, 1].set_title('Reconstruction')\n",
    "    axes[1, 1].axis('off')\n",
    "    \n",
    "    plt.suptitle(f'{config_name} - Epoch {epoch}')\n",
    "    plt.tight_layout()\n",
    "    plt.savefig(f'{save_dir}/uncertainty_analysis_{config_name}_epoch_{epoch}.png')\n",
    "    plt.close()\n",
    "\n",
    "def visualize_batch_comparison(x, x_corrupt, recon, config_name, epoch, save_dir='ablations'):\n",
    "    os.makedirs(save_dir, exist_ok=True)\n",
    "    \n",
    "    fig, axes = plt.subplots(3, 8, figsize=(20, 8))\n",
    "    \n",
    "    def plot_row(images, row_idx, title):\n",
    "        for col_idx in range(8):\n",
    "            axes[row_idx, col_idx].imshow(images[col_idx, 0].detach().cpu(), cmap='gray')\n",
    "            axes[row_idx, col_idx].axis('off')\n",
    "        axes[row_idx, 0].set_ylabel(title)\n",
    "    \n",
    "    plot_row(x, 0, 'Original')\n",
    "    plot_row(x_corrupt, 1, 'Corrupted')\n",
    "    plot_row(recon, 2, 'Reconstruction')\n",
    "    \n",
    "    plt.suptitle(f'{config_name} - Epoch {epoch}')\n",
    "    plt.tight_layout()\n",
    "    plt.savefig(f'{save_dir}/batch_comparison_{config_name}_epoch_{epoch}.png')\n",
    "    plt.close()\n",
    "\n",
    "# Training function\n",
    "def train_model(config_name, config, num_epochs=10, device='cuda' if torch.cuda.is_available() else 'cpu'):\n",
    "    print(f\"\\nTraining {config_name} configuration\")\n",
    "    \n",
    "    transform = transforms.Compose([\n",
    "        transforms.ToTensor(),\n",
    "        transforms.Lambda(lambda x: x * 2 - 1)\n",
    "    ])\n",
    "    mnist = datasets.MNIST(root='.', train=True, download=True, transform=transform)\n",
    "    dataloader = DataLoader(mnist, batch_size=128, shuffle=True)\n",
    "    \n",
    "    model = SimpleUNet().to(device)\n",
    "    optimizer = torch.optim.Adam(model.parameters(), lr=1e-3)\n",
    "    \n",
    "    losses = []\n",
    "    psnr_values = []\n",
    "    ssim_values = []\n",
    "    corruption_metrics = []\n",
    "    \n",
    "    for epoch in range(num_epochs):\n",
    "        model.train()\n",
    "        epoch_losses = []\n",
    "        epoch_psnr = []\n",
    "        epoch_ssim = []\n",
    "        epoch_corruption_metrics = []\n",
    "        \n",
    "        for x, _ in tqdm(dataloader, desc=f\"Epoch {epoch+1}/{num_epochs}\"):\n",
    "            x = x.to(device)\n",
    "            \n",
    "            unc = compute_uncertainty(model, x, config['num_samples'])\n",
    "            mask = generate_mask(\n",
    "                unc, \n",
    "                config['alpha'], \n",
    "                config['tau'], \n",
    "                config['invert_uncertainty'],\n",
    "                config['random_corruption']\n",
    "            )\n",
    "            x_corrupt = corrupt_input(x, mask)\n",
    "            pred = model(x_corrupt)\n",
    "            \n",
    "            loss = F.mse_loss(pred, x) + regularize_mask(mask, config['lambda_reg'])\n",
    "            \n",
    "            optimizer.zero_grad()\n",
    "            loss.backward()\n",
    "            optimizer.step()\n",
    "            \n",
    "            epoch_losses.append(loss.item())\n",
    "            epoch_psnr.append(compute_psnr(pred, x))\n",
    "            epoch_ssim.append(compute_ssim(pred, x))\n",
    "            epoch_corruption_metrics.append(analyze_corruption_coverage(mask, unc))\n",
    "        \n",
    "        losses.append(np.mean(epoch_losses))\n",
    "        psnr_values.append(np.mean(epoch_psnr))\n",
    "        ssim_values.append(np.mean(epoch_ssim))\n",
    "        \n",
    "        avg_corruption_metrics = {\n",
    "            'corrupted_uncertainty': np.mean([m['corrupted_uncertainty'] for m in epoch_corruption_metrics]),\n",
    "            'uncorrupted_uncertainty': np.mean([m['uncorrupted_uncertainty'] for m in epoch_corruption_metrics]),\n",
    "            'corruption_ratio': np.mean([m['corruption_ratio'] for m in epoch_corruption_metrics])\n",
    "        }\n",
    "        corruption_metrics.append(avg_corruption_metrics)\n",
    "        \n",
    "        print(f\"Epoch {epoch+1}:\")\n",
    "        print(f\"  Loss = {losses[-1]:.4f}\")\n",
    "        print(f\"  PSNR = {psnr_values[-1]:.2f}\")\n",
    "        print(f\"  SSIM = {ssim_values[-1]:.4f}\")\n",
    "        print(f\"  Corruption Ratio = {avg_corruption_metrics['corruption_ratio']:.4f}\")\n",
    "        print(f\"  Corrupted/Uncorrupted Uncertainty = {avg_corruption_metrics['corrupted_uncertainty']:.4f}/{avg_corruption_metrics['uncorrupted_uncertainty']:.4f}\")\n",
    "        \n",
    "        if (epoch + 1) % 5 == 0:\n",
    "            model.eval()\n",
    "            with torch.no_grad():\n",
    "                x, _ = next(iter(dataloader))\n",
    "                x = x.to(device)[:8]\n",
    "                \n",
    "                unc = compute_uncertainty(model, x, config['num_samples'])\n",
    "                mask = generate_mask(\n",
    "                    unc, \n",
    "                    config['alpha'], \n",
    "                    config['tau'], \n",
    "                    config['invert_uncertainty'],\n",
    "                    config['random_corruption']\n",
    "                )\n",
    "                x_corrupt = corrupt_input(x, mask)\n",
    "                pred = model(x_corrupt)\n",
    "                \n",
    "                visualize_uncertainty_and_corruption(\n",
    "                    x, unc, mask, pred,\n",
    "                    config_name, epoch + 1\n",
    "                )\n",
    "                \n",
    "                visualize_batch_comparison(\n",
    "                    x, x_corrupt, pred,\n",
    "                    config_name, epoch + 1\n",
    "                )\n",
    "    \n",
    "    return {\n",
    "        'losses': losses,\n",
    "        'psnr': psnr_values,\n",
    "        'ssim': ssim_values,\n",
    "        'corruption_metrics': corruption_metrics,\n",
    "        'config': config\n",
    "    }\n",
    "\n",
    "# Plot results\n",
    "def plot_comparison(results):\n",
    "    plt.figure(figsize=(15, 10))\n",
    "    \n",
    "    # Plot losses\n",
    "    plt.subplot(2, 2, 1)\n",
    "    for config_name, result in results.items():\n",
    "        plt.plot(result['losses'], label=config_name)\n",
    "    plt.title('Training Losses')\n",
    "    plt.xlabel('Epochs')\n",
    "    plt.ylabel('Loss')\n",
    "    plt.legend()\n",
    "    \n",
    "    # Plot PSNR\n",
    "    plt.subplot(2, 2, 2)\n",
    "    for config_name, result in results.items():\n",
    "        plt.plot(result['psnr'], label=config_name)\n",
    "    plt.title('PSNR')\n",
    "    plt.xlabel('Epochs')\n",
    "    plt.ylabel('PSNR (dB)')\n",
    "    plt.legend()\n",
    "    \n",
    "    # Plot SSIM\n",
    "    plt.subplot(2, 2, 3)\n",
    "    for config_name, result in results.items():\n",
    "        plt.plot(result['ssim'], label=config_name)\n",
    "    plt.title('SSIM')\n",
    "    plt.xlabel('Epochs')\n",
    "    plt.ylabel('SSIM')\n",
    "    plt.legend()\n",
    "    \n",
    "    # Plot corruption ratio\n",
    "    plt.subplot(2, 2, 4)\n",
    "    for config_name, result in results.items():\n",
    "        corruption_ratios = [m['corruption_ratio'] for m in result['corruption_metrics']]\n",
    "        plt.plot(corruption_ratios, label=config_name)\n",
    "    plt.title('Corruption Ratio')\n",
    "    plt.xlabel('Epochs')\n",
    "    plt.ylabel('Ratio')\n",
    "    plt.legend()\n",
    "    \n",
    "    plt.tight_layout()\n",
    "    plt.savefig('/data/healthy-ml/scratch/abinitha/68300-final/ablations/ablation_results/uncertainty_comparison.png')\n",
    "    plt.close()\n",
    "\n",
    "device = torch.device(\"cuda\" if torch.cuda.is_available() else \"cpu\")\n",
    "results = {}\n",
    "\n",
    "for config_name, config in configs.items():\n",
    "    results[config_name] = train_model(\n",
    "        config_name,\n",
    "        config,\n",
    "        num_epochs=10,\n",
    "        device=device\n",
    "    )\n",
    "\n",
    "plot_comparison(results)\n",
    "\n",
    "# Print final results\n",
    "print(\"\\nFinal Results:\")\n",
    "print(\"=============\")\n",
    "for config_name, result in results.items():\n",
    "    print(f\"\\nConfiguration: {config_name}\")\n",
    "    print(f\"Final Loss: {result['losses'][-1]:.4f}\")\n",
    "    print(f\"Final PSNR: {result['psnr'][-1]:.2f}\")\n",
    "    print(f\"Final SSIM: {result['ssim'][-1]:.4f}\")\n",
    "    print(f\"Final Corruption Ratio: {result['corruption_metrics'][-1]['corruption_ratio']:.4f}\")\n",
    "    print(f\"Corrupted/Uncorrupted Uncertainty: {result['corruption_metrics'][-1]['corrupted_uncertainty']:.4f}/{result['corruption_metrics'][-1]['uncorrupted_uncertainty']:.4f}\") "
   ]
  },
  {
   "cell_type": "markdown",
   "metadata": {},
   "source": [
    "# CIFAR-10 Results"
   ]
  },
  {
   "cell_type": "code",
   "execution_count": null,
   "metadata": {},
   "outputs": [],
   "source": [
    "import torch\n",
    "import torch.nn as nn\n",
    "import torch.nn.functional as F\n",
    "from torchvision import datasets, transforms, utils\n",
    "from torch.utils.data import DataLoader\n",
    "import matplotlib.pyplot as plt\n",
    "import numpy as np\n",
    "import os\n",
    "import math\n",
    "from tqdm import tqdm\n",
    "from skimage.metrics import structural_similarity as ssim\n",
    "from skimage.metrics import peak_signal_noise_ratio as psnr\n",
    "\n",
    "# Define configurations\n",
    "configs = {\n",
    "    'baseline': {\n",
    "        'alpha': 10.0,\n",
    "        'tau': 0.5,\n",
    "        'lambda_reg': 1e-3,\n",
    "        'corruption_prob': 0.5,\n",
    "        'num_samples': 5,\n",
    "        'invert_uncertainty': False,\n",
    "        'random_corruption': False\n",
    "    },\n",
    "    'inverted_uncertainty': {\n",
    "        'alpha': 10.0,\n",
    "        'tau': 0.5,\n",
    "        'lambda_reg': 1e-3,\n",
    "        'corruption_prob': 0.5,\n",
    "        'num_samples': 5,\n",
    "        'invert_uncertainty': True,\n",
    "        'random_corruption': False\n",
    "    },\n",
    "    'random_corruption': {\n",
    "        'alpha': 10.0,\n",
    "        'tau': 0.5,\n",
    "        'lambda_reg': 1e-3,\n",
    "        'corruption_prob': 0.5,\n",
    "        'num_samples': 5,\n",
    "        'invert_uncertainty': False,\n",
    "        'random_corruption': True\n",
    "    }\n",
    "}\n",
    "\n",
    "# Model architecture for CIFAR-10 (3 channels)\n",
    "class ResidualBlock(nn.Module):\n",
    "    def __init__(self, channels):\n",
    "        super().__init__()\n",
    "        self.block = nn.Sequential(\n",
    "            nn.Conv2d(channels, channels, 3, padding=1),\n",
    "            nn.BatchNorm2d(channels),\n",
    "            nn.ReLU(),\n",
    "            nn.Conv2d(channels, channels, 3, padding=1),\n",
    "            nn.BatchNorm2d(channels)\n",
    "        )\n",
    "    def forward(self, x):\n",
    "        return x + self.block(x)\n",
    "\n",
    "class SimpleUNet(nn.Module):\n",
    "    def __init__(self, channels=64):\n",
    "        super().__init__()\n",
    "        # Encoder\n",
    "        self.down1 = nn.Sequential(\n",
    "            nn.Conv2d(3, channels, 3, padding=1, stride=2),\n",
    "            nn.BatchNorm2d(channels),\n",
    "            nn.ReLU()\n",
    "        )\n",
    "        self.down2 = nn.Sequential(\n",
    "            nn.Conv2d(channels, channels*2, 3, padding=1, stride=2),\n",
    "            nn.BatchNorm2d(channels*2),\n",
    "            nn.ReLU()\n",
    "        )\n",
    "        self.down3 = nn.Sequential(\n",
    "            nn.Conv2d(channels*2, channels*4, 3, padding=1, stride=2),\n",
    "            nn.BatchNorm2d(channels*4),\n",
    "            nn.ReLU()\n",
    "        )\n",
    "        \n",
    "        # Residual blocks\n",
    "        self.res1 = ResidualBlock(channels*4)\n",
    "        self.res2 = ResidualBlock(channels*4)\n",
    "        \n",
    "        # Decoder\n",
    "        self.up1 = nn.Sequential(\n",
    "            nn.ConvTranspose2d(channels*4, channels*2, 4, stride=2, padding=1),\n",
    "            nn.BatchNorm2d(channels*2),\n",
    "            nn.ReLU()\n",
    "        )\n",
    "        self.up2 = nn.Sequential(\n",
    "            nn.ConvTranspose2d(channels*2, channels, 4, stride=2, padding=1),\n",
    "            nn.BatchNorm2d(channels),\n",
    "            nn.ReLU()\n",
    "        )\n",
    "        self.up3 = nn.Sequential(\n",
    "            nn.ConvTranspose2d(channels, 3, 4, stride=2, padding=1),\n",
    "            nn.Tanh()\n",
    "        )\n",
    "        \n",
    "    def forward(self, x):\n",
    "        # Encoder\n",
    "        x1 = self.down1(x)\n",
    "        x2 = self.down2(x1)\n",
    "        x3 = self.down3(x2)\n",
    "        \n",
    "        # Residual blocks\n",
    "        x4 = self.res1(x3)\n",
    "        x5 = self.res2(x4)\n",
    "        \n",
    "        # Decoder\n",
    "        x6 = self.up1(x5)\n",
    "        x7 = self.up2(x6)\n",
    "        x8 = self.up3(x7)\n",
    "        \n",
    "        return x8\n",
    "\n",
    "# Utility functions\n",
    "def compute_uncertainty(model, x, num_samples=5):\n",
    "    model.train()\n",
    "    preds = [model(x) for _ in range(num_samples)]\n",
    "    model.eval()\n",
    "    return torch.var(torch.stack(preds), dim=0).mean(1, keepdim=True)\n",
    "\n",
    "def generate_mask(uncertainty, alpha=10.0, tau=0.5, invert_uncertainty=False, random_corruption=False):\n",
    "    if random_corruption:\n",
    "        # Generate random mask with same shape as uncertainty\n",
    "        return torch.bernoulli(torch.ones_like(uncertainty) * 0.5).detach()\n",
    "    \n",
    "    if invert_uncertainty:\n",
    "        uncertainty = 1.0 - uncertainty\n",
    "    prob = torch.sigmoid(alpha * (uncertainty - tau))\n",
    "    return torch.bernoulli(prob).detach()\n",
    "\n",
    "def regularize_mask(mask, lambda_reg=1e-3):\n",
    "    return lambda_reg * mask.mean()\n",
    "\n",
    "def corrupt_input(x, mask):\n",
    "    noise = torch.randn_like(x)\n",
    "    return mask * noise + (1 - mask) * x\n",
    "\n",
    "def compute_psnr(img1, img2):\n",
    "    img1 = img1.detach().cpu().numpy()\n",
    "    img2 = img2.detach().cpu().numpy()\n",
    "    return psnr(img1, img2, data_range=2.0)\n",
    "\n",
    "def compute_ssim(img1, img2):\n",
    "    img1 = img1.detach().cpu().numpy()\n",
    "    img2 = img2.detach().cpu().numpy()\n",
    "    if len(img1.shape) == 4:\n",
    "        ssim_values = []\n",
    "        for i in range(img1.shape[0]):\n",
    "            img1_i = img1[i].transpose(1, 2, 0)  # Convert from CxHxW to HxWxC\n",
    "            img2_i = img2[i].transpose(1, 2, 0)\n",
    "            ssim_val = ssim(img1_i, img2_i, data_range=2.0, win_size=3, channel_axis=2)\n",
    "            ssim_values.append(ssim_val)\n",
    "        return np.mean(ssim_values)\n",
    "    else:\n",
    "        img1 = img1.transpose(1, 2, 0)\n",
    "        img2 = img2.transpose(1, 2, 0)\n",
    "        return ssim(img1, img2, data_range=2.0, win_size=3, channel_axis=2)\n",
    "\n",
    "def analyze_corruption_coverage(mask, uncertainty):\n",
    "    corrupted_uncertainty = (mask * uncertainty).sum() / (mask.sum() + 1e-6)\n",
    "    uncorrupted_uncertainty = ((1 - mask) * uncertainty).sum() / ((1 - mask).sum() + 1e-6)\n",
    "    corruption_ratio = mask.mean().item()\n",
    "    return {\n",
    "        'corrupted_uncertainty': corrupted_uncertainty.item(),\n",
    "        'uncorrupted_uncertainty': uncorrupted_uncertainty.item(),\n",
    "        'corruption_ratio': corruption_ratio\n",
    "    }\n",
    "\n",
    "# Visualization functions\n",
    "def visualize_uncertainty_and_corruption(x, uncertainty, mask, pred, config_name, epoch, save_dir='visualizations'):\n",
    "    os.makedirs(save_dir, exist_ok=True)\n",
    "    \n",
    "    x_np = x.detach().cpu().numpy()\n",
    "    uncertainty_np = uncertainty.detach().cpu().numpy()\n",
    "    mask_np = mask.detach().cpu().numpy()\n",
    "    pred_np = pred.detach().cpu().numpy()\n",
    "    \n",
    "    fig, axes = plt.subplots(2, 2, figsize=(12, 12))\n",
    "    \n",
    "    # Convert from CxHxW to HxWxC for RGB images\n",
    "    x_np = x_np[0].transpose(1, 2, 0)\n",
    "    pred_np = pred_np[0].transpose(1, 2, 0)\n",
    "    \n",
    "    # Normalize images for display\n",
    "    x_np = (x_np + 1) / 2\n",
    "    pred_np = (pred_np + 1) / 2\n",
    "    \n",
    "    axes[0, 0].imshow(x_np)\n",
    "    axes[0, 0].set_title('Original Image')\n",
    "    axes[0, 0].axis('off')\n",
    "    \n",
    "    im = axes[0, 1].imshow(uncertainty_np[0, 0], cmap='hot')\n",
    "    axes[0, 1].set_title('Uncertainty Map')\n",
    "    axes[0, 1].axis('off')\n",
    "    plt.colorbar(im, ax=axes[0, 1])\n",
    "    \n",
    "    axes[1, 0].imshow(mask_np[0, 0], cmap='gray')\n",
    "    axes[1, 0].set_title('Corruption Mask')\n",
    "    axes[1, 0].axis('off')\n",
    "    \n",
    "    axes[1, 1].imshow(pred_np)\n",
    "    axes[1, 1].set_title('Reconstruction')\n",
    "    axes[1, 1].axis('off')\n",
    "    \n",
    "    plt.suptitle(f'{config_name} - Epoch {epoch}')\n",
    "    plt.tight_layout()\n",
    "    plt.savefig(f'{save_dir}/uncertainty_analysis_{config_name}_epoch_{epoch}.png')\n",
    "    plt.close()\n",
    "\n",
    "def visualize_batch_comparison(x, x_corrupt, recon, config_name, epoch, save_dir='visualizations'):\n",
    "    os.makedirs(save_dir, exist_ok=True)\n",
    "    \n",
    "    fig, axes = plt.subplots(3, 8, figsize=(20, 8))\n",
    "    \n",
    "    def plot_row(images, row_idx, title):\n",
    "        for col_idx in range(8):\n",
    "            img = images[col_idx].detach().cpu().numpy().transpose(1, 2, 0)\n",
    "            img = (img + 1) / 2  # Normalize for display\n",
    "            axes[row_idx, col_idx].imshow(img)\n",
    "            axes[row_idx, col_idx].axis('off')\n",
    "        axes[row_idx, 0].set_ylabel(title)\n",
    "    \n",
    "    plot_row(x, 0, 'Original')\n",
    "    plot_row(x_corrupt, 1, 'Corrupted')\n",
    "    plot_row(recon, 2, 'Reconstruction')\n",
    "    \n",
    "    plt.suptitle(f'{config_name} - Epoch {epoch}')\n",
    "    plt.tight_layout()\n",
    "    plt.savefig(f'{save_dir}/batch_comparison_{config_name}_epoch_{epoch}.png')\n",
    "    plt.close()\n",
    "\n",
    "# Training function\n",
    "def train_model(config_name, config, num_epochs=10, device='cuda' if torch.cuda.is_available() else 'cpu'):\n",
    "    print(f\"\\nTraining {config_name} configuration\")\n",
    "    \n",
    "    transform = transforms.Compose([\n",
    "        transforms.ToTensor(),\n",
    "        transforms.Lambda(lambda x: x * 2 - 1)\n",
    "    ])\n",
    "    cifar = datasets.CIFAR10(root='.', train=True, download=True, transform=transform)\n",
    "    dataloader = DataLoader(cifar, batch_size=128, shuffle=True)\n",
    "    \n",
    "    model = SimpleUNet().to(device)\n",
    "    optimizer = torch.optim.Adam(model.parameters(), lr=1e-3)\n",
    "    \n",
    "    losses = []\n",
    "    psnr_values = []\n",
    "    ssim_values = []\n",
    "    corruption_metrics = []\n",
    "    \n",
    "    for epoch in range(num_epochs):\n",
    "        model.train()\n",
    "        epoch_losses = []\n",
    "        epoch_psnr = []\n",
    "        epoch_ssim = []\n",
    "        epoch_corruption_metrics = []\n",
    "        \n",
    "        for x, _ in tqdm(dataloader, desc=f\"Epoch {epoch+1}/{num_epochs}\"):\n",
    "            x = x.to(device)\n",
    "            \n",
    "            unc = compute_uncertainty(model, x, config['num_samples'])\n",
    "            mask = generate_mask(\n",
    "                unc, \n",
    "                config['alpha'], \n",
    "                config['tau'], \n",
    "                config['invert_uncertainty'],\n",
    "                config['random_corruption']\n",
    "            )\n",
    "            x_corrupt = corrupt_input(x, mask)\n",
    "            pred = model(x_corrupt)\n",
    "            \n",
    "            loss = F.mse_loss(pred, x) + regularize_mask(mask, config['lambda_reg'])\n",
    "            \n",
    "            optimizer.zero_grad()\n",
    "            loss.backward()\n",
    "            optimizer.step()\n",
    "            \n",
    "            epoch_losses.append(loss.item())\n",
    "            epoch_psnr.append(compute_psnr(pred, x))\n",
    "            epoch_ssim.append(compute_ssim(pred, x))\n",
    "            epoch_corruption_metrics.append(analyze_corruption_coverage(mask, unc))\n",
    "        \n",
    "        losses.append(np.mean(epoch_losses))\n",
    "        psnr_values.append(np.mean(epoch_psnr))\n",
    "        ssim_values.append(np.mean(epoch_ssim))\n",
    "        \n",
    "        avg_corruption_metrics = {\n",
    "            'corrupted_uncertainty': np.mean([m['corrupted_uncertainty'] for m in epoch_corruption_metrics]),\n",
    "            'uncorrupted_uncertainty': np.mean([m['uncorrupted_uncertainty'] for m in epoch_corruption_metrics]),\n",
    "            'corruption_ratio': np.mean([m['corruption_ratio'] for m in epoch_corruption_metrics])\n",
    "        }\n",
    "        corruption_metrics.append(avg_corruption_metrics)\n",
    "        \n",
    "        print(f\"Epoch {epoch+1}:\")\n",
    "        print(f\"  Loss = {losses[-1]:.4f}\")\n",
    "        print(f\"  PSNR = {psnr_values[-1]:.2f}\")\n",
    "        print(f\"  SSIM = {ssim_values[-1]:.4f}\")\n",
    "        print(f\"  Corruption Ratio = {avg_corruption_metrics['corruption_ratio']:.4f}\")\n",
    "        print(f\"  Corrupted/Uncorrupted Uncertainty = {avg_corruption_metrics['corrupted_uncertainty']:.4f}/{avg_corruption_metrics['uncorrupted_uncertainty']:.4f}\")\n",
    "        \n",
    "        if (epoch + 1) % 5 == 0:\n",
    "            model.eval()\n",
    "            with torch.no_grad():\n",
    "                x, _ = next(iter(dataloader))\n",
    "                x = x.to(device)[:8]\n",
    "                \n",
    "                unc = compute_uncertainty(model, x, config['num_samples'])\n",
    "                mask = generate_mask(\n",
    "                    unc, \n",
    "                    config['alpha'], \n",
    "                    config['tau'], \n",
    "                    config['invert_uncertainty'],\n",
    "                    config['random_corruption']\n",
    "                )\n",
    "                x_corrupt = corrupt_input(x, mask)\n",
    "                pred = model(x_corrupt)\n",
    "                \n",
    "                visualize_uncertainty_and_corruption(\n",
    "                    x, unc, mask, pred,\n",
    "                    config_name, epoch + 1\n",
    "                )\n",
    "                \n",
    "                visualize_batch_comparison(\n",
    "                    x, x_corrupt, pred,\n",
    "                    config_name, epoch + 1\n",
    "                )\n",
    "    \n",
    "    return {\n",
    "        'losses': losses,\n",
    "        'psnr': psnr_values,\n",
    "        'ssim': ssim_values,\n",
    "        'corruption_metrics': corruption_metrics,\n",
    "        'config': config\n",
    "    }\n",
    "\n",
    "# Plot results\n",
    "def plot_comparison(results):\n",
    "    plt.figure(figsize=(15, 10))\n",
    "    \n",
    "    # Plot losses\n",
    "    plt.subplot(2, 2, 1)\n",
    "    for config_name, result in results.items():\n",
    "        plt.plot(result['losses'], label=config_name)\n",
    "    plt.title('Training Losses')\n",
    "    plt.xlabel('Epochs')\n",
    "    plt.ylabel('Loss')\n",
    "    plt.legend()\n",
    "    \n",
    "    # Plot PSNR\n",
    "    plt.subplot(2, 2, 2)\n",
    "    for config_name, result in results.items():\n",
    "        plt.plot(result['psnr'], label=config_name)\n",
    "    plt.title('PSNR')\n",
    "    plt.xlabel('Epochs')\n",
    "    plt.ylabel('PSNR (dB)')\n",
    "    plt.legend()\n",
    "    \n",
    "    # Plot SSIM\n",
    "    plt.subplot(2, 2, 3)\n",
    "    for config_name, result in results.items():\n",
    "        plt.plot(result['ssim'], label=config_name)\n",
    "    plt.title('SSIM')\n",
    "    plt.xlabel('Epochs')\n",
    "    plt.ylabel('SSIM')\n",
    "    plt.legend()\n",
    "    \n",
    "    # Plot corruption ratio\n",
    "    plt.subplot(2, 2, 4)\n",
    "    for config_name, result in results.items():\n",
    "        corruption_ratios = [m['corruption_ratio'] for m in result['corruption_metrics']]\n",
    "        plt.plot(corruption_ratios, label=config_name)\n",
    "    plt.title('Corruption Ratio')\n",
    "    plt.xlabel('Epochs')\n",
    "    plt.ylabel('Ratio')\n",
    "    plt.legend()\n",
    "    \n",
    "    plt.tight_layout()\n",
    "    plt.savefig('cifar_uncertainty_comparison.png')\n",
    "    plt.close()\n",
    "\n",
    "\n",
    "device = torch.device(\"cuda\" if torch.cuda.is_available() else \"cpu\")\n",
    "results = {}\n",
    "\n",
    "for config_name, config in configs.items():\n",
    "    results[config_name] = train_model(\n",
    "        config_name,\n",
    "        config,\n",
    "        num_epochs=10,\n",
    "        device=device\n",
    "    )\n",
    "\n",
    "plot_comparison(results)\n",
    "\n",
    "# Print final results\n",
    "print(\"\\nFinal Results:\")\n",
    "print(\"=============\")\n",
    "for config_name, result in results.items():\n",
    "    print(f\"\\nConfiguration: {config_name}\")\n",
    "    print(f\"Final Loss: {result['losses'][-1]:.4f}\")\n",
    "    print(f\"Final PSNR: {result['psnr'][-1]:.2f}\")\n",
    "    print(f\"Final SSIM: {result['ssim'][-1]:.4f}\")\n",
    "    print(f\"Final Corruption Ratio: {result['corruption_metrics'][-1]['corruption_ratio']:.4f}\")\n",
    "    print(f\"Corrupted/Uncorrupted Uncertainty: {result['corruption_metrics'][-1]['corrupted_uncertainty']:.4f}/{result['corruption_metrics'][-1]['uncorrupted_uncertainty']:.4f}\") "
   ]
  }
 ],
 "metadata": {
  "accelerator": "GPU",
  "colab": {
   "gpuType": "T4",
   "provenance": [],
   "toc_visible": true
  },
  "kernelspec": {
   "display_name": "detect",
   "language": "python",
   "name": "python3"
  },
  "language_info": {
   "codemirror_mode": {
    "name": "ipython",
    "version": 3
   },
   "file_extension": ".py",
   "mimetype": "text/x-python",
   "name": "python",
   "nbconvert_exporter": "python",
   "pygments_lexer": "ipython3",
   "version": "3.12.7"
  }
 },
 "nbformat": 4,
 "nbformat_minor": 0
}
